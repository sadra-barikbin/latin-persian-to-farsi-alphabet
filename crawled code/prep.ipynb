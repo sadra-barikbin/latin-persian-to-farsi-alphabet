{
 "cells": [
  {
   "cell_type": "code",
   "execution_count": 1,
   "id": "15e23316-08cb-4a52-a3e5-6e9031876326",
   "metadata": {},
   "outputs": [],
   "source": [
    "import numpy as np\n",
    "import pandas as pd\n",
    "import re"
   ]
  },
  {
   "cell_type": "code",
   "execution_count": 5,
   "id": "924f53c2-a7fc-4218-8b14-df850446e926",
   "metadata": {},
   "outputs": [],
   "source": [
    "def correct(word, fing):\n",
    "    fing = re.sub('ā', 'aa', fing)\n",
    "    fing = re.sub('\\[', '', fing)\n",
    "    fing = re.sub('\\]', '', fing)\n",
    "    fing = re.sub('x', 'kh', fing)\n",
    "    fing = re.sub('š', 'sh', fing)\n",
    "    fing = re.sub('ž', 'zh', fing)\n",
    "    fing = re.sub('č', 'ch', fing)\n",
    "    fing = re.sub('\\(.*\\)', '', fing)\n",
    "    fing = re.sub(\"'\", \"\", fing)\n",
    "    fing = re.sub('[\\u2005,\\u200c]', '', fing)\n",
    "    fing = str.lower(fing)\n",
    "\n",
    "    word = re.sub(' ', '', word)\n",
    "    word = re.sub('‌', '', word)\n",
    "    word = re.sub('٣', '', word)\n",
    "    word = re.sub('٢', '', word)\n",
    "    word = re.sub('١', '', word)\n",
    "    word = re.sub('ِ', '', word)\n",
    "    word = re.sub('ـ', '', word)\n",
    "    word = re.sub('[ﻠ,ﻟ]', 'ل', word)\n",
    "    word = re.sub('ﻪ', 'ه', word)\n",
    "    return word, fing"
   ]
  },
  {
   "cell_type": "code",
   "execution_count": 6,
   "id": "9d9925d4-a120-4448-925e-b244e8696c71",
   "metadata": {},
   "outputs": [],
   "source": [
    "cp = set()\n",
    "def extract_fing(df, wf):\n",
    "    for index, row in df.iterrows():\n",
    "        if(type(row['spell']) == float):\n",
    "            continue\n",
    "        word, fing = correct(row['word'], row['spell'][1:-1])\n",
    "        if ',' in fing or ' ' in fing or '-' in fing or '.' in word or 'ﻫ' in word or 'ﺑ' in word:\n",
    "            continue\n",
    "        for c in word:\n",
    "            cp.add(c)\n",
    "        wf.add((word, fing))"
   ]
  },
  {
   "cell_type": "code",
   "execution_count": null,
   "id": "e2c3f18b-9e3d-4cec-8079-154a95d55f53",
   "metadata": {},
   "outputs": [
    {
     "name": "stdout",
     "output_type": "stream",
     "text": [
      "{'ث', 'و', 'ذ', 'ئ', 'پ', 'ح', 'ض', 'ک', 'ب', 'ف', 'ر', 'خ', 'ص', 'ط', 'ت', 'ن', 'ؤ', 'ه', 'ا', 'ج', 'س', 'م', 'آ', 'چ', 'ژ', 'غ', 'ة', 'ی', 'ق', 'گ', 'ز', 'ع', 'ظ', 'ش', 'د', 'ل'}\n"
     ]
    }
   ],
   "source": [
    "word_fing = set()\n",
    "extract_fing(pd.read_csv('word.csv'), word_fing)\n",
    "print(cp)\n",
    "extract_fing(pd.read_csv('word2.csv'), word_fing)\n",
    "extract_fing(pd.read_csv('word3.csv'), word_fing)\n",
    "extract_fing(pd.read_csv('word4.csv'), word_fing)"
   ]
  },
  {
   "cell_type": "code",
   "execution_count": 110,
   "id": "46b16028-dd9d-48b7-9c69-aa49e6e582ec",
   "metadata": {},
   "outputs": [],
   "source": [
    "df = pd.DataFrame(word_fing, columns=['Persian', 'Finglish'])"
   ]
  },
  {
   "cell_type": "code",
   "execution_count": 111,
   "id": "cbd7f9dd-730c-4816-acc0-672d9beafc64",
   "metadata": {},
   "outputs": [],
   "source": [
    "df.to_csv('word_fing.csv')"
   ]
  },
  {
   "cell_type": "code",
   "execution_count": null,
   "id": "255eee23-a697-4867-b2af-c7b7f9375390",
   "metadata": {},
   "outputs": [],
   "source": []
  }
 ],
 "metadata": {
  "kernelspec": {
   "display_name": "Python 3 (ipykernel)",
   "language": "python",
   "name": "python3"
  },
  "language_info": {
   "codemirror_mode": {
    "name": "ipython",
    "version": 3
   },
   "file_extension": ".py",
   "mimetype": "text/x-python",
   "name": "python",
   "nbconvert_exporter": "python",
   "pygments_lexer": "ipython3",
   "version": "3.8.12"
  }
 },
 "nbformat": 4,
 "nbformat_minor": 5
}
