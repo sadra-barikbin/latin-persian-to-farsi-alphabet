{
  "cells": [
    {
      "cell_type": "markdown",
      "metadata": {
        "id": "view-in-github",
        "colab_type": "text"
      },
      "source": [
        "<a href=\"https://colab.research.google.com/github/sadra-barikbin/latin-persian-to-farsi-alphabet/blob/main/seq2seq_fi.ipynb\" target=\"_parent\"><img src=\"https://colab.research.google.com/assets/colab-badge.svg\" alt=\"Open In Colab\"/></a>"
      ]
    },
    {
      "cell_type": "markdown",
      "metadata": {
        "id": "swymtxpl7W7w"
      },
      "source": [
        "## Setup"
      ]
    },
    {
      "cell_type": "code",
      "source": [
        "!pip install tensorflow-text pytorch-ignite"
      ],
      "metadata": {
        "colab": {
          "base_uri": "https://localhost:8080/"
        },
        "id": "JUxnI-7Hn6wu",
        "outputId": "0337b33c-cd1e-48c8-b07f-ee9183514a0d"
      },
      "execution_count": 88,
      "outputs": [
        {
          "output_type": "stream",
          "name": "stdout",
          "text": [
            "Requirement already satisfied: tensorflow-text in /usr/local/lib/python3.7/dist-packages (2.7.3)\n",
            "Collecting pytorch-ignite\n",
            "  Downloading pytorch_ignite-0.4.8-py3-none-any.whl (251 kB)\n",
            "\u001b[K     |████████████████████████████████| 251 kB 5.8 MB/s \n",
            "\u001b[?25hRequirement already satisfied: tensorflow-hub>=0.8.0 in /usr/local/lib/python3.7/dist-packages (from tensorflow-text) (0.12.0)\n",
            "Requirement already satisfied: tensorflow<2.8,>=2.7.0 in /usr/local/lib/python3.7/dist-packages (from tensorflow-text) (2.7.0)\n",
            "Requirement already satisfied: tensorflow-io-gcs-filesystem>=0.21.0 in /usr/local/lib/python3.7/dist-packages (from tensorflow<2.8,>=2.7.0->tensorflow-text) (0.23.1)\n",
            "Requirement already satisfied: termcolor>=1.1.0 in /usr/local/lib/python3.7/dist-packages (from tensorflow<2.8,>=2.7.0->tensorflow-text) (1.1.0)\n",
            "Requirement already satisfied: h5py>=2.9.0 in /usr/local/lib/python3.7/dist-packages (from tensorflow<2.8,>=2.7.0->tensorflow-text) (3.1.0)\n",
            "Requirement already satisfied: libclang>=9.0.1 in /usr/local/lib/python3.7/dist-packages (from tensorflow<2.8,>=2.7.0->tensorflow-text) (12.0.0)\n",
            "Requirement already satisfied: opt-einsum>=2.3.2 in /usr/local/lib/python3.7/dist-packages (from tensorflow<2.8,>=2.7.0->tensorflow-text) (3.3.0)\n",
            "Requirement already satisfied: six>=1.12.0 in /usr/local/lib/python3.7/dist-packages (from tensorflow<2.8,>=2.7.0->tensorflow-text) (1.15.0)\n",
            "Requirement already satisfied: wrapt>=1.11.0 in /usr/local/lib/python3.7/dist-packages (from tensorflow<2.8,>=2.7.0->tensorflow-text) (1.13.3)\n",
            "Requirement already satisfied: wheel<1.0,>=0.32.0 in /usr/local/lib/python3.7/dist-packages (from tensorflow<2.8,>=2.7.0->tensorflow-text) (0.37.1)\n",
            "Requirement already satisfied: gast<0.5.0,>=0.2.1 in /usr/local/lib/python3.7/dist-packages (from tensorflow<2.8,>=2.7.0->tensorflow-text) (0.4.0)\n",
            "Requirement already satisfied: flatbuffers<3.0,>=1.12 in /usr/local/lib/python3.7/dist-packages (from tensorflow<2.8,>=2.7.0->tensorflow-text) (2.0)\n",
            "Requirement already satisfied: keras-preprocessing>=1.1.1 in /usr/local/lib/python3.7/dist-packages (from tensorflow<2.8,>=2.7.0->tensorflow-text) (1.1.2)\n",
            "Requirement already satisfied: typing-extensions>=3.6.6 in /usr/local/lib/python3.7/dist-packages (from tensorflow<2.8,>=2.7.0->tensorflow-text) (3.10.0.2)\n",
            "Requirement already satisfied: tensorflow-estimator<2.8,~=2.7.0rc0 in /usr/local/lib/python3.7/dist-packages (from tensorflow<2.8,>=2.7.0->tensorflow-text) (2.7.0)\n",
            "Requirement already satisfied: tensorboard~=2.6 in /usr/local/lib/python3.7/dist-packages (from tensorflow<2.8,>=2.7.0->tensorflow-text) (2.7.0)\n",
            "Requirement already satisfied: numpy>=1.14.5 in /usr/local/lib/python3.7/dist-packages (from tensorflow<2.8,>=2.7.0->tensorflow-text) (1.19.5)\n",
            "Requirement already satisfied: absl-py>=0.4.0 in /usr/local/lib/python3.7/dist-packages (from tensorflow<2.8,>=2.7.0->tensorflow-text) (1.0.0)\n",
            "Requirement already satisfied: grpcio<2.0,>=1.24.3 in /usr/local/lib/python3.7/dist-packages (from tensorflow<2.8,>=2.7.0->tensorflow-text) (1.43.0)\n",
            "Requirement already satisfied: keras<2.8,>=2.7.0rc0 in /usr/local/lib/python3.7/dist-packages (from tensorflow<2.8,>=2.7.0->tensorflow-text) (2.7.0)\n",
            "Requirement already satisfied: protobuf>=3.9.2 in /usr/local/lib/python3.7/dist-packages (from tensorflow<2.8,>=2.7.0->tensorflow-text) (3.17.3)\n",
            "Requirement already satisfied: astunparse>=1.6.0 in /usr/local/lib/python3.7/dist-packages (from tensorflow<2.8,>=2.7.0->tensorflow-text) (1.6.3)\n",
            "Requirement already satisfied: google-pasta>=0.1.1 in /usr/local/lib/python3.7/dist-packages (from tensorflow<2.8,>=2.7.0->tensorflow-text) (0.2.0)\n",
            "Requirement already satisfied: cached-property in /usr/local/lib/python3.7/dist-packages (from h5py>=2.9.0->tensorflow<2.8,>=2.7.0->tensorflow-text) (1.5.2)\n",
            "Requirement already satisfied: google-auth<3,>=1.6.3 in /usr/local/lib/python3.7/dist-packages (from tensorboard~=2.6->tensorflow<2.8,>=2.7.0->tensorflow-text) (1.35.0)\n",
            "Requirement already satisfied: tensorboard-data-server<0.7.0,>=0.6.0 in /usr/local/lib/python3.7/dist-packages (from tensorboard~=2.6->tensorflow<2.8,>=2.7.0->tensorflow-text) (0.6.1)\n",
            "Requirement already satisfied: google-auth-oauthlib<0.5,>=0.4.1 in /usr/local/lib/python3.7/dist-packages (from tensorboard~=2.6->tensorflow<2.8,>=2.7.0->tensorflow-text) (0.4.6)\n",
            "Requirement already satisfied: tensorboard-plugin-wit>=1.6.0 in /usr/local/lib/python3.7/dist-packages (from tensorboard~=2.6->tensorflow<2.8,>=2.7.0->tensorflow-text) (1.8.1)\n",
            "Requirement already satisfied: setuptools>=41.0.0 in /usr/local/lib/python3.7/dist-packages (from tensorboard~=2.6->tensorflow<2.8,>=2.7.0->tensorflow-text) (57.4.0)\n",
            "Requirement already satisfied: markdown>=2.6.8 in /usr/local/lib/python3.7/dist-packages (from tensorboard~=2.6->tensorflow<2.8,>=2.7.0->tensorflow-text) (3.3.6)\n",
            "Requirement already satisfied: werkzeug>=0.11.15 in /usr/local/lib/python3.7/dist-packages (from tensorboard~=2.6->tensorflow<2.8,>=2.7.0->tensorflow-text) (1.0.1)\n",
            "Requirement already satisfied: requests<3,>=2.21.0 in /usr/local/lib/python3.7/dist-packages (from tensorboard~=2.6->tensorflow<2.8,>=2.7.0->tensorflow-text) (2.23.0)\n",
            "Requirement already satisfied: cachetools<5.0,>=2.0.0 in /usr/local/lib/python3.7/dist-packages (from google-auth<3,>=1.6.3->tensorboard~=2.6->tensorflow<2.8,>=2.7.0->tensorflow-text) (4.2.4)\n",
            "Requirement already satisfied: pyasn1-modules>=0.2.1 in /usr/local/lib/python3.7/dist-packages (from google-auth<3,>=1.6.3->tensorboard~=2.6->tensorflow<2.8,>=2.7.0->tensorflow-text) (0.2.8)\n",
            "Requirement already satisfied: rsa<5,>=3.1.4 in /usr/local/lib/python3.7/dist-packages (from google-auth<3,>=1.6.3->tensorboard~=2.6->tensorflow<2.8,>=2.7.0->tensorflow-text) (4.8)\n",
            "Requirement already satisfied: requests-oauthlib>=0.7.0 in /usr/local/lib/python3.7/dist-packages (from google-auth-oauthlib<0.5,>=0.4.1->tensorboard~=2.6->tensorflow<2.8,>=2.7.0->tensorflow-text) (1.3.0)\n",
            "Requirement already satisfied: importlib-metadata>=4.4 in /usr/local/lib/python3.7/dist-packages (from markdown>=2.6.8->tensorboard~=2.6->tensorflow<2.8,>=2.7.0->tensorflow-text) (4.10.1)\n",
            "Requirement already satisfied: zipp>=0.5 in /usr/local/lib/python3.7/dist-packages (from importlib-metadata>=4.4->markdown>=2.6.8->tensorboard~=2.6->tensorflow<2.8,>=2.7.0->tensorflow-text) (3.7.0)\n",
            "Requirement already satisfied: pyasn1<0.5.0,>=0.4.6 in /usr/local/lib/python3.7/dist-packages (from pyasn1-modules>=0.2.1->google-auth<3,>=1.6.3->tensorboard~=2.6->tensorflow<2.8,>=2.7.0->tensorflow-text) (0.4.8)\n",
            "Requirement already satisfied: certifi>=2017.4.17 in /usr/local/lib/python3.7/dist-packages (from requests<3,>=2.21.0->tensorboard~=2.6->tensorflow<2.8,>=2.7.0->tensorflow-text) (2021.10.8)\n",
            "Requirement already satisfied: idna<3,>=2.5 in /usr/local/lib/python3.7/dist-packages (from requests<3,>=2.21.0->tensorboard~=2.6->tensorflow<2.8,>=2.7.0->tensorflow-text) (2.10)\n",
            "Requirement already satisfied: urllib3!=1.25.0,!=1.25.1,<1.26,>=1.21.1 in /usr/local/lib/python3.7/dist-packages (from requests<3,>=2.21.0->tensorboard~=2.6->tensorflow<2.8,>=2.7.0->tensorflow-text) (1.24.3)\n",
            "Requirement already satisfied: chardet<4,>=3.0.2 in /usr/local/lib/python3.7/dist-packages (from requests<3,>=2.21.0->tensorboard~=2.6->tensorflow<2.8,>=2.7.0->tensorflow-text) (3.0.4)\n",
            "Requirement already satisfied: oauthlib>=3.0.0 in /usr/local/lib/python3.7/dist-packages (from requests-oauthlib>=0.7.0->google-auth-oauthlib<0.5,>=0.4.1->tensorboard~=2.6->tensorflow<2.8,>=2.7.0->tensorflow-text) (3.1.1)\n",
            "Requirement already satisfied: torch<2,>=1.3 in /usr/local/lib/python3.7/dist-packages (from pytorch-ignite) (1.10.0+cu111)\n",
            "Installing collected packages: pytorch-ignite\n",
            "Successfully installed pytorch-ignite-0.4.8\n"
          ]
        }
      ]
    },
    {
      "cell_type": "code",
      "execution_count": null,
      "metadata": {
        "id": "JjJJyJTZYebt"
      },
      "outputs": [],
      "source": [
        "import collections\n",
        "import logging\n",
        "import os\n",
        "import pathlib\n",
        "import re\n",
        "import string\n",
        "import sys\n",
        "import time\n",
        "\n",
        "import numpy as np\n",
        "import pandas as pd\n",
        "import matplotlib.pyplot as plt\n",
        "\n",
        "import tensorflow as tf\n",
        "import tensorflow_text as text"
      ]
    },
    {
      "cell_type": "markdown",
      "metadata": {
        "id": "-cCvXbPkccV1"
      },
      "source": [
        "<div style=\"direction:rtl\">\n",
        "    <h1>دادگان</h1>\n",
        "</div>"
      ]
    },
    {
      "cell_type": "code",
      "source": [
        "!wget 'https://raw.githubusercontent.com/language-ml/4-token-classification/main/Finglish2Persian/train.csv'\n",
        "!wget 'https://raw.githubusercontent.com/language-ml/4-token-classification/main/Finglish2Persian/test.csv'"
      ],
      "metadata": {
        "colab": {
          "base_uri": "https://localhost:8080/"
        },
        "id": "Ru4vBHXGnW0G",
        "outputId": "299a1862-bca5-4c0e-f781-09b166271e7f"
      },
      "execution_count": null,
      "outputs": [
        {
          "output_type": "stream",
          "name": "stdout",
          "text": [
            "--2022-01-31 17:15:37--  https://raw.githubusercontent.com/language-ml/4-token-classification/main/Finglish2Persian/train.csv\n",
            "Resolving raw.githubusercontent.com (raw.githubusercontent.com)... 185.199.109.133, 185.199.111.133, 185.199.108.133, ...\n",
            "Connecting to raw.githubusercontent.com (raw.githubusercontent.com)|185.199.109.133|:443... connected.\n",
            "HTTP request sent, awaiting response... 200 OK\n",
            "Length: 223177 (218K) [text/plain]\n",
            "Saving to: ‘train.csv’\n",
            "\n",
            "train.csv           100%[===================>] 217.95K  --.-KB/s    in 0.02s   \n",
            "\n",
            "2022-01-31 17:15:37 (12.1 MB/s) - ‘train.csv’ saved [223177/223177]\n",
            "\n",
            "--2022-01-31 17:15:37--  https://raw.githubusercontent.com/language-ml/4-token-classification/main/Finglish2Persian/test.csv\n",
            "Resolving raw.githubusercontent.com (raw.githubusercontent.com)... 185.199.108.133, 185.199.109.133, 185.199.110.133, ...\n",
            "Connecting to raw.githubusercontent.com (raw.githubusercontent.com)|185.199.108.133|:443... connected.\n",
            "HTTP request sent, awaiting response... 200 OK\n",
            "Length: 15390 (15K) [text/plain]\n",
            "Saving to: ‘test.csv’\n",
            "\n",
            "test.csv            100%[===================>]  15.03K  --.-KB/s    in 0s      \n",
            "\n",
            "2022-01-31 17:15:37 (93.1 MB/s) - ‘test.csv’ saved [15390/15390]\n",
            "\n"
          ]
        }
      ]
    },
    {
      "cell_type": "code",
      "source": [
        "from google.colab import drive\n",
        "drive.mount('/content/drive')"
      ],
      "metadata": {
        "colab": {
          "base_uri": "https://localhost:8080/"
        },
        "id": "3u3KMOhSoYNV",
        "outputId": "e919e34a-9a2f-4661-d8ae-313a5129d0e4"
      },
      "execution_count": null,
      "outputs": [
        {
          "output_type": "stream",
          "name": "stdout",
          "text": [
            "Mounted at /content/drive\n"
          ]
        }
      ]
    },
    {
      "cell_type": "code",
      "source": [
        "!cp latin-persian-to-farsi-alphabet-main.zip 'drive/My Drive'"
      ],
      "metadata": {
        "id": "2zLMhrj_s_nn"
      },
      "execution_count": null,
      "outputs": []
    },
    {
      "cell_type": "code",
      "source": [
        "!unzip 'drive/My Drive/latin-persian-to-farsi-alphabet-main.zip'"
      ],
      "metadata": {
        "colab": {
          "base_uri": "https://localhost:8080/"
        },
        "id": "I5EmCFl1s0UH",
        "outputId": "d5034904-bab2-4887-bff2-32ae58211d8f"
      },
      "execution_count": null,
      "outputs": [
        {
          "output_type": "stream",
          "name": "stdout",
          "text": [
            "Archive:  drive/My Drive/latin-persian-to-farsi-alphabet-main.zip\n",
            "d5797b16b92d1e261543280aee69e46aa71eab8b\n",
            "   creating: latin-persian-to-farsi-alphabet-main/\n",
            "  inflating: latin-persian-to-farsi-alphabet-main/NLP-HW5.pdf  \n",
            "  inflating: latin-persian-to-farsi-alphabet-main/README.md  \n",
            "   creating: latin-persian-to-farsi-alphabet-main/checkpoints/\n",
            "   creating: latin-persian-to-farsi-alphabet-main/checkpoints/train-pe/\n",
            "  inflating: latin-persian-to-farsi-alphabet-main/checkpoints/train-pe/checkpoint  \n",
            "  inflating: latin-persian-to-farsi-alphabet-main/checkpoints/train-pe/ckpt-1.data-00000-of-00001  \n",
            "  inflating: latin-persian-to-farsi-alphabet-main/checkpoints/train-pe/ckpt-1.index  \n",
            "   creating: latin-persian-to-farsi-alphabet-main/checkpoints/train/\n",
            "  inflating: latin-persian-to-farsi-alphabet-main/checkpoints/train/checkpoint  \n",
            "  inflating: latin-persian-to-farsi-alphabet-main/checkpoints/train/ckpt-1.data-00000-of-00001  \n",
            "  inflating: latin-persian-to-farsi-alphabet-main/checkpoints/train/ckpt-1.index  \n",
            "   creating: latin-persian-to-farsi-alphabet-main/dataset/\n",
            "  inflating: latin-persian-to-farsi-alphabet-main/dataset/fing.txt  \n",
            "  inflating: latin-persian-to-farsi-alphabet-main/dataset/pers.txt  \n",
            "  inflating: latin-persian-to-farsi-alphabet-main/dataset/readme.md  \n",
            "  inflating: latin-persian-to-farsi-alphabet-main/dataset/test-seq2seq-fi.csv  \n",
            "  inflating: latin-persian-to-farsi-alphabet-main/dataset/test-seq2seq-pe.csv  \n",
            "  inflating: latin-persian-to-farsi-alphabet-main/dataset/test.csv  \n",
            "  inflating: latin-persian-to-farsi-alphabet-main/dataset/train.csv  \n",
            "  inflating: latin-persian-to-farsi-alphabet-main/dataset/words.csv  \n",
            "  inflating: latin-persian-to-farsi-alphabet-main/seq2seq-fi.ipynb  \n",
            "  inflating: latin-persian-to-farsi-alphabet-main/seq2seq-pe.ipynb  \n"
          ]
        }
      ]
    },
    {
      "cell_type": "code",
      "source": [
        "!mv latin-persian-to-farsi-alphabet-main/dataset ."
      ],
      "metadata": {
        "id": "3XkKMnYJt6Kp"
      },
      "execution_count": null,
      "outputs": []
    },
    {
      "cell_type": "code",
      "execution_count": null,
      "metadata": {
        "id": "syJht-omnKQk"
      },
      "outputs": [],
      "source": [
        "with open('dataset/fing.txt') as fp:\n",
        "    fings = [l.strip() for l in fp.readlines()]\n",
        "\n",
        "with open('dataset/pers.txt') as fp:\n",
        "    pers = [l.strip() for l in fp.readlines()]\n",
        "    "
      ]
    },
    {
      "cell_type": "code",
      "execution_count": null,
      "metadata": {
        "id": "izywVJwDnKQl"
      },
      "outputs": [],
      "source": [
        "train_df = pd.DataFrame({'Finglish': fings, 'Persian': pers})"
      ]
    },
    {
      "cell_type": "code",
      "execution_count": null,
      "metadata": {
        "id": "-yM0kf4dnKQl"
      },
      "outputs": [],
      "source": [
        "train_df = pd.read_csv('dataset/words.csv')"
      ]
    },
    {
      "cell_type": "code",
      "execution_count": null,
      "metadata": {
        "id": "EsijNwXUnKQm"
      },
      "outputs": [],
      "source": [
        "train_df = train_df[train_df['Finglish'].str.find('object') == -1].copy()"
      ]
    },
    {
      "cell_type": "code",
      "execution_count": null,
      "metadata": {
        "id": "9jZRqUgAnKQn"
      },
      "outputs": [],
      "source": [
        "eval_df = pd.read_csv('train.csv').drop(['Unnamed: 0'], axis=1)"
      ]
    },
    {
      "cell_type": "code",
      "source": [
        "eval_df"
      ],
      "metadata": {
        "colab": {
          "base_uri": "https://localhost:8080/",
          "height": 424
        },
        "id": "TMCoSLZGKRmE",
        "outputId": "5d9722d7-c208-40d6-f549-67cc54676429"
      },
      "execution_count": null,
      "outputs": [
        {
          "output_type": "execute_result",
          "data": {
            "text/html": [
              "\n",
              "  <div id=\"df-fdd63d53-20fa-4ff2-9902-6ff6d9e1d2b0\">\n",
              "    <div class=\"colab-df-container\">\n",
              "      <div>\n",
              "<style scoped>\n",
              "    .dataframe tbody tr th:only-of-type {\n",
              "        vertical-align: middle;\n",
              "    }\n",
              "\n",
              "    .dataframe tbody tr th {\n",
              "        vertical-align: top;\n",
              "    }\n",
              "\n",
              "    .dataframe thead th {\n",
              "        text-align: right;\n",
              "    }\n",
              "</style>\n",
              "<table border=\"1\" class=\"dataframe\">\n",
              "  <thead>\n",
              "    <tr style=\"text-align: right;\">\n",
              "      <th></th>\n",
              "      <th>Finglish</th>\n",
              "      <th>Persian</th>\n",
              "    </tr>\n",
              "  </thead>\n",
              "  <tbody>\n",
              "    <tr>\n",
              "      <th>0</th>\n",
              "      <td>az cheshmaaye pof kardat maloome, boro khodeto...</td>\n",
              "      <td>از چشمای پف کردت معلومه، برو خودتو فیلم کن بچه...</td>\n",
              "    </tr>\n",
              "    <tr>\n",
              "      <th>1</th>\n",
              "      <td>haalaa, in mozoo be maa forsate ijaade chand s...</td>\n",
              "      <td>حالا، این موضوع به ما فرصت ایجاد چند سناریو را...</td>\n",
              "    </tr>\n",
              "    <tr>\n",
              "      <th>2</th>\n",
              "      <td>in tori ham digar raa sedaa bezanim</td>\n",
              "      <td>اینطوری همدیگه رو صدا بزنیم</td>\n",
              "    </tr>\n",
              "    <tr>\n",
              "      <th>3</th>\n",
              "      <td>revaayat haa shabih hamdigarand</td>\n",
              "      <td>روایتها شبیه همدیگرند</td>\n",
              "    </tr>\n",
              "    <tr>\n",
              "      <th>4</th>\n",
              "      <td>pesarak baa ta'ajob be medaad negaah kard va c...</td>\n",
              "      <td>پسرک با تعجب به مداد نگاه کرد و چیز خاصی در ان...</td>\n",
              "    </tr>\n",
              "    <tr>\n",
              "      <th>...</th>\n",
              "      <td>...</td>\n",
              "      <td>...</td>\n",
              "    </tr>\n",
              "    <tr>\n",
              "      <th>1686</th>\n",
              "      <td>dooste maadar shohar: to ke migofti yeki bemir...</td>\n",
              "      <td>دوست مادرشوهر:تو که میگفتی یکی بمیره من گریه ن...</td>\n",
              "    </tr>\n",
              "    <tr>\n",
              "      <th>1687</th>\n",
              "      <td>na man inaa ro azat shenidam.</td>\n",
              "      <td>نه من این رو ازت شنیدم</td>\n",
              "    </tr>\n",
              "    <tr>\n",
              "      <th>1688</th>\n",
              "      <td>zendeh tou atash besouzid.</td>\n",
              "      <td>زنده تو آتيش بسوزيد ؟</td>\n",
              "    </tr>\n",
              "    <tr>\n",
              "      <th>1689</th>\n",
              "      <td>azadeh aslan boro touyeh haman otagh behesh be...</td>\n",
              "      <td>ازاده اصلا برو توی همون اتاق بهش بده.</td>\n",
              "    </tr>\n",
              "    <tr>\n",
              "      <th>1690</th>\n",
              "      <td>cheraa baayad asabaani baasham?</td>\n",
              "      <td>چرا بايد عصباني باشم ؟</td>\n",
              "    </tr>\n",
              "  </tbody>\n",
              "</table>\n",
              "<p>1691 rows × 2 columns</p>\n",
              "</div>\n",
              "      <button class=\"colab-df-convert\" onclick=\"convertToInteractive('df-fdd63d53-20fa-4ff2-9902-6ff6d9e1d2b0')\"\n",
              "              title=\"Convert this dataframe to an interactive table.\"\n",
              "              style=\"display:none;\">\n",
              "        \n",
              "  <svg xmlns=\"http://www.w3.org/2000/svg\" height=\"24px\"viewBox=\"0 0 24 24\"\n",
              "       width=\"24px\">\n",
              "    <path d=\"M0 0h24v24H0V0z\" fill=\"none\"/>\n",
              "    <path d=\"M18.56 5.44l.94 2.06.94-2.06 2.06-.94-2.06-.94-.94-2.06-.94 2.06-2.06.94zm-11 1L8.5 8.5l.94-2.06 2.06-.94-2.06-.94L8.5 2.5l-.94 2.06-2.06.94zm10 10l.94 2.06.94-2.06 2.06-.94-2.06-.94-.94-2.06-.94 2.06-2.06.94z\"/><path d=\"M17.41 7.96l-1.37-1.37c-.4-.4-.92-.59-1.43-.59-.52 0-1.04.2-1.43.59L10.3 9.45l-7.72 7.72c-.78.78-.78 2.05 0 2.83L4 21.41c.39.39.9.59 1.41.59.51 0 1.02-.2 1.41-.59l7.78-7.78 2.81-2.81c.8-.78.8-2.07 0-2.86zM5.41 20L4 18.59l7.72-7.72 1.47 1.35L5.41 20z\"/>\n",
              "  </svg>\n",
              "      </button>\n",
              "      \n",
              "  <style>\n",
              "    .colab-df-container {\n",
              "      display:flex;\n",
              "      flex-wrap:wrap;\n",
              "      gap: 12px;\n",
              "    }\n",
              "\n",
              "    .colab-df-convert {\n",
              "      background-color: #E8F0FE;\n",
              "      border: none;\n",
              "      border-radius: 50%;\n",
              "      cursor: pointer;\n",
              "      display: none;\n",
              "      fill: #1967D2;\n",
              "      height: 32px;\n",
              "      padding: 0 0 0 0;\n",
              "      width: 32px;\n",
              "    }\n",
              "\n",
              "    .colab-df-convert:hover {\n",
              "      background-color: #E2EBFA;\n",
              "      box-shadow: 0px 1px 2px rgba(60, 64, 67, 0.3), 0px 1px 3px 1px rgba(60, 64, 67, 0.15);\n",
              "      fill: #174EA6;\n",
              "    }\n",
              "\n",
              "    [theme=dark] .colab-df-convert {\n",
              "      background-color: #3B4455;\n",
              "      fill: #D2E3FC;\n",
              "    }\n",
              "\n",
              "    [theme=dark] .colab-df-convert:hover {\n",
              "      background-color: #434B5C;\n",
              "      box-shadow: 0px 1px 3px 1px rgba(0, 0, 0, 0.15);\n",
              "      filter: drop-shadow(0px 1px 2px rgba(0, 0, 0, 0.3));\n",
              "      fill: #FFFFFF;\n",
              "    }\n",
              "  </style>\n",
              "\n",
              "      <script>\n",
              "        const buttonEl =\n",
              "          document.querySelector('#df-fdd63d53-20fa-4ff2-9902-6ff6d9e1d2b0 button.colab-df-convert');\n",
              "        buttonEl.style.display =\n",
              "          google.colab.kernel.accessAllowed ? 'block' : 'none';\n",
              "\n",
              "        async function convertToInteractive(key) {\n",
              "          const element = document.querySelector('#df-fdd63d53-20fa-4ff2-9902-6ff6d9e1d2b0');\n",
              "          const dataTable =\n",
              "            await google.colab.kernel.invokeFunction('convertToInteractive',\n",
              "                                                     [key], {});\n",
              "          if (!dataTable) return;\n",
              "\n",
              "          const docLinkHtml = 'Like what you see? Visit the ' +\n",
              "            '<a target=\"_blank\" href=https://colab.research.google.com/notebooks/data_table.ipynb>data table notebook</a>'\n",
              "            + ' to learn more about interactive tables.';\n",
              "          element.innerHTML = '';\n",
              "          dataTable['output_type'] = 'display_data';\n",
              "          await google.colab.output.renderOutput(dataTable, element);\n",
              "          const docLink = document.createElement('div');\n",
              "          docLink.innerHTML = docLinkHtml;\n",
              "          element.appendChild(docLink);\n",
              "        }\n",
              "      </script>\n",
              "    </div>\n",
              "  </div>\n",
              "  "
            ],
            "text/plain": [
              "                                               Finglish                                            Persian\n",
              "0     az cheshmaaye pof kardat maloome, boro khodeto...  از چشمای پف کردت معلومه، برو خودتو فیلم کن بچه...\n",
              "1     haalaa, in mozoo be maa forsate ijaade chand s...  حالا، این موضوع به ما فرصت ایجاد چند سناریو را...\n",
              "2                   in tori ham digar raa sedaa bezanim                        اینطوری همدیگه رو صدا بزنیم\n",
              "3                       revaayat haa shabih hamdigarand                              روایتها شبیه همدیگرند\n",
              "4     pesarak baa ta'ajob be medaad negaah kard va c...  پسرک با تعجب به مداد نگاه کرد و چیز خاصی در ان...\n",
              "...                                                 ...                                                ...\n",
              "1686  dooste maadar shohar: to ke migofti yeki bemir...  دوست مادرشوهر:تو که میگفتی یکی بمیره من گریه ن...\n",
              "1687                      na man inaa ro azat shenidam.                             نه من این رو ازت شنیدم\n",
              "1688                         zendeh tou atash besouzid.                              زنده تو آتيش بسوزيد ؟\n",
              "1689  azadeh aslan boro touyeh haman otagh behesh be...              ازاده اصلا برو توی همون اتاق بهش بده.\n",
              "1690                    cheraa baayad asabaani baasham?                             چرا بايد عصباني باشم ؟\n",
              "\n",
              "[1691 rows x 2 columns]"
            ]
          },
          "metadata": {},
          "execution_count": 30
        }
      ]
    },
    {
      "cell_type": "code",
      "execution_count": null,
      "metadata": {
        "colab": {
          "base_uri": "https://localhost:8080/"
        },
        "id": "Dy8TVSNsnKQp",
        "outputId": "ad9104af-5b98-4c4c-98ad-52d508e46c9b"
      },
      "outputs": [
        {
          "output_type": "execute_result",
          "data": {
            "text/plain": [
              "[('تأثیرگذارخواهدبود', 'taayargzaarkhvaahdbood'),\n",
              " ('سیکلوتترادکاهپتان', 'seekloottraadkaahptaan')]"
            ]
          },
          "metadata": {},
          "execution_count": 11
        }
      ],
      "source": [
        "train_data = zip(train_df['Finglish'], train_df['Persian'])\n",
        "[(w, v) for v, w in train_data if v.find('object') == -1 and len(w) > 16]"
      ]
    },
    {
      "cell_type": "code",
      "execution_count": null,
      "metadata": {
        "id": "0rQHPpWVnKQq"
      },
      "outputs": [],
      "source": [
        "START_TOKEN = '<'\n",
        "END_TOKEN = '>'"
      ]
    },
    {
      "cell_type": "code",
      "execution_count": null,
      "metadata": {
        "id": "mam6hl82nKQr"
      },
      "outputs": [],
      "source": [
        "train_df['Persian'] = train_df['Persian'] + END_TOKEN"
      ]
    },
    {
      "cell_type": "code",
      "source": [
        "eval_df['Persian'] = eval_df['Persian'] + END_TOKEN"
      ],
      "metadata": {
        "id": "-5AoSN5lKVqb"
      },
      "execution_count": null,
      "outputs": []
    },
    {
      "cell_type": "code",
      "execution_count": null,
      "metadata": {
        "colab": {
          "base_uri": "https://localhost:8080/",
          "height": 424
        },
        "id": "JHxqmjgznKQr",
        "outputId": "96e481b2-61a7-4ff1-aeed-9bd68540952b"
      },
      "outputs": [
        {
          "output_type": "execute_result",
          "data": {
            "text/html": [
              "\n",
              "  <div id=\"df-0a4759b0-c70a-4cc9-a882-29945026a0cc\">\n",
              "    <div class=\"colab-df-container\">\n",
              "      <div>\n",
              "<style scoped>\n",
              "    .dataframe tbody tr th:only-of-type {\n",
              "        vertical-align: middle;\n",
              "    }\n",
              "\n",
              "    .dataframe tbody tr th {\n",
              "        vertical-align: top;\n",
              "    }\n",
              "\n",
              "    .dataframe thead th {\n",
              "        text-align: right;\n",
              "    }\n",
              "</style>\n",
              "<table border=\"1\" class=\"dataframe\">\n",
              "  <thead>\n",
              "    <tr style=\"text-align: right;\">\n",
              "      <th></th>\n",
              "      <th>Unnamed: 0</th>\n",
              "      <th>Finglish</th>\n",
              "      <th>Persian</th>\n",
              "    </tr>\n",
              "  </thead>\n",
              "  <tbody>\n",
              "    <tr>\n",
              "      <th>0</th>\n",
              "      <td>0</td>\n",
              "      <td>aaaaaataaaa</td>\n",
              "      <td>آآآتاآ&gt;</td>\n",
              "    </tr>\n",
              "    <tr>\n",
              "      <th>1</th>\n",
              "      <td>1</td>\n",
              "      <td>aaaaaan</td>\n",
              "      <td>آآآن&gt;</td>\n",
              "    </tr>\n",
              "    <tr>\n",
              "      <th>2</th>\n",
              "      <td>2</td>\n",
              "      <td>aaaakhreen</td>\n",
              "      <td>آآخرین&gt;</td>\n",
              "    </tr>\n",
              "    <tr>\n",
              "      <th>3</th>\n",
              "      <td>3</td>\n",
              "      <td>aaaadoontaa</td>\n",
              "      <td>آآدونتا&gt;</td>\n",
              "    </tr>\n",
              "    <tr>\n",
              "      <th>4</th>\n",
              "      <td>4</td>\n",
              "      <td>aaaar</td>\n",
              "      <td>آآر&gt;</td>\n",
              "    </tr>\n",
              "    <tr>\n",
              "      <th>...</th>\n",
              "      <td>...</td>\n",
              "      <td>...</td>\n",
              "      <td>...</td>\n",
              "    </tr>\n",
              "    <tr>\n",
              "      <th>545084</th>\n",
              "      <td>545203</td>\n",
              "      <td>yayagrhaa</td>\n",
              "      <td>ییگرها&gt;</td>\n",
              "    </tr>\n",
              "    <tr>\n",
              "      <th>545085</th>\n",
              "      <td>545204</td>\n",
              "      <td>yeegen</td>\n",
              "      <td>ییگن&gt;</td>\n",
              "    </tr>\n",
              "    <tr>\n",
              "      <th>545086</th>\n",
              "      <td>545205</td>\n",
              "      <td>yayee</td>\n",
              "      <td>ییی&gt;</td>\n",
              "    </tr>\n",
              "    <tr>\n",
              "      <th>545087</th>\n",
              "      <td>545206</td>\n",
              "      <td>yeeyaang</td>\n",
              "      <td>یییانگ&gt;</td>\n",
              "    </tr>\n",
              "    <tr>\n",
              "      <th>545088</th>\n",
              "      <td>545207</td>\n",
              "      <td>yeeyooaan</td>\n",
              "      <td>یییوان&gt;</td>\n",
              "    </tr>\n",
              "  </tbody>\n",
              "</table>\n",
              "<p>540837 rows × 3 columns</p>\n",
              "</div>\n",
              "      <button class=\"colab-df-convert\" onclick=\"convertToInteractive('df-0a4759b0-c70a-4cc9-a882-29945026a0cc')\"\n",
              "              title=\"Convert this dataframe to an interactive table.\"\n",
              "              style=\"display:none;\">\n",
              "        \n",
              "  <svg xmlns=\"http://www.w3.org/2000/svg\" height=\"24px\"viewBox=\"0 0 24 24\"\n",
              "       width=\"24px\">\n",
              "    <path d=\"M0 0h24v24H0V0z\" fill=\"none\"/>\n",
              "    <path d=\"M18.56 5.44l.94 2.06.94-2.06 2.06-.94-2.06-.94-.94-2.06-.94 2.06-2.06.94zm-11 1L8.5 8.5l.94-2.06 2.06-.94-2.06-.94L8.5 2.5l-.94 2.06-2.06.94zm10 10l.94 2.06.94-2.06 2.06-.94-2.06-.94-.94-2.06-.94 2.06-2.06.94z\"/><path d=\"M17.41 7.96l-1.37-1.37c-.4-.4-.92-.59-1.43-.59-.52 0-1.04.2-1.43.59L10.3 9.45l-7.72 7.72c-.78.78-.78 2.05 0 2.83L4 21.41c.39.39.9.59 1.41.59.51 0 1.02-.2 1.41-.59l7.78-7.78 2.81-2.81c.8-.78.8-2.07 0-2.86zM5.41 20L4 18.59l7.72-7.72 1.47 1.35L5.41 20z\"/>\n",
              "  </svg>\n",
              "      </button>\n",
              "      \n",
              "  <style>\n",
              "    .colab-df-container {\n",
              "      display:flex;\n",
              "      flex-wrap:wrap;\n",
              "      gap: 12px;\n",
              "    }\n",
              "\n",
              "    .colab-df-convert {\n",
              "      background-color: #E8F0FE;\n",
              "      border: none;\n",
              "      border-radius: 50%;\n",
              "      cursor: pointer;\n",
              "      display: none;\n",
              "      fill: #1967D2;\n",
              "      height: 32px;\n",
              "      padding: 0 0 0 0;\n",
              "      width: 32px;\n",
              "    }\n",
              "\n",
              "    .colab-df-convert:hover {\n",
              "      background-color: #E2EBFA;\n",
              "      box-shadow: 0px 1px 2px rgba(60, 64, 67, 0.3), 0px 1px 3px 1px rgba(60, 64, 67, 0.15);\n",
              "      fill: #174EA6;\n",
              "    }\n",
              "\n",
              "    [theme=dark] .colab-df-convert {\n",
              "      background-color: #3B4455;\n",
              "      fill: #D2E3FC;\n",
              "    }\n",
              "\n",
              "    [theme=dark] .colab-df-convert:hover {\n",
              "      background-color: #434B5C;\n",
              "      box-shadow: 0px 1px 3px 1px rgba(0, 0, 0, 0.15);\n",
              "      filter: drop-shadow(0px 1px 2px rgba(0, 0, 0, 0.3));\n",
              "      fill: #FFFFFF;\n",
              "    }\n",
              "  </style>\n",
              "\n",
              "      <script>\n",
              "        const buttonEl =\n",
              "          document.querySelector('#df-0a4759b0-c70a-4cc9-a882-29945026a0cc button.colab-df-convert');\n",
              "        buttonEl.style.display =\n",
              "          google.colab.kernel.accessAllowed ? 'block' : 'none';\n",
              "\n",
              "        async function convertToInteractive(key) {\n",
              "          const element = document.querySelector('#df-0a4759b0-c70a-4cc9-a882-29945026a0cc');\n",
              "          const dataTable =\n",
              "            await google.colab.kernel.invokeFunction('convertToInteractive',\n",
              "                                                     [key], {});\n",
              "          if (!dataTable) return;\n",
              "\n",
              "          const docLinkHtml = 'Like what you see? Visit the ' +\n",
              "            '<a target=\"_blank\" href=https://colab.research.google.com/notebooks/data_table.ipynb>data table notebook</a>'\n",
              "            + ' to learn more about interactive tables.';\n",
              "          element.innerHTML = '';\n",
              "          dataTable['output_type'] = 'display_data';\n",
              "          await google.colab.output.renderOutput(dataTable, element);\n",
              "          const docLink = document.createElement('div');\n",
              "          docLink.innerHTML = docLinkHtml;\n",
              "          element.appendChild(docLink);\n",
              "        }\n",
              "      </script>\n",
              "    </div>\n",
              "  </div>\n",
              "  "
            ],
            "text/plain": [
              "        Unnamed: 0     Finglish   Persian\n",
              "0                0  aaaaaataaaa   آآآتاآ>\n",
              "1                1      aaaaaan     آآآن>\n",
              "2                2   aaaakhreen   آآخرین>\n",
              "3                3  aaaadoontaa  آآدونتا>\n",
              "4                4        aaaar      آآر>\n",
              "...            ...          ...       ...\n",
              "545084      545203    yayagrhaa   ییگرها>\n",
              "545085      545204       yeegen     ییگن>\n",
              "545086      545205        yayee      ییی>\n",
              "545087      545206     yeeyaang   یییانگ>\n",
              "545088      545207    yeeyooaan   یییوان>\n",
              "\n",
              "[540837 rows x 3 columns]"
            ]
          },
          "metadata": {},
          "execution_count": 14
        }
      ],
      "source": [
        "train_df.head()"
      ]
    },
    {
      "cell_type": "code",
      "source": [
        "eval_df.head()"
      ],
      "metadata": {
        "colab": {
          "base_uri": "https://localhost:8080/",
          "height": 206
        },
        "id": "CURQ8NXPM4nM",
        "outputId": "9eea6ec0-d2c9-4fdb-a2a0-99e9c84d3252"
      },
      "execution_count": null,
      "outputs": [
        {
          "output_type": "execute_result",
          "data": {
            "text/html": [
              "\n",
              "  <div id=\"df-0ec832d7-993a-49f3-90e8-952626bef4c0\">\n",
              "    <div class=\"colab-df-container\">\n",
              "      <div>\n",
              "<style scoped>\n",
              "    .dataframe tbody tr th:only-of-type {\n",
              "        vertical-align: middle;\n",
              "    }\n",
              "\n",
              "    .dataframe tbody tr th {\n",
              "        vertical-align: top;\n",
              "    }\n",
              "\n",
              "    .dataframe thead th {\n",
              "        text-align: right;\n",
              "    }\n",
              "</style>\n",
              "<table border=\"1\" class=\"dataframe\">\n",
              "  <thead>\n",
              "    <tr style=\"text-align: right;\">\n",
              "      <th></th>\n",
              "      <th>Finglish</th>\n",
              "      <th>Persian</th>\n",
              "    </tr>\n",
              "  </thead>\n",
              "  <tbody>\n",
              "    <tr>\n",
              "      <th>0</th>\n",
              "      <td>az cheshmaaye pof kardat maloome, boro khodeto...</td>\n",
              "      <td>از چشمای پف کردت معلومه، برو خودتو فیلم کن بچه...</td>\n",
              "    </tr>\n",
              "    <tr>\n",
              "      <th>1</th>\n",
              "      <td>haalaa, in mozoo be maa forsate ijaade chand s...</td>\n",
              "      <td>حالا، این موضوع به ما فرصت ایجاد چند سناریو را...</td>\n",
              "    </tr>\n",
              "    <tr>\n",
              "      <th>2</th>\n",
              "      <td>in tori ham digar raa sedaa bezanim</td>\n",
              "      <td>اینطوری همدیگه رو صدا بزنیم&gt;</td>\n",
              "    </tr>\n",
              "    <tr>\n",
              "      <th>3</th>\n",
              "      <td>revaayat haa shabih hamdigarand</td>\n",
              "      <td>روایتها شبیه همدیگرند&gt;</td>\n",
              "    </tr>\n",
              "    <tr>\n",
              "      <th>4</th>\n",
              "      <td>pesarak baa ta'ajob be medaad negaah kard va c...</td>\n",
              "      <td>پسرک با تعجب به مداد نگاه کرد و چیز خاصی در ان...</td>\n",
              "    </tr>\n",
              "  </tbody>\n",
              "</table>\n",
              "</div>\n",
              "      <button class=\"colab-df-convert\" onclick=\"convertToInteractive('df-0ec832d7-993a-49f3-90e8-952626bef4c0')\"\n",
              "              title=\"Convert this dataframe to an interactive table.\"\n",
              "              style=\"display:none;\">\n",
              "        \n",
              "  <svg xmlns=\"http://www.w3.org/2000/svg\" height=\"24px\"viewBox=\"0 0 24 24\"\n",
              "       width=\"24px\">\n",
              "    <path d=\"M0 0h24v24H0V0z\" fill=\"none\"/>\n",
              "    <path d=\"M18.56 5.44l.94 2.06.94-2.06 2.06-.94-2.06-.94-.94-2.06-.94 2.06-2.06.94zm-11 1L8.5 8.5l.94-2.06 2.06-.94-2.06-.94L8.5 2.5l-.94 2.06-2.06.94zm10 10l.94 2.06.94-2.06 2.06-.94-2.06-.94-.94-2.06-.94 2.06-2.06.94z\"/><path d=\"M17.41 7.96l-1.37-1.37c-.4-.4-.92-.59-1.43-.59-.52 0-1.04.2-1.43.59L10.3 9.45l-7.72 7.72c-.78.78-.78 2.05 0 2.83L4 21.41c.39.39.9.59 1.41.59.51 0 1.02-.2 1.41-.59l7.78-7.78 2.81-2.81c.8-.78.8-2.07 0-2.86zM5.41 20L4 18.59l7.72-7.72 1.47 1.35L5.41 20z\"/>\n",
              "  </svg>\n",
              "      </button>\n",
              "      \n",
              "  <style>\n",
              "    .colab-df-container {\n",
              "      display:flex;\n",
              "      flex-wrap:wrap;\n",
              "      gap: 12px;\n",
              "    }\n",
              "\n",
              "    .colab-df-convert {\n",
              "      background-color: #E8F0FE;\n",
              "      border: none;\n",
              "      border-radius: 50%;\n",
              "      cursor: pointer;\n",
              "      display: none;\n",
              "      fill: #1967D2;\n",
              "      height: 32px;\n",
              "      padding: 0 0 0 0;\n",
              "      width: 32px;\n",
              "    }\n",
              "\n",
              "    .colab-df-convert:hover {\n",
              "      background-color: #E2EBFA;\n",
              "      box-shadow: 0px 1px 2px rgba(60, 64, 67, 0.3), 0px 1px 3px 1px rgba(60, 64, 67, 0.15);\n",
              "      fill: #174EA6;\n",
              "    }\n",
              "\n",
              "    [theme=dark] .colab-df-convert {\n",
              "      background-color: #3B4455;\n",
              "      fill: #D2E3FC;\n",
              "    }\n",
              "\n",
              "    [theme=dark] .colab-df-convert:hover {\n",
              "      background-color: #434B5C;\n",
              "      box-shadow: 0px 1px 3px 1px rgba(0, 0, 0, 0.15);\n",
              "      filter: drop-shadow(0px 1px 2px rgba(0, 0, 0, 0.3));\n",
              "      fill: #FFFFFF;\n",
              "    }\n",
              "  </style>\n",
              "\n",
              "      <script>\n",
              "        const buttonEl =\n",
              "          document.querySelector('#df-0ec832d7-993a-49f3-90e8-952626bef4c0 button.colab-df-convert');\n",
              "        buttonEl.style.display =\n",
              "          google.colab.kernel.accessAllowed ? 'block' : 'none';\n",
              "\n",
              "        async function convertToInteractive(key) {\n",
              "          const element = document.querySelector('#df-0ec832d7-993a-49f3-90e8-952626bef4c0');\n",
              "          const dataTable =\n",
              "            await google.colab.kernel.invokeFunction('convertToInteractive',\n",
              "                                                     [key], {});\n",
              "          if (!dataTable) return;\n",
              "\n",
              "          const docLinkHtml = 'Like what you see? Visit the ' +\n",
              "            '<a target=\"_blank\" href=https://colab.research.google.com/notebooks/data_table.ipynb>data table notebook</a>'\n",
              "            + ' to learn more about interactive tables.';\n",
              "          element.innerHTML = '';\n",
              "          dataTable['output_type'] = 'display_data';\n",
              "          await google.colab.output.renderOutput(dataTable, element);\n",
              "          const docLink = document.createElement('div');\n",
              "          docLink.innerHTML = docLinkHtml;\n",
              "          element.appendChild(docLink);\n",
              "        }\n",
              "      </script>\n",
              "    </div>\n",
              "  </div>\n",
              "  "
            ],
            "text/plain": [
              "                                            Finglish                                            Persian\n",
              "0  az cheshmaaye pof kardat maloome, boro khodeto...  از چشمای پف کردت معلومه، برو خودتو فیلم کن بچه...\n",
              "1  haalaa, in mozoo be maa forsate ijaade chand s...  حالا، این موضوع به ما فرصت ایجاد چند سناریو را...\n",
              "2                in tori ham digar raa sedaa bezanim                       اینطوری همدیگه رو صدا بزنیم>\n",
              "3                    revaayat haa shabih hamdigarand                             روایتها شبیه همدیگرند>\n",
              "4  pesarak baa ta'ajob be medaad negaah kard va c...  پسرک با تعجب به مداد نگاه کرد و چیز خاصی در ان..."
            ]
          },
          "metadata": {},
          "execution_count": 32
        }
      ]
    },
    {
      "cell_type": "code",
      "execution_count": null,
      "metadata": {
        "id": "_OE14cgjnKQr"
      },
      "outputs": [],
      "source": [
        "train_df['Finglish'] = train_df['Finglish'].str.pad(width=25, side='right', fillchar='\\0')\n",
        "train_df['Persian'] = train_df['Persian'].str.pad(width=19, side='right', fillchar='\\0')"
      ]
    },
    {
      "cell_type": "code",
      "source": [
        "eval_df['Finglish'] = eval_df['Finglish'].str.pad(width=248, side='right', fillchar='\\0')\n",
        "eval_df['Persian'] = eval_df['Persian'].str.pad(width=180, side='right', fillchar='\\0')"
      ],
      "metadata": {
        "id": "51GPzfW8NYas"
      },
      "execution_count": null,
      "outputs": []
    },
    {
      "cell_type": "code",
      "execution_count": null,
      "metadata": {
        "id": "8q9t4FmN96eN"
      },
      "outputs": [],
      "source": [
        "train_ds = tf.data.Dataset.from_tensor_slices((train_df['Finglish'], train_df['Persian']))"
      ]
    },
    {
      "cell_type": "code",
      "source": [
        "eval_ds = tf.data.Dataset.from_tensor_slices((eval_df['Finglish'], eval_df['Persian']))"
      ],
      "metadata": {
        "id": "5M1V0xVwNk5C"
      },
      "execution_count": null,
      "outputs": []
    },
    {
      "cell_type": "code",
      "execution_count": null,
      "metadata": {
        "id": "AtuMLTQGlHZ1",
        "colab": {
          "base_uri": "https://localhost:8080/"
        },
        "outputId": "bae1deb7-de2e-4e24-8d5a-f6d3af73e527"
      },
      "outputs": [
        {
          "output_type": "stream",
          "name": "stdout",
          "text": [
            "aaaaaataaaa\u0000\u0000\u0000\u0000\u0000\u0000\u0000\u0000\u0000\u0000\u0000\u0000\u0000\u0000\n",
            "aaaaaan\u0000\u0000\u0000\u0000\u0000\u0000\u0000\u0000\u0000\u0000\u0000\u0000\u0000\u0000\u0000\u0000\u0000\u0000\n",
            "aaaakhreen\u0000\u0000\u0000\u0000\u0000\u0000\u0000\u0000\u0000\u0000\u0000\u0000\u0000\u0000\u0000\n",
            "\n",
            "آآآتاآ>\u0000\u0000\u0000\u0000\u0000\u0000\u0000\u0000\u0000\u0000\u0000\u0000\n",
            "آآآن>\u0000\u0000\u0000\u0000\u0000\u0000\u0000\u0000\u0000\u0000\u0000\u0000\u0000\u0000\n",
            "آآخرین>\u0000\u0000\u0000\u0000\u0000\u0000\u0000\u0000\u0000\u0000\u0000\u0000\n"
          ]
        }
      ],
      "source": [
        "for fi_examples, pe_examples in train_ds.batch(3).take(1):\n",
        "    for fi in fi_examples.numpy():\n",
        "        print(fi.decode('utf-8'))\n",
        "    \n",
        "    print()\n",
        "        \n",
        "    for pe in pe_examples.numpy():\n",
        "        print(pe.decode('utf-8'))"
      ]
    },
    {
      "cell_type": "code",
      "source": [
        "for fi_examples, pe_examples in eval_ds.batch(3).take(1):\n",
        "    for fi in fi_examples.numpy():\n",
        "        print(fi.decode('utf-8'))\n",
        "    \n",
        "    print()\n",
        "        \n",
        "    for pe in pe_examples.numpy():\n",
        "        print(pe.decode('utf-8'))"
      ],
      "metadata": {
        "colab": {
          "base_uri": "https://localhost:8080/"
        },
        "id": "sPQ17fsdNp0C",
        "outputId": "a2e963c3-d9b0-4c51-876c-a476efc0e729"
      },
      "execution_count": null,
      "outputs": [
        {
          "output_type": "stream",
          "name": "stdout",
          "text": [
            "az cheshmaaye pof kardat maloome, boro khodeto film kon bache man khodam khatme harchi ghalamam.\u0000\u0000\u0000\u0000\u0000\u0000\u0000\u0000\u0000\u0000\u0000\u0000\u0000\u0000\u0000\u0000\u0000\u0000\u0000\u0000\u0000\u0000\u0000\u0000\u0000\u0000\u0000\u0000\u0000\u0000\u0000\u0000\u0000\u0000\u0000\u0000\u0000\u0000\u0000\u0000\u0000\u0000\u0000\u0000\u0000\u0000\u0000\u0000\u0000\u0000\u0000\u0000\u0000\u0000\u0000\u0000\u0000\u0000\u0000\u0000\u0000\u0000\u0000\u0000\u0000\u0000\u0000\u0000\u0000\u0000\u0000\u0000\u0000\u0000\u0000\u0000\u0000\u0000\u0000\u0000\u0000\u0000\u0000\u0000\u0000\u0000\u0000\u0000\u0000\u0000\u0000\u0000\u0000\u0000\u0000\u0000\u0000\u0000\u0000\u0000\u0000\u0000\u0000\u0000\u0000\u0000\u0000\u0000\u0000\u0000\u0000\u0000\u0000\u0000\u0000\u0000\u0000\u0000\u0000\u0000\u0000\u0000\u0000\u0000\u0000\u0000\u0000\u0000\u0000\u0000\u0000\u0000\u0000\u0000\u0000\u0000\u0000\u0000\u0000\u0000\u0000\u0000\u0000\u0000\u0000\u0000\u0000\u0000\u0000\u0000\u0000\u0000\n",
            "haalaa, in mozoo be maa forsate ijaade chand senaariyo raa daad.\u0000\u0000\u0000\u0000\u0000\u0000\u0000\u0000\u0000\u0000\u0000\u0000\u0000\u0000\u0000\u0000\u0000\u0000\u0000\u0000\u0000\u0000\u0000\u0000\u0000\u0000\u0000\u0000\u0000\u0000\u0000\u0000\u0000\u0000\u0000\u0000\u0000\u0000\u0000\u0000\u0000\u0000\u0000\u0000\u0000\u0000\u0000\u0000\u0000\u0000\u0000\u0000\u0000\u0000\u0000\u0000\u0000\u0000\u0000\u0000\u0000\u0000\u0000\u0000\u0000\u0000\u0000\u0000\u0000\u0000\u0000\u0000\u0000\u0000\u0000\u0000\u0000\u0000\u0000\u0000\u0000\u0000\u0000\u0000\u0000\u0000\u0000\u0000\u0000\u0000\u0000\u0000\u0000\u0000\u0000\u0000\u0000\u0000\u0000\u0000\u0000\u0000\u0000\u0000\u0000\u0000\u0000\u0000\u0000\u0000\u0000\u0000\u0000\u0000\u0000\u0000\u0000\u0000\u0000\u0000\u0000\u0000\u0000\u0000\u0000\u0000\u0000\u0000\u0000\u0000\u0000\u0000\u0000\u0000\u0000\u0000\u0000\u0000\u0000\u0000\u0000\u0000\u0000\u0000\u0000\u0000\u0000\u0000\u0000\u0000\u0000\u0000\u0000\u0000\u0000\u0000\u0000\u0000\u0000\u0000\u0000\u0000\u0000\u0000\u0000\u0000\u0000\u0000\u0000\u0000\u0000\u0000\u0000\u0000\u0000\u0000\u0000\u0000\u0000\u0000\u0000\u0000\u0000\u0000\n",
            "in tori ham digar raa sedaa bezanim\u0000\u0000\u0000\u0000\u0000\u0000\u0000\u0000\u0000\u0000\u0000\u0000\u0000\u0000\u0000\u0000\u0000\u0000\u0000\u0000\u0000\u0000\u0000\u0000\u0000\u0000\u0000\u0000\u0000\u0000\u0000\u0000\u0000\u0000\u0000\u0000\u0000\u0000\u0000\u0000\u0000\u0000\u0000\u0000\u0000\u0000\u0000\u0000\u0000\u0000\u0000\u0000\u0000\u0000\u0000\u0000\u0000\u0000\u0000\u0000\u0000\u0000\u0000\u0000\u0000\u0000\u0000\u0000\u0000\u0000\u0000\u0000\u0000\u0000\u0000\u0000\u0000\u0000\u0000\u0000\u0000\u0000\u0000\u0000\u0000\u0000\u0000\u0000\u0000\u0000\u0000\u0000\u0000\u0000\u0000\u0000\u0000\u0000\u0000\u0000\u0000\u0000\u0000\u0000\u0000\u0000\u0000\u0000\u0000\u0000\u0000\u0000\u0000\u0000\u0000\u0000\u0000\u0000\u0000\u0000\u0000\u0000\u0000\u0000\u0000\u0000\u0000\u0000\u0000\u0000\u0000\u0000\u0000\u0000\u0000\u0000\u0000\u0000\u0000\u0000\u0000\u0000\u0000\u0000\u0000\u0000\u0000\u0000\u0000\u0000\u0000\u0000\u0000\u0000\u0000\u0000\u0000\u0000\u0000\u0000\u0000\u0000\u0000\u0000\u0000\u0000\u0000\u0000\u0000\u0000\u0000\u0000\u0000\u0000\u0000\u0000\u0000\u0000\u0000\u0000\u0000\u0000\u0000\u0000\u0000\u0000\u0000\u0000\u0000\u0000\u0000\u0000\u0000\u0000\u0000\u0000\u0000\u0000\u0000\u0000\u0000\u0000\u0000\u0000\u0000\u0000\u0000\u0000\u0000\u0000\u0000\u0000\u0000\n",
            "\n",
            "از چشمای پف کردت معلومه، برو خودتو فیلم کن بچه من خودم ختم هر چی قلمم.>\u0000\u0000\u0000\u0000\u0000\u0000\u0000\u0000\u0000\u0000\u0000\u0000\u0000\u0000\u0000\u0000\u0000\u0000\u0000\u0000\u0000\u0000\u0000\u0000\u0000\u0000\u0000\u0000\u0000\u0000\u0000\u0000\u0000\u0000\u0000\u0000\u0000\u0000\u0000\u0000\u0000\u0000\u0000\u0000\u0000\u0000\u0000\u0000\u0000\u0000\u0000\u0000\u0000\u0000\u0000\u0000\u0000\u0000\u0000\u0000\u0000\u0000\u0000\u0000\u0000\u0000\u0000\u0000\u0000\u0000\u0000\u0000\u0000\u0000\u0000\u0000\u0000\u0000\u0000\u0000\u0000\u0000\u0000\u0000\u0000\u0000\u0000\u0000\u0000\u0000\u0000\u0000\u0000\u0000\u0000\u0000\u0000\u0000\u0000\u0000\u0000\u0000\u0000\u0000\u0000\u0000\u0000\u0000\u0000\n",
            "حالا، این موضوع به ما فرصت ایجاد چند سناریو را داد،>\u0000\u0000\u0000\u0000\u0000\u0000\u0000\u0000\u0000\u0000\u0000\u0000\u0000\u0000\u0000\u0000\u0000\u0000\u0000\u0000\u0000\u0000\u0000\u0000\u0000\u0000\u0000\u0000\u0000\u0000\u0000\u0000\u0000\u0000\u0000\u0000\u0000\u0000\u0000\u0000\u0000\u0000\u0000\u0000\u0000\u0000\u0000\u0000\u0000\u0000\u0000\u0000\u0000\u0000\u0000\u0000\u0000\u0000\u0000\u0000\u0000\u0000\u0000\u0000\u0000\u0000\u0000\u0000\u0000\u0000\u0000\u0000\u0000\u0000\u0000\u0000\u0000\u0000\u0000\u0000\u0000\u0000\u0000\u0000\u0000\u0000\u0000\u0000\u0000\u0000\u0000\u0000\u0000\u0000\u0000\u0000\u0000\u0000\u0000\u0000\u0000\u0000\u0000\u0000\u0000\u0000\u0000\u0000\u0000\u0000\u0000\u0000\u0000\u0000\u0000\u0000\u0000\u0000\u0000\u0000\u0000\u0000\u0000\u0000\u0000\u0000\u0000\u0000\n",
            "اینطوری همدیگه رو صدا بزنیم>\u0000\u0000\u0000\u0000\u0000\u0000\u0000\u0000\u0000\u0000\u0000\u0000\u0000\u0000\u0000\u0000\u0000\u0000\u0000\u0000\u0000\u0000\u0000\u0000\u0000\u0000\u0000\u0000\u0000\u0000\u0000\u0000\u0000\u0000\u0000\u0000\u0000\u0000\u0000\u0000\u0000\u0000\u0000\u0000\u0000\u0000\u0000\u0000\u0000\u0000\u0000\u0000\u0000\u0000\u0000\u0000\u0000\u0000\u0000\u0000\u0000\u0000\u0000\u0000\u0000\u0000\u0000\u0000\u0000\u0000\u0000\u0000\u0000\u0000\u0000\u0000\u0000\u0000\u0000\u0000\u0000\u0000\u0000\u0000\u0000\u0000\u0000\u0000\u0000\u0000\u0000\u0000\u0000\u0000\u0000\u0000\u0000\u0000\u0000\u0000\u0000\u0000\u0000\u0000\u0000\u0000\u0000\u0000\u0000\u0000\u0000\u0000\u0000\u0000\u0000\u0000\u0000\u0000\u0000\u0000\u0000\u0000\u0000\u0000\u0000\u0000\u0000\u0000\u0000\u0000\u0000\u0000\u0000\u0000\u0000\u0000\u0000\u0000\u0000\u0000\u0000\u0000\u0000\u0000\u0000\u0000\u0000\u0000\u0000\u0000\u0000\u0000\n"
          ]
        }
      ]
    },
    {
      "cell_type": "markdown",
      "metadata": {
        "id": "eJxTd6aVnZyh"
      },
      "source": [
        "<div style=\"direction:rtl\">\n",
        "    <h1>تبدیل متن به دنباله‌ای از نویسه‌ها</h1>\n",
        "</div>"
      ]
    },
    {
      "cell_type": "code",
      "execution_count": null,
      "metadata": {
        "id": "fKfj6gYenKQu"
      },
      "outputs": [],
      "source": [
        "fi_chars = sorted(set(''.join(train_df['Finglish'])))[1:]\n",
        "pe_chars = [START_TOKEN, END_TOKEN] + sorted(set(''.join(train_df['Persian'])))[2:]"
      ]
    },
    {
      "cell_type": "code",
      "execution_count": null,
      "metadata": {
        "id": "MN1qTB-RnKQu",
        "outputId": "0489a9a2-eb18-4436-f1a7-58c1daafea97"
      },
      "outputs": [
        {
          "data": {
            "text/plain": [
              "(25, 19)"
            ]
          },
          "execution_count": 15,
          "metadata": {},
          "output_type": "execute_result"
        }
      ],
      "source": [
        "max([len(tr) for tr in train_df['Finglish']]), max([len(tr) for tr in train_df['Persian']])"
      ]
    },
    {
      "cell_type": "code",
      "source": [
        "max([len(ev) for ev in eval_df['Finglish']]), max([len(ev) for ev in eval_df['Persian']])"
      ],
      "metadata": {
        "colab": {
          "base_uri": "https://localhost:8080/"
        },
        "id": "qSimRI4MNH1p",
        "outputId": "4c1cdf78-70c3-4d27-e319-f43bbf7319c5"
      },
      "execution_count": null,
      "outputs": [
        {
          "output_type": "execute_result",
          "data": {
            "text/plain": [
              "(248, 180)"
            ]
          },
          "metadata": {},
          "execution_count": 33
        }
      ]
    },
    {
      "cell_type": "markdown",
      "metadata": {
        "id": "fd1NWMxjfsDd"
      },
      "source": [
        "<div style=\"direction:rtl\">\n",
        "    <h1>خط داده</h1>\n",
        "</div>"
      ]
    },
    {
      "cell_type": "code",
      "execution_count": null,
      "metadata": {
        "id": "6shgzEck3FiV"
      },
      "outputs": [],
      "source": [
        "fi_string_lookup = tf.keras.layers.StringLookup(vocabulary=fi_chars)\n",
        "pe_string_lookup = tf.keras.layers.StringLookup(vocabulary=pe_chars)\n",
        "\n",
        "\n",
        "def tokenize_pairs(fi, pe):\n",
        "    bsize = tf.shape(pe)[0]\n",
        "    fi = tf.strings.unicode_split(fi, 'UTF-8')\n",
        "    pe = tf.concat([tf.tile([[START_TOKEN]], [bsize, 1]), \n",
        "                    tf.strings.unicode_split(pe, 'UTF-8')], 1)\n",
        "    return fi_string_lookup(fi).to_tensor(), pe_string_lookup(pe).to_tensor()"
      ]
    },
    {
      "cell_type": "code",
      "execution_count": null,
      "metadata": {
        "id": "N_I__RnhnKQv"
      },
      "outputs": [],
      "source": [
        "tokenize_pairs(fi_examples, pe_examples)"
      ]
    },
    {
      "cell_type": "markdown",
      "metadata": {
        "id": "cf2HwC_0wG0v"
      },
      "source": [
        "Here's a simple input pipeline that processes, shuffles and batches the data:"
      ]
    },
    {
      "cell_type": "code",
      "execution_count": null,
      "metadata": {
        "id": "bcRp7VcQ5m6g"
      },
      "outputs": [],
      "source": [
        "BUFFER_SIZE = 20000\n",
        "BATCH_SIZE = 64"
      ]
    },
    {
      "cell_type": "code",
      "execution_count": null,
      "metadata": {
        "id": "BUN_jLBTwNxk"
      },
      "outputs": [],
      "source": [
        "def make_batches(ds):\n",
        "    return (\n",
        "        ds\n",
        "        .cache()\n",
        "        .shuffle(BUFFER_SIZE)\n",
        "        .batch(BATCH_SIZE)\n",
        "        .map(tokenize_pairs, num_parallel_calls=tf.data.AUTOTUNE)\n",
        "        .prefetch(tf.data.AUTOTUNE))\n",
        "\n",
        "\n",
        "train_batches = make_batches(train_ds)\n",
        "eval_batches = eval_ds.cache().batch(BATCH_SIZE)\\\n",
        "                              .map(tokenize_pairs, num_parallel_calls=tf.data.AUTOTUNE)\\\n",
        "                              .prefetch(tf.data.AUTOTUNE)"
      ]
    },
    {
      "cell_type": "markdown",
      "metadata": {
        "id": "nBQuibYA4n0n"
      },
      "source": [
        "<div style=\"direction:rtl\">\n",
        "    <h1>کدگذاری مکانی</h1>\n",
        "    با فرمول های زیر embedding مربوط به هر مکان را تولید می‌کنیم و اطلاعات آن را به مدل تزریق می‌کنیم.\n",
        "</div>\n",
        "\n",
        "$$\\Large{PE_{(pos, 2i)} = \\sin(pos / 10000^{2i / d_{model}})} $$\n",
        "$$\\Large{PE_{(pos, 2i+1)} = \\cos(pos / 10000^{2i / d_{model}})} $$"
      ]
    },
    {
      "cell_type": "code",
      "execution_count": null,
      "metadata": {
        "id": "WhIOZjMNKujn"
      },
      "outputs": [],
      "source": [
        "def get_angles(pos, i, d_model):\n",
        "    angle_rates = 1 / np.power(10000, (2 * (i//2)) / np.float32(d_model))\n",
        "    return pos * angle_rates"
      ]
    },
    {
      "cell_type": "code",
      "execution_count": null,
      "metadata": {
        "id": "1Rz82wEs5biZ"
      },
      "outputs": [],
      "source": [
        "def positional_encoding(position, d_model):\n",
        "    angle_rads = get_angles(np.arange(position)[:, np.newaxis],\n",
        "                          np.arange(d_model)[np.newaxis, :],\n",
        "                          d_model)\n",
        "\n",
        "    # apply sin to even indices in the array; 2i\n",
        "    angle_rads[:, 0::2] = np.sin(angle_rads[:, 0::2])\n",
        "\n",
        "    # apply cos to odd indices in the array; 2i+1\n",
        "    angle_rads[:, 1::2] = np.cos(angle_rads[:, 1::2])\n",
        "\n",
        "    pos_encoding = angle_rads[np.newaxis, ...]\n",
        "\n",
        "    return tf.cast(pos_encoding, dtype=tf.float32)"
      ]
    },
    {
      "cell_type": "markdown",
      "metadata": {
        "id": "-GbNAXKxnKQy"
      },
      "source": [
        "<div style=\"direction:rtl\">\n",
        "    <h1>مصور سازی</h1>\n",
        "</div>"
      ]
    },
    {
      "cell_type": "code",
      "execution_count": null,
      "metadata": {
        "id": "1kLCla68EloE",
        "outputId": "488ca9fd-765c-4a3e-acc3-3b2fdad16656"
      },
      "outputs": [
        {
          "name": "stdout",
          "output_type": "stream",
          "text": [
            "(1, 2048, 512)\n"
          ]
        },
        {
          "data": {
            "image/png": "[encoded data removed]",
            "text/plain": [
              "<Figure size 432x288 with 2 Axes>"
            ]
          },
          "metadata": {
            "needs_background": "light"
          },
          "output_type": "display_data"
        }
      ],
      "source": [
        "n, d = 2048, 512\n",
        "pos_encoding = positional_encoding(n, d)\n",
        "print(pos_encoding.shape)\n",
        "pos_encoding = pos_encoding[0]\n",
        "\n",
        "# Juggle the dimensions for the plot\n",
        "pos_encoding = tf.reshape(pos_encoding, (n, d//2, 2))\n",
        "pos_encoding = tf.transpose(pos_encoding, (2, 1, 0))\n",
        "pos_encoding = tf.reshape(pos_encoding, (d, n))\n",
        "\n",
        "plt.pcolormesh(pos_encoding, cmap='RdBu')\n",
        "plt.ylabel('Depth')\n",
        "plt.xlabel('Position')\n",
        "plt.colorbar()\n",
        "plt.show()"
      ]
    },
    {
      "cell_type": "markdown",
      "metadata": {
        "id": "a_b4ou4TYqUN"
      },
      "source": [
        "## Masking"
      ]
    },
    {
      "cell_type": "markdown",
      "metadata": {
        "id": "s42Uydjkv0hF"
      },
      "source": [
        "Mask all the pad tokens in the batch of sequence. It ensures that the model does not treat padding as the input. The mask indicates where pad value `0` is present: it outputs a `1` at those locations, and a `0` otherwise."
      ]
    },
    {
      "cell_type": "code",
      "execution_count": null,
      "metadata": {
        "id": "U2i8-e1s8ti9"
      },
      "outputs": [],
      "source": [
        "def create_padding_mask(seq):\n",
        "    seq = tf.cast(tf.math.equal(seq, 0), tf.float32)\n",
        "\n",
        "    # add extra dimensions to add the padding\n",
        "    # to the attention logits.\n",
        "    return seq[:, tf.newaxis, tf.newaxis, :]  # (batch_size, 1, 1, seq_len)"
      ]
    },
    {
      "cell_type": "code",
      "execution_count": null,
      "metadata": {
        "id": "A7BYeBCNvi7n",
        "outputId": "f7a22eac-d356-4b8e-94f8-ef9af7c4e58f"
      },
      "outputs": [
        {
          "data": {
            "text/plain": [
              "<tf.Tensor: shape=(3, 1, 1, 5), dtype=float32, numpy=\n",
              "array([[[[0., 0., 1., 1., 0.]]],\n",
              "\n",
              "\n",
              "       [[[0., 0., 0., 1., 1.]]],\n",
              "\n",
              "\n",
              "       [[[1., 1., 1., 0., 0.]]]], dtype=float32)>"
            ]
          },
          "execution_count": 29,
          "metadata": {},
          "output_type": "execute_result"
        }
      ],
      "source": [
        "x = tf.constant([[7, 6, 0, 0, 1], [1, 2, 3, 0, 0], [0, 0, 0, 4, 5]])\n",
        "create_padding_mask(x)"
      ]
    },
    {
      "cell_type": "markdown",
      "metadata": {
        "id": "Z0hzukDBgVom"
      },
      "source": [
        "The look-ahead mask is used to mask the future tokens in a sequence. In other words, the mask indicates which entries should not be used.\n",
        "\n",
        "This means that to predict the third token, only the first and second token will be used. Similarly to predict the fourth token, only the first, second and the third tokens will be used and so on."
      ]
    },
    {
      "cell_type": "code",
      "execution_count": null,
      "metadata": {
        "id": "dVxS8OPI9uI0"
      },
      "outputs": [],
      "source": [
        "def create_look_ahead_mask(size):\n",
        "    mask = 1 - tf.linalg.band_part(tf.ones((size, size)), -1, 0)\n",
        "    return mask  # (seq_len, seq_len)"
      ]
    },
    {
      "cell_type": "code",
      "execution_count": null,
      "metadata": {
        "id": "yxKGuXxaBeeE",
        "outputId": "0b7be50f-f83a-410b-c959-d390a7ac90d0"
      },
      "outputs": [
        {
          "data": {
            "text/plain": [
              "<tf.Tensor: shape=(3, 3), dtype=float32, numpy=\n",
              "array([[0., 1., 1.],\n",
              "       [0., 0., 1.],\n",
              "       [0., 0., 0.]], dtype=float32)>"
            ]
          },
          "execution_count": 31,
          "metadata": {},
          "output_type": "execute_result"
        }
      ],
      "source": [
        "x = tf.random.uniform((1, 3))\n",
        "temp = create_look_ahead_mask(x.shape[1])\n",
        "temp"
      ]
    },
    {
      "cell_type": "markdown",
      "metadata": {
        "id": "xluDl5cXYy4y"
      },
      "source": [
        "## Scaled dot product attention"
      ]
    },
    {
      "cell_type": "markdown",
      "metadata": {
        "id": "vsxEE_-Wa1gF"
      },
      "source": [
        "<img src=\"https://www.tensorflow.org/images/tutorials/transformer/scaled_attention.png\" width=\"500\" alt=\"scaled_dot_product_attention\">\n",
        "\n",
        "The attention function used by the transformer takes three inputs: Q (query), K (key), V (value). The equation used to calculate the attention weights is:\n",
        "\n",
        "$$\\Large{Attention(Q, K, V) = softmax_k\\left(\\frac{QK^T}{\\sqrt{d_k}}\\right) V} $$\n",
        "\n",
        "The dot-product attention is scaled by a factor of square root of the depth. This is done because for large values of depth, the dot product grows large in magnitude pushing the softmax function where it has small gradients resulting in a very hard softmax. \n",
        "\n",
        "For example, consider that `Q` and `K` have a mean of 0 and variance of 1. Their matrix multiplication will have a mean of 0 and variance of `dk`. So the *square root of `dk`* is used for scaling, so you get a consistent variance regardless of the value of `dk`. If the variance is too low the output may be too flat to optimize effectively. If the variance is too high the softmax may saturate at initialization making it difficult to learn.\n",
        "\n",
        "The mask is multiplied with -1e9 (close to negative infinity). This is done because the mask is summed with the scaled matrix multiplication of Q and K and is applied immediately before a softmax. The goal is to zero out these cells, and large negative inputs to softmax are near zero in the output."
      ]
    },
    {
      "cell_type": "code",
      "execution_count": null,
      "metadata": {
        "id": "LazzUq3bJ5SH"
      },
      "outputs": [],
      "source": [
        "def scaled_dot_product_attention(q, k, v, mask):\n",
        "    \"\"\"Calculate the attention weights.\n",
        "    q, k, v must have matching leading dimensions.\n",
        "    k, v must have matching penultimate dimension, i.e.: seq_len_k = seq_len_v.\n",
        "    The mask has different shapes depending on its type(padding or look ahead)\n",
        "    but it must be broadcastable for addition.\n",
        "\n",
        "    Args:\n",
        "    q: query shape == (..., seq_len_q, depth)\n",
        "    k: key shape == (..., seq_len_k, depth)\n",
        "    v: value shape == (..., seq_len_v, depth_v)\n",
        "    mask: Float tensor with shape broadcastable\n",
        "          to (..., seq_len_q, seq_len_k). Defaults to None.\n",
        "\n",
        "    Returns:\n",
        "    output, attention_weights\n",
        "    \"\"\"\n",
        "\n",
        "    matmul_qk = tf.matmul(q, k, transpose_b=True)  # (..., seq_len_q, seq_len_k)\n",
        "\n",
        "    # scale matmul_qk\n",
        "    dk = tf.cast(tf.shape(k)[-1], tf.float32)\n",
        "    scaled_attention_logits = matmul_qk / tf.math.sqrt(dk)\n",
        "\n",
        "    # add the mask to the scaled tensor.\n",
        "    if mask is not None:\n",
        "        scaled_attention_logits += (mask * -1e9)\n",
        "\n",
        "    # softmax is normalized on the last axis (seq_len_k) so that the scores\n",
        "    # add up to 1.\n",
        "    attention_weights = tf.nn.softmax(scaled_attention_logits, axis=-1)  # (..., seq_len_q, seq_len_k)\n",
        "\n",
        "    output = tf.matmul(attention_weights, v)  # (..., seq_len_q, depth_v)\n",
        "\n",
        "    return output, attention_weights"
      ]
    },
    {
      "cell_type": "markdown",
      "metadata": {
        "id": "FiqETnhCkoXh"
      },
      "source": [
        "As the softmax normalization is done on K, its values decide the amount of importance given to Q.\n",
        "\n",
        "The output represents the multiplication of the attention weights and the V (value) vector. This ensures that the tokens you want to focus on are kept as-is and the irrelevant tokens are flushed out."
      ]
    },
    {
      "cell_type": "code",
      "execution_count": null,
      "metadata": {
        "id": "n90YjClyInFy"
      },
      "outputs": [],
      "source": [
        "def print_out(q, k, v):\n",
        "    temp_out, temp_attn = scaled_dot_product_attention(q, k, v, None)\n",
        "    print('Attention weights are:')\n",
        "    print(temp_attn)\n",
        "    print('Output is:')\n",
        "    print(temp_out)"
      ]
    },
    {
      "cell_type": "code",
      "execution_count": null,
      "metadata": {
        "id": "yAzUAf2DPlNt",
        "outputId": "df648f44-334c-4d0a-f4db-c83fea6d2081"
      },
      "outputs": [
        {
          "name": "stdout",
          "output_type": "stream",
          "text": [
            "Attention weights are:\n",
            "tf.Tensor([[0. 1. 0. 0.]], shape=(1, 4), dtype=float32)\n",
            "Output is:\n",
            "tf.Tensor([[10.  0.]], shape=(1, 2), dtype=float32)\n"
          ]
        }
      ],
      "source": [
        "np.set_printoptions(suppress=True)\n",
        "\n",
        "temp_k = tf.constant([[10, 0, 0],\n",
        "                      [0, 10, 0],\n",
        "                      [0, 0, 10],\n",
        "                      [0, 0, 10]], dtype=tf.float32)  # (4, 3)\n",
        "\n",
        "temp_v = tf.constant([[1, 0],\n",
        "                      [10, 0],\n",
        "                      [100, 5],\n",
        "                      [1000, 6]], dtype=tf.float32)  # (4, 2)\n",
        "\n",
        "# This `query` aligns with the second `key`,\n",
        "# so the second `value` is returned.\n",
        "temp_q = tf.constant([[0, 10, 0]], dtype=tf.float32)  # (1, 3)\n",
        "print_out(temp_q, temp_k, temp_v)"
      ]
    },
    {
      "cell_type": "code",
      "execution_count": null,
      "metadata": {
        "id": "zg6k-fGhgXra",
        "outputId": "8419fccd-0806-4859-e379-ba178a4080d7"
      },
      "outputs": [
        {
          "name": "stdout",
          "output_type": "stream",
          "text": [
            "Attention weights are:\n",
            "tf.Tensor([[0.  0.  0.5 0.5]], shape=(1, 4), dtype=float32)\n",
            "Output is:\n",
            "tf.Tensor([[550.    5.5]], shape=(1, 2), dtype=float32)\n"
          ]
        }
      ],
      "source": [
        "# This query aligns with a repeated key (third and fourth),\n",
        "# so all associated values get averaged.\n",
        "temp_q = tf.constant([[0, 0, 10]], dtype=tf.float32)  # (1, 3)\n",
        "print_out(temp_q, temp_k, temp_v)"
      ]
    },
    {
      "cell_type": "code",
      "execution_count": null,
      "metadata": {
        "id": "UAq3YOzUgXhb",
        "outputId": "9b97a7ff-4d8c-4d99-aa87-cf09ee494979"
      },
      "outputs": [
        {
          "name": "stdout",
          "output_type": "stream",
          "text": [
            "Attention weights are:\n",
            "tf.Tensor([[0.5 0.5 0.  0. ]], shape=(1, 4), dtype=float32)\n",
            "Output is:\n",
            "tf.Tensor([[5.5 0. ]], shape=(1, 2), dtype=float32)\n"
          ]
        }
      ],
      "source": [
        "# This query aligns equally with the first and second key,\n",
        "# so their values get averaged.\n",
        "temp_q = tf.constant([[10, 10, 0]], dtype=tf.float32)  # (1, 3)\n",
        "print_out(temp_q, temp_k, temp_v)"
      ]
    },
    {
      "cell_type": "markdown",
      "metadata": {
        "id": "aOz-4_XIhaTP"
      },
      "source": [
        "Pass all the queries together."
      ]
    },
    {
      "cell_type": "code",
      "execution_count": null,
      "metadata": {
        "id": "6dlU8Tm-hYrF",
        "outputId": "d4b3c5d8-4c4c-4d63-885e-cb15fb55c976"
      },
      "outputs": [
        {
          "name": "stdout",
          "output_type": "stream",
          "text": [
            "Attention weights are:\n",
            "tf.Tensor(\n",
            "[[0.  0.  0.5 0.5]\n",
            " [0.  1.  0.  0. ]\n",
            " [0.5 0.5 0.  0. ]], shape=(3, 4), dtype=float32)\n",
            "Output is:\n",
            "tf.Tensor(\n",
            "[[550.    5.5]\n",
            " [ 10.    0. ]\n",
            " [  5.5   0. ]], shape=(3, 2), dtype=float32)\n"
          ]
        }
      ],
      "source": [
        "temp_q = tf.constant([[0, 0, 10],\n",
        "                      [0, 10, 0],\n",
        "                      [10, 10, 0]], dtype=tf.float32)  # (3, 3)\n",
        "print_out(temp_q, temp_k, temp_v)"
      ]
    },
    {
      "cell_type": "markdown",
      "metadata": {
        "id": "kmzGPEy64qmA"
      },
      "source": [
        "## Multi-head attention"
      ]
    },
    {
      "cell_type": "markdown",
      "metadata": {
        "id": "fz5BMC8Kaoqo"
      },
      "source": [
        "<img src=\"https://www.tensorflow.org/images/tutorials/transformer/multi_head_attention.png\" width=\"500\" alt=\"multi-head attention\">\n",
        "\n",
        "\n",
        "Multi-head attention consists of four parts:\n",
        "*    Linear layers.\n",
        "*    Scaled dot-product attention.\n",
        "*    Final linear layer."
      ]
    },
    {
      "cell_type": "markdown",
      "metadata": {
        "id": "JPmbr6F1C-v_"
      },
      "source": [
        "Each multi-head attention block gets three inputs; Q (query), K (key), V (value). These are put through linear (Dense) layers before the multi-head attention function.\n",
        "\n",
        "In the diagram above `(K,Q,V)` are passed through sepearte linear (`Dense`) layers for each attention head. For simplicity/efficiency the code below implements this using a single dense layer with `num_heads` times as many outputs. The output is rearranged to a shape of `(batch, num_heads, ...)` before applying the attention function.\n",
        "\n",
        "The `scaled_dot_product_attention` function defined above is applied in a single call, broadcasted for efficiency. An appropriate mask must be used in the attention step.  The attention output for each head is then concatenated (using `tf.transpose`, and `tf.reshape`) and put through a final `Dense` layer.\n",
        "\n",
        "Instead of one single attention head, Q, K, and V are split into multiple heads because it allows the model to jointly attend to information from different representation subspaces at different positions. After the split each head has a reduced dimensionality, so the total computation cost is the same as a single head attention with full dimensionality."
      ]
    },
    {
      "cell_type": "code",
      "execution_count": null,
      "metadata": {
        "id": "BSV3PPKsYecw"
      },
      "outputs": [],
      "source": [
        "class MultiHeadAttention(tf.keras.layers.Layer):\n",
        "    def __init__(self, d_model, num_heads):\n",
        "        super(MultiHeadAttention, self).__init__()\n",
        "        self.num_heads = num_heads\n",
        "        self.d_model = d_model\n",
        "\n",
        "        assert d_model % self.num_heads == 0\n",
        "\n",
        "        self.depth = d_model // self.num_heads\n",
        "\n",
        "        self.wq = tf.keras.layers.Dense(d_model)\n",
        "        self.wk = tf.keras.layers.Dense(d_model)\n",
        "        self.wv = tf.keras.layers.Dense(d_model)\n",
        "\n",
        "        self.dense = tf.keras.layers.Dense(d_model)\n",
        "\n",
        "    def split_heads(self, x, batch_size):\n",
        "        \"\"\"Split the last dimension into (num_heads, depth).\n",
        "        Transpose the result such that the shape is (batch_size, num_heads, seq_len, depth)\n",
        "        \"\"\"\n",
        "        x = tf.reshape(x, (batch_size, -1, self.num_heads, self.depth))\n",
        "        return tf.transpose(x, perm=[0, 2, 1, 3])\n",
        "\n",
        "    def call(self, v, k, q, mask):\n",
        "        batch_size = tf.shape(q)[0]\n",
        "\n",
        "        q = self.wq(q)  # (batch_size, seq_len, d_model)\n",
        "        k = self.wk(k)  # (batch_size, seq_len, d_model)\n",
        "        v = self.wv(v)  # (batch_size, seq_len, d_model)\n",
        "\n",
        "        q = self.split_heads(q, batch_size)  # (batch_size, num_heads, seq_len_q, depth)\n",
        "        k = self.split_heads(k, batch_size)  # (batch_size, num_heads, seq_len_k, depth)\n",
        "        v = self.split_heads(v, batch_size)  # (batch_size, num_heads, seq_len_v, depth)\n",
        "\n",
        "        # scaled_attention.shape == (batch_size, num_heads, seq_len_q, depth)\n",
        "        # attention_weights.shape == (batch_size, num_heads, seq_len_q, seq_len_k)\n",
        "        scaled_attention, attention_weights = scaled_dot_product_attention(q, k, v, mask)\n",
        "\n",
        "        scaled_attention = tf.transpose(scaled_attention, perm=[0, 2, 1, 3])  # (batch_size, seq_len_q, num_heads, depth)\n",
        "\n",
        "        concat_attention = tf.reshape(scaled_attention,\n",
        "                                      (batch_size, -1, self.d_model))  # (batch_size, seq_len_q, d_model)\n",
        "\n",
        "        output = self.dense(concat_attention)  # (batch_size, seq_len_q, d_model)\n",
        "\n",
        "        return output, attention_weights"
      ]
    },
    {
      "cell_type": "markdown",
      "metadata": {
        "id": "0D8FJue5lDyZ"
      },
      "source": [
        "Create a `MultiHeadAttention` layer to try out. At each location in the sequence, `y`, the `MultiHeadAttention` runs all 8 attention heads across all other locations in the sequence, returning a new vector of the same length at each location."
      ]
    },
    {
      "cell_type": "code",
      "execution_count": null,
      "metadata": {
        "id": "Hu94p-_-2_BX",
        "outputId": "2416c91c-2345-4b1f-cb15-e393e1222dfa"
      },
      "outputs": [
        {
          "data": {
            "text/plain": [
              "(TensorShape([1, 60, 512]), TensorShape([1, 8, 60, 60]))"
            ]
          },
          "execution_count": 39,
          "metadata": {},
          "output_type": "execute_result"
        }
      ],
      "source": [
        "temp_mha = MultiHeadAttention(d_model=512, num_heads=8)\n",
        "y = tf.random.uniform((1, 60, 512))  # (batch_size, encoder_sequence, d_model)\n",
        "out, attn = temp_mha(y, k=y, q=y, mask=None)\n",
        "out.shape, attn.shape"
      ]
    },
    {
      "cell_type": "markdown",
      "metadata": {
        "id": "RdDqGayx67vv"
      },
      "source": [
        "## Point wise feed forward network"
      ]
    },
    {
      "cell_type": "markdown",
      "metadata": {
        "id": "gBqzJXGfHK3X"
      },
      "source": [
        "Point wise feed forward network consists of two fully-connected layers with a ReLU activation in between."
      ]
    },
    {
      "cell_type": "code",
      "execution_count": null,
      "metadata": {
        "id": "ET7xLt0yCT6Z"
      },
      "outputs": [],
      "source": [
        "def point_wise_feed_forward_network(d_model, dff):\n",
        "    return tf.keras.Sequential([\n",
        "      tf.keras.layers.Dense(dff, activation='relu'),  # (batch_size, seq_len, dff)\n",
        "      tf.keras.layers.Dense(d_model)  # (batch_size, seq_len, d_model)\n",
        "    ])"
      ]
    },
    {
      "cell_type": "code",
      "execution_count": null,
      "metadata": {
        "id": "mytb1lPyOHLB",
        "outputId": "03b282a7-986c-4657-8b96-dd93a35aa10b"
      },
      "outputs": [
        {
          "data": {
            "text/plain": [
              "TensorShape([64, 50, 512])"
            ]
          },
          "execution_count": 41,
          "metadata": {},
          "output_type": "execute_result"
        }
      ],
      "source": [
        "sample_ffn = point_wise_feed_forward_network(512, 2048)\n",
        "sample_ffn(tf.random.uniform((64, 50, 512))).shape"
      ]
    },
    {
      "cell_type": "markdown",
      "metadata": {
        "id": "7e7hKcxn6-zd"
      },
      "source": [
        "## Encoder and decoder"
      ]
    },
    {
      "cell_type": "markdown",
      "metadata": {
        "id": "yScbC0MUH8dS"
      },
      "source": [
        "<img src=\"https://www.tensorflow.org/images/tutorials/transformer/transformer.png\" width=\"600\" alt=\"transformer\">"
      ]
    },
    {
      "cell_type": "markdown",
      "metadata": {
        "id": "MfYJG-Kvgwy2"
      },
      "source": [
        "The transformer model follows the same general pattern as a standard [sequence to sequence with attention model](https://www.tensorflow.org/text/tutorials/nmt_with_attention.ipynb). \n",
        "\n",
        "* The input sentence is passed through `N` encoder layers that generates an output for each token in the sequence.\n",
        "* The decoder attends to the encoder's output and its own input (self-attention) to predict the next word. "
      ]
    },
    {
      "cell_type": "markdown",
      "metadata": {
        "id": "QFv-FNYUmvpn"
      },
      "source": [
        "### Encoder layer\n",
        "\n",
        "Each encoder layer consists of sublayers:\n",
        "\n",
        "1.   Multi-head attention (with padding mask) \n",
        "2.    Point wise feed forward networks. \n",
        "\n",
        "Each of these sublayers has a residual connection around it followed by a layer normalization. Residual connections help in avoiding the vanishing gradient problem in deep networks.\n",
        "\n",
        "The output of each sublayer is `LayerNorm(x + Sublayer(x))`. The normalization is done on the `d_model` (last) axis. There are N encoder layers in the transformer."
      ]
    },
    {
      "cell_type": "code",
      "execution_count": null,
      "metadata": {
        "id": "ncyS-Ms3i2x_"
      },
      "outputs": [],
      "source": [
        "class EncoderLayer(tf.keras.layers.Layer):\n",
        "    def __init__(self, d_model, num_heads, dff, rate=0.1):\n",
        "        super(EncoderLayer, self).__init__()\n",
        "\n",
        "        self.mha = MultiHeadAttention(d_model, num_heads)\n",
        "        self.ffn = point_wise_feed_forward_network(d_model, dff)\n",
        "\n",
        "        self.layernorm1 = tf.keras.layers.LayerNormalization(epsilon=1e-6)\n",
        "        self.layernorm2 = tf.keras.layers.LayerNormalization(epsilon=1e-6)\n",
        "\n",
        "        self.dropout1 = tf.keras.layers.Dropout(rate)\n",
        "        self.dropout2 = tf.keras.layers.Dropout(rate)\n",
        "\n",
        "    def call(self, x, training, mask):\n",
        "\n",
        "        attn_output, _ = self.mha(x, x, x, mask)  # (batch_size, input_seq_len, d_model)\n",
        "        attn_output = self.dropout1(attn_output, training=training)\n",
        "        out1 = self.layernorm1(x + attn_output)  # (batch_size, input_seq_len, d_model)\n",
        "\n",
        "        ffn_output = self.ffn(out1)  # (batch_size, input_seq_len, d_model)\n",
        "        ffn_output = self.dropout2(ffn_output, training=training)\n",
        "        out2 = self.layernorm2(out1 + ffn_output)  # (batch_size, input_seq_len, d_model)\n",
        "\n",
        "        return out2"
      ]
    },
    {
      "cell_type": "code",
      "execution_count": null,
      "metadata": {
        "id": "AzZRXdO0mI48",
        "outputId": "4247d9a8-2890-4a6b-c88b-c1d909ad1dd6"
      },
      "outputs": [
        {
          "data": {
            "text/plain": [
              "TensorShape([64, 43, 512])"
            ]
          },
          "execution_count": 43,
          "metadata": {},
          "output_type": "execute_result"
        }
      ],
      "source": [
        "sample_encoder_layer = EncoderLayer(512, 8, 2048)\n",
        "\n",
        "sample_encoder_layer_output = sample_encoder_layer(\n",
        "    tf.random.uniform((64, 43, 512)), False, None)\n",
        "\n",
        "sample_encoder_layer_output.shape  # (batch_size, input_seq_len, d_model)"
      ]
    },
    {
      "cell_type": "markdown",
      "metadata": {
        "id": "6LO_48Owmx_o"
      },
      "source": [
        "### Decoder layer\n",
        "\n",
        "Each decoder layer consists of sublayers:\n",
        "\n",
        "1.   Masked multi-head attention (with look ahead mask and padding mask)\n",
        "2.   Multi-head attention (with padding mask). V (value) and K (key) receive the *encoder output* as inputs. Q (query) receives the *output from the masked multi-head attention sublayer.*\n",
        "3.   Point wise feed forward networks\n",
        "\n",
        "Each of these sublayers has a residual connection around it followed by a layer normalization. The output of each sublayer is `LayerNorm(x + Sublayer(x))`. The normalization is done on the `d_model` (last) axis.\n",
        "\n",
        "There are N decoder layers in the transformer.\n",
        "\n",
        "As Q receives the output from decoder's first attention block, and K receives the encoder output, the attention weights represent the importance given to the decoder's input based on the encoder's output. In other words, the decoder predicts the next token by looking at the encoder output and self-attending to its own output. See the demonstration above in the scaled dot product attention section."
      ]
    },
    {
      "cell_type": "code",
      "execution_count": null,
      "metadata": {
        "id": "9SoX0-vd1hue"
      },
      "outputs": [],
      "source": [
        "class DecoderLayer(tf.keras.layers.Layer):\n",
        "    def __init__(self, d_model, num_heads, dff, rate=0.1):\n",
        "        super(DecoderLayer, self).__init__()\n",
        "\n",
        "        self.mha1 = MultiHeadAttention(d_model, num_heads)\n",
        "        self.mha2 = MultiHeadAttention(d_model, num_heads)\n",
        "\n",
        "        self.ffn = point_wise_feed_forward_network(d_model, dff)\n",
        "\n",
        "        self.layernorm1 = tf.keras.layers.LayerNormalization(epsilon=1e-6)\n",
        "        self.layernorm2 = tf.keras.layers.LayerNormalization(epsilon=1e-6)\n",
        "        self.layernorm3 = tf.keras.layers.LayerNormalization(epsilon=1e-6)\n",
        "\n",
        "        self.dropout1 = tf.keras.layers.Dropout(rate)\n",
        "        self.dropout2 = tf.keras.layers.Dropout(rate)\n",
        "        self.dropout3 = tf.keras.layers.Dropout(rate)\n",
        "\n",
        "    def call(self, x, enc_output, training, look_ahead_mask, padding_mask):\n",
        "        # enc_output.shape == (batch_size, input_seq_len, d_model)\n",
        "\n",
        "        attn1, attn_weights_block1 = self.mha1(x, x, x, look_ahead_mask)  # (batch_size, target_seq_len, d_model)\n",
        "        attn1 = self.dropout1(attn1, training=training)\n",
        "        out1 = self.layernorm1(attn1 + x)\n",
        "\n",
        "        attn2, attn_weights_block2 = self.mha2(enc_output, enc_output, out1, padding_mask)  # (batch_size, target_seq_len, d_model)\n",
        "        attn2 = self.dropout2(attn2, training=training)\n",
        "        out2 = self.layernorm2(attn2 + out1)  # (batch_size, target_seq_len, d_model)\n",
        "\n",
        "        ffn_output = self.ffn(out2)  # (batch_size, target_seq_len, d_model)\n",
        "        ffn_output = self.dropout3(ffn_output, training=training)\n",
        "        out3 = self.layernorm3(ffn_output + out2)  # (batch_size, target_seq_len, d_model)\n",
        "\n",
        "        return out3, attn_weights_block1, attn_weights_block2"
      ]
    },
    {
      "cell_type": "code",
      "execution_count": null,
      "metadata": {
        "id": "Ne2Bqx8k71l0",
        "outputId": "22cd23ec-eed4-41f4-823d-3282cfea3f69"
      },
      "outputs": [
        {
          "data": {
            "text/plain": [
              "TensorShape([64, 50, 512])"
            ]
          },
          "execution_count": 45,
          "metadata": {},
          "output_type": "execute_result"
        }
      ],
      "source": [
        "sample_decoder_layer = DecoderLayer(512, 8, 2048)\n",
        "\n",
        "sample_decoder_layer_output, _, _ = sample_decoder_layer(\n",
        "    tf.random.uniform((64, 50, 512)), sample_encoder_layer_output,\n",
        "    False, None, None)\n",
        "\n",
        "sample_decoder_layer_output.shape  # (batch_size, target_seq_len, d_model)"
      ]
    },
    {
      "cell_type": "markdown",
      "metadata": {
        "id": "SE1H51Ajm0q1"
      },
      "source": [
        "### Encoder\n",
        "\n",
        "The `Encoder` consists of:\n",
        "1.   Input Embedding\n",
        "2.   Positional Encoding\n",
        "3.   N encoder layers\n",
        "\n",
        "The input is put through an embedding which is summed with the positional encoding. The output of this summation is the input to the encoder layers. The output of the encoder is the input to the decoder."
      ]
    },
    {
      "cell_type": "code",
      "execution_count": null,
      "metadata": {
        "id": "jpEox7gJ8FCI"
      },
      "outputs": [],
      "source": [
        "class Encoder(tf.keras.layers.Layer):\n",
        "    def __init__(self, num_layers, d_model, num_heads, dff, input_vocab_size,\n",
        "               maximum_position_encoding, rate=0.1):\n",
        "        super(Encoder, self).__init__()\n",
        "\n",
        "        self.d_model = d_model\n",
        "        self.num_layers = num_layers\n",
        "\n",
        "        self.embedding = tf.keras.layers.Embedding(input_vocab_size, d_model)\n",
        "        self.pos_encoding = positional_encoding(maximum_position_encoding,\n",
        "                                                self.d_model)\n",
        "\n",
        "        self.enc_layers = [EncoderLayer(d_model, num_heads, dff, rate)\n",
        "                           for _ in range(num_layers)]\n",
        "\n",
        "        self.dropout = tf.keras.layers.Dropout(rate)\n",
        "\n",
        "    def call(self, x, training, mask):\n",
        "        seq_len = tf.shape(x)[1]\n",
        "\n",
        "        # adding embedding and position encoding.\n",
        "        x = self.embedding(x)  # (batch_size, input_seq_len, d_model)\n",
        "        x *= tf.math.sqrt(tf.cast(self.d_model, tf.float32))\n",
        "        x += self.pos_encoding[:, :seq_len, :]\n",
        "\n",
        "        x = self.dropout(x, training=training)\n",
        "\n",
        "        for i in range(self.num_layers):\n",
        "            x = self.enc_layers[i](x, training, mask)\n",
        "\n",
        "        return x  # (batch_size, input_seq_len, d_model)"
      ]
    },
    {
      "cell_type": "code",
      "execution_count": null,
      "metadata": {
        "id": "8QG9nueFQKXx",
        "outputId": "dee021b1-a159-4c5c-80e6-604e521342d7"
      },
      "outputs": [
        {
          "name": "stdout",
          "output_type": "stream",
          "text": [
            "(64, 62, 512)\n"
          ]
        }
      ],
      "source": [
        "sample_encoder = Encoder(num_layers=2, d_model=512, num_heads=8,\n",
        "                         dff=2048, input_vocab_size=8500,\n",
        "                         maximum_position_encoding=10000)\n",
        "temp_input = tf.random.uniform((64, 62), dtype=tf.int64, minval=0, maxval=200)\n",
        "\n",
        "sample_encoder_output = sample_encoder(temp_input, training=False, mask=None)\n",
        "\n",
        "print(sample_encoder_output.shape)  # (batch_size, input_seq_len, d_model)"
      ]
    },
    {
      "cell_type": "markdown",
      "metadata": {
        "id": "p-uO6ls8m2O5"
      },
      "source": [
        "### Decoder"
      ]
    },
    {
      "cell_type": "markdown",
      "metadata": {
        "id": "ZtT7PKzrXkNr"
      },
      "source": [
        " The `Decoder` consists of:\n",
        "1.   Output Embedding\n",
        "2.   Positional Encoding\n",
        "3.   N decoder layers\n",
        "\n",
        "The target is put through an embedding which is summed with the positional encoding. The output of this summation is the input to the decoder layers. The output of the decoder is the input to the final linear layer."
      ]
    },
    {
      "cell_type": "code",
      "execution_count": null,
      "metadata": {
        "id": "d5_d5-PLQXwY"
      },
      "outputs": [],
      "source": [
        "class Decoder(tf.keras.layers.Layer):\n",
        "    def __init__(self, num_layers, d_model, num_heads, dff, target_vocab_size,\n",
        "                 maximum_position_encoding, rate=0.1):\n",
        "        super(Decoder, self).__init__()\n",
        "\n",
        "        self.d_model = d_model\n",
        "        self.num_layers = num_layers\n",
        "\n",
        "        self.embedding = tf.keras.layers.Embedding(target_vocab_size, d_model)\n",
        "        self.pos_encoding = positional_encoding(maximum_position_encoding, d_model)\n",
        "\n",
        "        self.dec_layers = [DecoderLayer(d_model, num_heads, dff, rate)\n",
        "                           for _ in range(num_layers)]\n",
        "        self.dropout = tf.keras.layers.Dropout(rate)\n",
        "\n",
        "    def call(self, x, enc_output, training, look_ahead_mask, padding_mask):\n",
        "\n",
        "        seq_len = tf.shape(x)[1]\n",
        "        attention_weights = {}\n",
        "\n",
        "        x = self.embedding(x)  # (batch_size, target_seq_len, d_model)\n",
        "        x *= tf.math.sqrt(tf.cast(self.d_model, tf.float32))\n",
        "        x += self.pos_encoding[:, :seq_len, :]\n",
        "\n",
        "        x = self.dropout(x, training=training)\n",
        "\n",
        "        for i in range(self.num_layers):\n",
        "            x, block1, block2 = self.dec_layers[i](x, enc_output, training,\n",
        "                                                 look_ahead_mask, padding_mask)\n",
        "\n",
        "            attention_weights[f'decoder_layer{i+1}_block1'] = block1\n",
        "            attention_weights[f'decoder_layer{i+1}_block2'] = block2\n",
        "\n",
        "        # x.shape == (batch_size, target_seq_len, d_model)\n",
        "        return x, attention_weights"
      ]
    },
    {
      "cell_type": "code",
      "execution_count": null,
      "metadata": {
        "id": "a1jXoAMRZyvu",
        "outputId": "31484a93-51c5-4219-d3d5-cf8c8d996620"
      },
      "outputs": [
        {
          "data": {
            "text/plain": [
              "(TensorShape([64, 26, 512]), TensorShape([64, 8, 26, 62]))"
            ]
          },
          "execution_count": 49,
          "metadata": {},
          "output_type": "execute_result"
        }
      ],
      "source": [
        "sample_decoder = Decoder(num_layers=2, d_model=512, num_heads=8,\n",
        "                         dff=2048, target_vocab_size=8000,\n",
        "                         maximum_position_encoding=5000)\n",
        "temp_input = tf.random.uniform((64, 26), dtype=tf.int64, minval=0, maxval=200)\n",
        "\n",
        "output, attn = sample_decoder(temp_input,\n",
        "                              enc_output=sample_encoder_output,\n",
        "                              training=False,\n",
        "                              look_ahead_mask=None,\n",
        "                              padding_mask=None)\n",
        "\n",
        "output.shape, attn['decoder_layer2_block2'].shape"
      ]
    },
    {
      "cell_type": "markdown",
      "metadata": {
        "id": "y54xnJnuYgJ7"
      },
      "source": [
        "## Create the Transformer"
      ]
    },
    {
      "cell_type": "markdown",
      "metadata": {
        "id": "uERO1y54cOKq"
      },
      "source": [
        "Transformer consists of the encoder, decoder and a final linear layer. The output of the decoder is the input to the linear layer and its output is returned."
      ]
    },
    {
      "cell_type": "code",
      "execution_count": null,
      "metadata": {
        "id": "PED3bIpOYkBu"
      },
      "outputs": [],
      "source": [
        "class Transformer(tf.keras.Model):\n",
        "    def __init__(self, num_layers, d_model, num_heads, dff, input_vocab_size,\n",
        "               target_vocab_size, pe_input, pe_target, rate=0.1):\n",
        "        super().__init__()\n",
        "        self.encoder = Encoder(num_layers, d_model, num_heads, dff,\n",
        "                                 input_vocab_size, pe_input, rate)\n",
        "\n",
        "        self.decoder = Decoder(num_layers, d_model, num_heads, dff,\n",
        "                               target_vocab_size, pe_target, rate)\n",
        "\n",
        "        self.final_layer = tf.keras.layers.Dense(target_vocab_size)\n",
        "\n",
        "    def call(self, inputs, training):\n",
        "        # Keras models prefer if you pass all your inputs in the first argument\n",
        "        inp, tar = inputs\n",
        "\n",
        "        enc_padding_mask, look_ahead_mask, dec_padding_mask = self.create_masks(inp, tar)\n",
        "\n",
        "        enc_output = self.encoder(inp, training, enc_padding_mask)  # (batch_size, inp_seq_len, d_model)\n",
        "\n",
        "        # dec_output.shape == (batch_size, tar_seq_len, d_model)\n",
        "        dec_output, attention_weights = self.decoder(tar, enc_output, training, \n",
        "                                                     look_ahead_mask, dec_padding_mask)\n",
        "\n",
        "        final_output = self.final_layer(dec_output)  # (batch_size, tar_seq_len, target_vocab_size)\n",
        "\n",
        "        return final_output, attention_weights\n",
        "\n",
        "    def create_masks(self, inp, tar):\n",
        "        # Encoder padding mask\n",
        "        enc_padding_mask = create_padding_mask(inp)\n",
        "\n",
        "        # Used in the 2nd attention block in the decoder.\n",
        "        # This padding mask is used to mask the encoder outputs.\n",
        "        dec_padding_mask = create_padding_mask(inp)\n",
        "\n",
        "        # Used in the 1st attention block in the decoder.\n",
        "        # It is used to pad and mask future tokens in the input received by\n",
        "        # the decoder.\n",
        "        look_ahead_mask = create_look_ahead_mask(tf.shape(tar)[1])\n",
        "        dec_target_padding_mask = create_padding_mask(tar)\n",
        "        look_ahead_mask = tf.maximum(dec_target_padding_mask, look_ahead_mask)\n",
        "\n",
        "        return enc_padding_mask, look_ahead_mask, dec_padding_mask"
      ]
    },
    {
      "cell_type": "code",
      "execution_count": null,
      "metadata": {
        "id": "tJ4fbQcIkHW1",
        "outputId": "4fbb2457-75fa-432a-d733-c2a32723f0bc"
      },
      "outputs": [
        {
          "data": {
            "text/plain": [
              "TensorShape([64, 36, 8000])"
            ]
          },
          "execution_count": 51,
          "metadata": {},
          "output_type": "execute_result"
        }
      ],
      "source": [
        "sample_transformer = Transformer(\n",
        "    num_layers=2, d_model=512, num_heads=8, dff=2048,\n",
        "    input_vocab_size=8500, target_vocab_size=8000,\n",
        "    pe_input=10000, pe_target=6000)\n",
        "\n",
        "temp_input = tf.random.uniform((64, 38), dtype=tf.int64, minval=0, maxval=200)\n",
        "temp_target = tf.random.uniform((64, 36), dtype=tf.int64, minval=0, maxval=200)\n",
        "\n",
        "fn_out, _ = sample_transformer([temp_input, temp_target], training=False)\n",
        "\n",
        "fn_out.shape  # (batch_size, tar_seq_len, target_vocab_size)"
      ]
    },
    {
      "cell_type": "markdown",
      "metadata": {
        "id": "wsINyf1VEQLC"
      },
      "source": [
        "## Set hyperparameters"
      ]
    },
    {
      "cell_type": "markdown",
      "metadata": {
        "id": "zVjWCxFNcgbt"
      },
      "source": [
        "To keep this example small and relatively fast, the values for `num_layers, d_model, dff` have been reduced. \n",
        "\n",
        "The base model described in the [paper](https://arxiv.org/abs/1706.03762) used: `num_layers=6, d_model=512, dff=2048`."
      ]
    },
    {
      "cell_type": "code",
      "execution_count": null,
      "metadata": {
        "id": "lnJn5SLA2ahP"
      },
      "outputs": [],
      "source": [
        "num_layers = 2\n",
        "d_model = 32\n",
        "dff = 64\n",
        "num_heads = 8\n",
        "dropout_rate = 0.1"
      ]
    },
    {
      "cell_type": "markdown",
      "metadata": {
        "id": "xYEGhEOtzn5W"
      },
      "source": [
        "## Optimizer"
      ]
    },
    {
      "cell_type": "markdown",
      "metadata": {
        "id": "GOmWW--yP3zx"
      },
      "source": [
        "Use the Adam optimizer with a custom learning rate scheduler according to the formula in the [paper](https://arxiv.org/abs/1706.03762).\n",
        "\n",
        "$$\\Large{lrate = d_{model}^{-0.5} * \\min(step{\\_}num^{-0.5}, step{\\_}num \\cdot warmup{\\_}steps^{-1.5})}$$\n"
      ]
    },
    {
      "cell_type": "code",
      "execution_count": null,
      "metadata": {
        "id": "iYQdOO1axwEI"
      },
      "outputs": [],
      "source": [
        "class CustomSchedule(tf.keras.optimizers.schedules.LearningRateSchedule):\n",
        "    def __init__(self, d_model, warmup_steps=4000):\n",
        "        super(CustomSchedule, self).__init__()\n",
        "\n",
        "        self.d_model = d_model\n",
        "        self.d_model = tf.cast(self.d_model, tf.float32)\n",
        "\n",
        "        self.warmup_steps = warmup_steps\n",
        "\n",
        "    def __call__(self, step):\n",
        "        arg1 = tf.math.rsqrt(step)\n",
        "        arg2 = step * (self.warmup_steps ** -1.5)\n",
        "\n",
        "        return tf.math.rsqrt(self.d_model) * tf.math.minimum(arg1, arg2)"
      ]
    },
    {
      "cell_type": "code",
      "execution_count": null,
      "metadata": {
        "id": "7r4scdulztRx"
      },
      "outputs": [],
      "source": [
        "learning_rate = CustomSchedule(d_model)\n",
        "\n",
        "optimizer = tf.keras.optimizers.Adam(learning_rate, beta_1=0.9, beta_2=0.98,\n",
        "                                     epsilon=1e-9)"
      ]
    },
    {
      "cell_type": "code",
      "execution_count": null,
      "metadata": {
        "id": "f33ZCgvHpPdG",
        "colab": {
          "base_uri": "https://localhost:8080/",
          "height": 296
        },
        "outputId": "e63a802b-4e48-4a99-a770-82885f934c62"
      },
      "outputs": [
        {
          "output_type": "execute_result",
          "data": {
            "text/plain": [
              "Text(0.5, 0, 'Train Step')"
            ]
          },
          "metadata": {},
          "execution_count": 65
        },
        {
          "output_type": "display_data",
          "data": {
            "image/png": "[encoded data removed]",
            "text/plain": [
              "<Figure size 432x288 with 1 Axes>"
            ]
          },
          "metadata": {
            "needs_background": "light"
          }
        }
      ],
      "source": [
        "temp_learning_rate_schedule = CustomSchedule(d_model)\n",
        "\n",
        "plt.plot(temp_learning_rate_schedule(tf.range(40000, dtype=tf.float32)))\n",
        "plt.ylabel(\"Learning Rate\")\n",
        "plt.xlabel(\"Train Step\")"
      ]
    },
    {
      "cell_type": "markdown",
      "metadata": {
        "id": "YgkDE7hzo8r5"
      },
      "source": [
        "## Loss and metrics"
      ]
    },
    {
      "cell_type": "markdown",
      "metadata": {
        "id": "oxGJtoDuYIHL"
      },
      "source": [
        "Since the target sequences are padded, it is important to apply a padding mask when calculating the loss."
      ]
    },
    {
      "cell_type": "code",
      "execution_count": null,
      "metadata": {
        "id": "MlhsJMm0TW_B"
      },
      "outputs": [],
      "source": [
        "loss_object = tf.keras.losses.SparseCategoricalCrossentropy(\n",
        "    from_logits=True, reduction='none')"
      ]
    },
    {
      "cell_type": "code",
      "execution_count": 90,
      "metadata": {
        "id": "67oqVHiT0Eiu"
      },
      "outputs": [],
      "source": [
        "def loss_function(real, pred):\n",
        "    mask = tf.math.logical_not(tf.math.equal(real, 0))\n",
        "    loss_ = loss_object(real, pred)\n",
        "\n",
        "    mask = tf.cast(mask, dtype=loss_.dtype)\n",
        "    loss_ *= mask\n",
        "\n",
        "    return tf.reduce_sum(loss_)/tf.reduce_sum(mask)\n",
        "\n",
        "\n",
        "def accuracy_function(real, pred): # Measures character by character equality separately.\n",
        "                                   # That is as if each character in a sentence is measured.\n",
        "    accuracies = tf.equal(real, tf.argmax(pred, axis=2))\n",
        "\n",
        "    mask = tf.math.logical_not(tf.math.equal(real, 0))\n",
        "    accuracies = tf.math.logical_and(mask, accuracies)\n",
        "\n",
        "    accuracies = tf.cast(accuracies, dtype=tf.float32)\n",
        "    mask = tf.cast(mask, dtype=tf.float32)\n",
        "    return tf.reduce_sum(accuracies)/tf.reduce_sum(mask)\n",
        "\n",
        "from ignite.metrics.nlp import Bleu\n",
        "def bleu_function(real, pred):\n",
        "  indices = tf.argmax(pred, axis=2)\n",
        "  hypotheses = [list(indices[i][real[i]!=0].numpy()) for i in range(len(real))]\n",
        "  references = [[list(real[i][real[i]!=0].numpy())] for i in range(len(real))]\n",
        "  m = Bleu(ngram=4, smooth=\"smooth1\")\n",
        "  m.update((hypotheses, references))\n",
        "  return m.compute()"
      ]
    },
    {
      "cell_type": "code",
      "execution_count": 91,
      "metadata": {
        "id": "phlyxMnm-Tpx"
      },
      "outputs": [],
      "source": [
        "train_loss = tf.keras.metrics.Mean(name='train_loss')\n",
        "train_accuracy = tf.keras.metrics.Mean(name='train_accuracy')\n",
        "eval_accuracy = tf.keras.metrics.Mean(name='eval_accuracy')\n",
        "eval_bleu = tf.keras.metrics.Mean(name='eval_bleu')"
      ]
    },
    {
      "cell_type": "markdown",
      "metadata": {
        "id": "aeHumfr7zmMa"
      },
      "source": [
        "## Training and checkpointing"
      ]
    },
    {
      "cell_type": "code",
      "execution_count": null,
      "metadata": {
        "id": "UiysUa--4tOU"
      },
      "outputs": [],
      "source": [
        "transformer = Transformer(\n",
        "    num_layers=num_layers,\n",
        "    d_model=d_model,\n",
        "    num_heads=num_heads,\n",
        "    dff=dff,\n",
        "    input_vocab_size=len(fi_chars) + 1,\n",
        "    target_vocab_size=len(pe_chars) + 1,\n",
        "    pe_input=300,\n",
        "    pe_target=300,\n",
        "    rate=dropout_rate)"
      ]
    },
    {
      "cell_type": "markdown",
      "metadata": {
        "id": "Fzuf06YZp66w"
      },
      "source": [
        "Create the checkpoint path and the checkpoint manager. This will be used to save checkpoints every `n` epochs."
      ]
    },
    {
      "cell_type": "code",
      "source": [
        "!mv latin-persian-to-farsi-alphabet-main/checkpoints ."
      ],
      "metadata": {
        "id": "uzYZB9t5TnTe"
      },
      "execution_count": null,
      "outputs": []
    },
    {
      "cell_type": "code",
      "execution_count": null,
      "metadata": {
        "id": "hNhuYfllndLZ",
        "colab": {
          "base_uri": "https://localhost:8080/"
        },
        "outputId": "b2a3ed4d-34ef-4e2a-d788-1f577618f4e7"
      },
      "outputs": [
        {
          "output_type": "stream",
          "name": "stdout",
          "text": [
            "Latest checkpoint restored!!\n"
          ]
        }
      ],
      "source": [
        "checkpoint_path = \"./checkpoints/train\"\n",
        "\n",
        "ckpt = tf.train.Checkpoint(transformer=transformer,\n",
        "                           optimizer=optimizer)\n",
        "\n",
        "ckpt_manager = tf.train.CheckpointManager(ckpt, checkpoint_path, max_to_keep=5)\n",
        "\n",
        "# if a checkpoint exists, restore the latest checkpoint.\n",
        "if ckpt_manager.latest_checkpoint:\n",
        "    ckpt.restore(ckpt_manager.latest_checkpoint)\n",
        "    print('Latest checkpoint restored!!')"
      ]
    },
    {
      "cell_type": "markdown",
      "metadata": {
        "id": "0Di_Yaa1gf9r"
      },
      "source": [
        "The target is divided into tar_inp and tar_real. tar_inp is passed as an input to the decoder. `tar_real` is that same input shifted by 1: At each location in `tar_input`, `tar_real` contains the  next token that should be predicted.\n",
        "\n",
        "For example, `sentence` = \"SOS A lion in the jungle is sleeping EOS\"\n",
        "\n",
        "`tar_inp` =  \"SOS A lion in the jungle is sleeping\"\n",
        "\n",
        "`tar_real` = \"A lion in the jungle is sleeping EOS\"\n",
        "\n",
        "The transformer is an auto-regressive model: it makes predictions one part at a time, and uses its output so far to decide what to do next. \n",
        "\n",
        "During training this example uses teacher-forcing (like in the [text generation tutorial](https://www.tensorflow.org/text/tutorials/text_generation)). Teacher forcing is passing the true output to the next time step regardless of what the model predicts at the current time step.\n",
        "\n",
        "As the transformer predicts each token, *self-attention* allows it to look at the previous tokens in the input sequence to better predict the next token.\n",
        "\n",
        "To prevent the model from peeking at the expected output the model uses a look-ahead mask."
      ]
    },
    {
      "cell_type": "code",
      "execution_count": null,
      "metadata": {
        "id": "LKpoA6q1sJFj"
      },
      "outputs": [],
      "source": [
        "EPOCHS = 3"
      ]
    },
    {
      "cell_type": "code",
      "execution_count": null,
      "metadata": {
        "id": "iJwmp9OE29oj"
      },
      "outputs": [],
      "source": [
        "# The @tf.function trace-compiles train_step into a TF graph for faster\n",
        "# execution. The function specializes to the precise shape of the argument\n",
        "# tensors. To avoid re-tracing due to the variable sequence lengths or variable\n",
        "# batch sizes (the last batch is smaller), use input_signature to specify\n",
        "# more generic shapes.\n",
        "\n",
        "train_step_signature = [\n",
        "    tf.TensorSpec(shape=(None, None), dtype=tf.int64),\n",
        "    tf.TensorSpec(shape=(None, None), dtype=tf.int64),\n",
        "]\n",
        "\n",
        "\n",
        "@tf.function(input_signature=train_step_signature)\n",
        "def train_step(inp, tar):\n",
        "    tar_inp = tar[:, :-1]\n",
        "    tar_real = tar[:, 1:]\n",
        "\n",
        "    with tf.GradientTape() as tape:\n",
        "        predictions, _ = transformer([inp, tar_inp],\n",
        "                                     training = True)\n",
        "        loss = loss_function(tar_real, predictions)\n",
        "\n",
        "    gradients = tape.gradient(loss, transformer.trainable_variables)\n",
        "    optimizer.apply_gradients(zip(gradients, transformer.trainable_variables))\n",
        "\n",
        "    train_loss(loss)\n",
        "    train_accuracy(accuracy_function(tar_real, predictions))"
      ]
    },
    {
      "cell_type": "code",
      "source": [
        "eval_step_signature = [\n",
        "    tf.TensorSpec(shape=(None, None), dtype=tf.int64),\n",
        "    tf.TensorSpec(shape=(None, None), dtype=tf.int64),\n",
        "]\n",
        "\n",
        "\n",
        "# @tf.function(input_signature=eval_step_signature)\n",
        "def eval_step(inp, tar):\n",
        "    tar_inp = tar[:, :-1]\n",
        "    tar_real = tar[:, 1:]\n",
        "\n",
        "    predictions, _ = transformer([inp, tar_inp],\n",
        "                                  training = False)\n",
        "\n",
        "    eval_accuracy(accuracy_function(tar_real, predictions))\n",
        "    eval_bleu(bleu_function(tar_real, predictions))"
      ],
      "metadata": {
        "id": "-SDE6cbBUzWu"
      },
      "execution_count": 100,
      "outputs": []
    },
    {
      "cell_type": "code",
      "source": [
        "eval_accuracy.reset_states()\n",
        "eval_bleu.reset_states()\n",
        "for (batch, (inp, tar)) in enumerate(eval_batches):\n",
        "  eval_step(inp, tar)\n",
        "print(f'Validation Accuracy {eval_accuracy.result():.4f}')\n",
        "print(f'Validation BLEU {eval_bleu.result():.4f}')"
      ],
      "metadata": {
        "colab": {
          "base_uri": "https://localhost:8080/"
        },
        "id": "Pwep_aoYUht-",
        "outputId": "bdc459dd-00a9-49ef-fb33-c9e94f2399c0"
      },
      "execution_count": 101,
      "outputs": [
        {
          "output_type": "stream",
          "name": "stdout",
          "text": [
            "Validation Accuracy 0.2210\n",
            "Validation BLEU 0.1177\n"
          ]
        }
      ]
    },
    {
      "cell_type": "code",
      "execution_count": null,
      "metadata": {
        "id": "bbvmaKNiznHZ",
        "outputId": "bf95d64a-3f58-46ad-f4be-6cec82732bb3"
      },
      "outputs": [
        {
          "name": "stdout",
          "output_type": "stream",
          "text": [
            "Epoch 1 Batch 0 Loss 4.1216 Accuracy 0.0319\n",
            "Epoch 1 Batch 50 Loss 4.0396 Accuracy 0.0390\n",
            "Epoch 1 Batch 100 Loss 3.8542 Accuracy 0.0559\n",
            "Epoch 1 Batch 150 Loss 3.6782 Accuracy 0.0734\n",
            "Epoch 1 Batch 200 Loss 3.5547 Accuracy 0.0947\n",
            "Epoch 1 Batch 250 Loss 3.4508 Accuracy 0.1160\n",
            "Epoch 1 Batch 300 Loss 3.3553 Accuracy 0.1364\n",
            "Epoch 1 Batch 350 Loss 3.2609 Accuracy 0.1552\n",
            "Epoch 1 Batch 400 Loss 3.1679 Accuracy 0.1741\n",
            "Epoch 1 Batch 450 Loss 3.0793 Accuracy 0.1940\n",
            "Epoch 1 Batch 500 Loss 3.0004 Accuracy 0.2116\n",
            "Epoch 1 Batch 550 Loss 2.9259 Accuracy 0.2286\n",
            "Epoch 1 Batch 600 Loss 2.8566 Accuracy 0.2450\n",
            "Epoch 1 Batch 650 Loss 2.7895 Accuracy 0.2612\n",
            "Epoch 1 Batch 700 Loss 2.7246 Accuracy 0.2771\n",
            "Epoch 1 Batch 750 Loss 2.6601 Accuracy 0.2931\n",
            "Epoch 1 Batch 800 Loss 2.5973 Accuracy 0.3086\n",
            "Epoch 1 Batch 850 Loss 2.5328 Accuracy 0.3245\n",
            "Epoch 1 Batch 900 Loss 2.4684 Accuracy 0.3407\n",
            "Epoch 1 Batch 950 Loss 2.4030 Accuracy 0.3572\n",
            "Epoch 1 Batch 1000 Loss 2.3379 Accuracy 0.3739\n",
            "Epoch 1 Batch 1050 Loss 2.2732 Accuracy 0.3907\n",
            "Epoch 1 Batch 1100 Loss 2.2102 Accuracy 0.4071\n",
            "Epoch 1 Batch 1150 Loss 2.1490 Accuracy 0.4231\n",
            "Epoch 1 Batch 1200 Loss 2.0897 Accuracy 0.4387\n",
            "Epoch 1 Batch 1250 Loss 2.0341 Accuracy 0.4534\n",
            "Epoch 1 Batch 1300 Loss 1.9813 Accuracy 0.4674\n",
            "Epoch 1 Batch 1350 Loss 1.9307 Accuracy 0.4809\n",
            "Epoch 1 Batch 1400 Loss 1.8812 Accuracy 0.4940\n",
            "Epoch 1 Batch 1450 Loss 1.8346 Accuracy 0.5064\n",
            "Epoch 1 Batch 1500 Loss 1.7912 Accuracy 0.5179\n",
            "Epoch 1 Batch 1550 Loss 1.7505 Accuracy 0.5286\n",
            "Epoch 1 Batch 1600 Loss 1.7123 Accuracy 0.5387\n",
            "Epoch 1 Batch 1650 Loss 1.6749 Accuracy 0.5485\n",
            "Epoch 1 Batch 1700 Loss 1.6396 Accuracy 0.5579\n",
            "Epoch 1 Batch 1750 Loss 1.6063 Accuracy 0.5667\n",
            "Epoch 1 Batch 1800 Loss 1.5742 Accuracy 0.5753\n",
            "Epoch 1 Batch 1850 Loss 1.5432 Accuracy 0.5836\n",
            "Epoch 1 Batch 1900 Loss 1.5137 Accuracy 0.5914\n",
            "Epoch 1 Batch 1950 Loss 1.4855 Accuracy 0.5989\n",
            "Epoch 1 Batch 2000 Loss 1.4586 Accuracy 0.6060\n",
            "Epoch 1 Batch 2050 Loss 1.4328 Accuracy 0.6129\n",
            "Epoch 1 Batch 2100 Loss 1.4077 Accuracy 0.6195\n",
            "Epoch 1 Batch 2150 Loss 1.3840 Accuracy 0.6260\n",
            "Epoch 1 Batch 2200 Loss 1.3611 Accuracy 0.6321\n",
            "Epoch 1 Batch 2250 Loss 1.3393 Accuracy 0.6380\n",
            "Epoch 1 Batch 2300 Loss 1.3183 Accuracy 0.6436\n",
            "Epoch 1 Batch 2350 Loss 1.2980 Accuracy 0.6490\n",
            "Epoch 1 Batch 2400 Loss 1.2785 Accuracy 0.6542\n",
            "Epoch 1 Batch 2450 Loss 1.2600 Accuracy 0.6591\n",
            "Epoch 1 Batch 2500 Loss 1.2426 Accuracy 0.6637\n",
            "Epoch 1 Batch 2550 Loss 1.2253 Accuracy 0.6684\n",
            "Epoch 1 Batch 2600 Loss 1.2082 Accuracy 0.6729\n",
            "Epoch 1 Batch 2650 Loss 1.1917 Accuracy 0.6773\n",
            "Epoch 1 Batch 2700 Loss 1.1762 Accuracy 0.6815\n",
            "Epoch 1 Batch 2750 Loss 1.1606 Accuracy 0.6856\n",
            "Epoch 1 Batch 2800 Loss 1.1453 Accuracy 0.6897\n",
            "Epoch 1 Batch 2850 Loss 1.1308 Accuracy 0.6936\n",
            "Epoch 1 Batch 2900 Loss 1.1162 Accuracy 0.6975\n",
            "Epoch 1 Batch 2950 Loss 1.1023 Accuracy 0.7013\n",
            "Epoch 1 Batch 3000 Loss 1.0887 Accuracy 0.7049\n",
            "Epoch 1 Batch 3050 Loss 1.0754 Accuracy 0.7085\n",
            "Epoch 1 Batch 3100 Loss 1.0623 Accuracy 0.7120\n",
            "Epoch 1 Batch 3150 Loss 1.0498 Accuracy 0.7154\n",
            "Epoch 1 Batch 3200 Loss 1.0375 Accuracy 0.7187\n",
            "Epoch 1 Batch 3250 Loss 1.0256 Accuracy 0.7219\n",
            "Epoch 1 Batch 3300 Loss 1.0142 Accuracy 0.7250\n",
            "Epoch 1 Batch 3350 Loss 1.0028 Accuracy 0.7281\n",
            "Epoch 1 Batch 3400 Loss 0.9916 Accuracy 0.7311\n",
            "Epoch 1 Batch 3450 Loss 0.9807 Accuracy 0.7341\n",
            "Epoch 1 Batch 3500 Loss 0.9701 Accuracy 0.7369\n",
            "Epoch 1 Batch 3550 Loss 0.9599 Accuracy 0.7397\n",
            "Epoch 1 Batch 3600 Loss 0.9498 Accuracy 0.7424\n",
            "Epoch 1 Batch 3650 Loss 0.9402 Accuracy 0.7450\n",
            "Epoch 1 Batch 3700 Loss 0.9307 Accuracy 0.7476\n",
            "Epoch 1 Batch 3750 Loss 0.9213 Accuracy 0.7501\n",
            "Epoch 1 Batch 3800 Loss 0.9120 Accuracy 0.7526\n",
            "Epoch 1 Batch 3850 Loss 0.9034 Accuracy 0.7550\n",
            "Epoch 1 Batch 3900 Loss 0.8950 Accuracy 0.7573\n",
            "Epoch 1 Batch 3950 Loss 0.8868 Accuracy 0.7595\n",
            "Epoch 1 Batch 4000 Loss 0.8791 Accuracy 0.7616\n",
            "Epoch 1 Batch 4050 Loss 0.8718 Accuracy 0.7634\n",
            "Epoch 1 Batch 4100 Loss 0.8652 Accuracy 0.7651\n",
            "Epoch 1 Batch 4150 Loss 0.8587 Accuracy 0.7668\n",
            "Epoch 1 Batch 4200 Loss 0.8521 Accuracy 0.7685\n",
            "Epoch 1 Batch 4250 Loss 0.8457 Accuracy 0.7701\n",
            "Epoch 1 Batch 4300 Loss 0.8392 Accuracy 0.7719\n",
            "Epoch 1 Batch 4350 Loss 0.8324 Accuracy 0.7737\n",
            "Epoch 1 Batch 4400 Loss 0.8262 Accuracy 0.7753\n",
            "Epoch 1 Batch 4450 Loss 0.8197 Accuracy 0.7770\n",
            "Epoch 1 Batch 4500 Loss 0.8135 Accuracy 0.7786\n",
            "Epoch 1 Batch 4550 Loss 0.8075 Accuracy 0.7802\n",
            "Epoch 1 Batch 4600 Loss 0.8016 Accuracy 0.7818\n",
            "Epoch 1 Batch 4650 Loss 0.7956 Accuracy 0.7834\n",
            "Epoch 1 Batch 4700 Loss 0.7898 Accuracy 0.7849\n",
            "Epoch 1 Batch 4750 Loss 0.7841 Accuracy 0.7865\n",
            "Epoch 1 Batch 4800 Loss 0.7783 Accuracy 0.7880\n",
            "Epoch 1 Batch 4850 Loss 0.7726 Accuracy 0.7896\n",
            "Epoch 1 Batch 4900 Loss 0.7669 Accuracy 0.7911\n",
            "Epoch 1 Batch 4950 Loss 0.7612 Accuracy 0.7927\n",
            "Epoch 1 Batch 5000 Loss 0.7558 Accuracy 0.7942\n",
            "Epoch 1 Batch 5050 Loss 0.7507 Accuracy 0.7956\n",
            "Epoch 1 Batch 5100 Loss 0.7457 Accuracy 0.7969\n",
            "Epoch 1 Batch 5150 Loss 0.7410 Accuracy 0.7982\n",
            "Epoch 1 Batch 5200 Loss 0.7366 Accuracy 0.7994\n",
            "Epoch 1 Batch 5250 Loss 0.7323 Accuracy 0.8005\n",
            "Epoch 1 Batch 5300 Loss 0.7280 Accuracy 0.8016\n",
            "Epoch 1 Batch 5350 Loss 0.7239 Accuracy 0.8027\n",
            "Epoch 1 Batch 5400 Loss 0.7197 Accuracy 0.8038\n",
            "Epoch 1 Batch 5450 Loss 0.7157 Accuracy 0.8048\n",
            "Epoch 1 Batch 5500 Loss 0.7114 Accuracy 0.8060\n",
            "Epoch 1 Batch 5550 Loss 0.7073 Accuracy 0.8071\n",
            "Epoch 1 Batch 5600 Loss 0.7031 Accuracy 0.8082\n",
            "Epoch 1 Batch 5650 Loss 0.6990 Accuracy 0.8093\n",
            "Epoch 1 Batch 5700 Loss 0.6949 Accuracy 0.8104\n",
            "Epoch 1 Batch 5750 Loss 0.6908 Accuracy 0.8115\n",
            "Epoch 1 Batch 5800 Loss 0.6869 Accuracy 0.8126\n",
            "Epoch 1 Batch 5850 Loss 0.6828 Accuracy 0.8137\n",
            "Epoch 1 Batch 5900 Loss 0.6788 Accuracy 0.8148\n",
            "Epoch 1 Batch 5950 Loss 0.6747 Accuracy 0.8159\n",
            "Epoch 1 Batch 6000 Loss 0.6706 Accuracy 0.8170\n",
            "Epoch 1 Batch 6050 Loss 0.6666 Accuracy 0.8181\n",
            "Epoch 1 Batch 6100 Loss 0.6626 Accuracy 0.8192\n",
            "Epoch 1 Batch 6150 Loss 0.6586 Accuracy 0.8203\n",
            "Epoch 1 Batch 6200 Loss 0.6548 Accuracy 0.8214\n",
            "Epoch 1 Batch 6250 Loss 0.6510 Accuracy 0.8224\n",
            "Epoch 1 Batch 6300 Loss 0.6473 Accuracy 0.8234\n",
            "Epoch 1 Batch 6350 Loss 0.6436 Accuracy 0.8244\n",
            "Epoch 1 Batch 6400 Loss 0.6400 Accuracy 0.8254\n",
            "Epoch 1 Batch 6450 Loss 0.6365 Accuracy 0.8264\n",
            "Epoch 1 Batch 6500 Loss 0.6331 Accuracy 0.8274\n",
            "Epoch 1 Batch 6550 Loss 0.6295 Accuracy 0.8283\n",
            "Epoch 1 Batch 6600 Loss 0.6260 Accuracy 0.8293\n",
            "Epoch 1 Batch 6650 Loss 0.6226 Accuracy 0.8302\n",
            "Epoch 1 Batch 6700 Loss 0.6191 Accuracy 0.8312\n",
            "Epoch 1 Batch 6750 Loss 0.6157 Accuracy 0.8321\n",
            "Epoch 1 Batch 6800 Loss 0.6123 Accuracy 0.8331\n",
            "Epoch 1 Batch 6850 Loss 0.6089 Accuracy 0.8340\n",
            "Epoch 1 Batch 6900 Loss 0.6056 Accuracy 0.8349\n",
            "Epoch 1 Batch 6950 Loss 0.6023 Accuracy 0.8359\n",
            "Epoch 1 Batch 7000 Loss 0.5991 Accuracy 0.8368\n",
            "Epoch 1 Batch 7050 Loss 0.5959 Accuracy 0.8376\n",
            "Epoch 1 Batch 7100 Loss 0.5928 Accuracy 0.8385\n",
            "Epoch 1 Batch 7150 Loss 0.5897 Accuracy 0.8393\n",
            "Epoch 1 Batch 7200 Loss 0.5866 Accuracy 0.8402\n",
            "Epoch 1 Batch 7250 Loss 0.5835 Accuracy 0.8410\n",
            "Epoch 1 Batch 7300 Loss 0.5804 Accuracy 0.8419\n",
            "Epoch 1 Batch 7350 Loss 0.5773 Accuracy 0.8427\n",
            "Epoch 1 Batch 7400 Loss 0.5742 Accuracy 0.8436\n",
            "Epoch 1 Batch 7450 Loss 0.5711 Accuracy 0.8444\n",
            "Epoch 1 Batch 7500 Loss 0.5680 Accuracy 0.8453\n",
            "Epoch 1 Batch 7550 Loss 0.5651 Accuracy 0.8461\n",
            "Epoch 1 Batch 7600 Loss 0.5621 Accuracy 0.8469\n",
            "Epoch 1 Batch 7650 Loss 0.5592 Accuracy 0.8477\n",
            "Epoch 1 Batch 7700 Loss 0.5563 Accuracy 0.8485\n",
            "Epoch 1 Batch 7750 Loss 0.5535 Accuracy 0.8493\n",
            "Epoch 1 Batch 7800 Loss 0.5507 Accuracy 0.8500\n",
            "Epoch 1 Batch 7850 Loss 0.5479 Accuracy 0.8508\n",
            "Epoch 1 Batch 7900 Loss 0.5452 Accuracy 0.8516\n",
            "Epoch 1 Batch 7950 Loss 0.5424 Accuracy 0.8523\n",
            "Epoch 1 Batch 8000 Loss 0.5397 Accuracy 0.8531\n",
            "Epoch 1 Batch 8050 Loss 0.5370 Accuracy 0.8538\n",
            "Epoch 1 Batch 8100 Loss 0.5344 Accuracy 0.8545\n",
            "Epoch 1 Batch 8150 Loss 0.5319 Accuracy 0.8552\n",
            "Epoch 1 Batch 8200 Loss 0.5295 Accuracy 0.8559\n",
            "Epoch 1 Batch 8250 Loss 0.5270 Accuracy 0.8566\n",
            "Epoch 1 Batch 8300 Loss 0.5246 Accuracy 0.8572\n",
            "Epoch 1 Batch 8350 Loss 0.5221 Accuracy 0.8579\n",
            "Epoch 1 Batch 8400 Loss 0.5197 Accuracy 0.8586\n",
            "Epoch 1 Batch 8450 Loss 0.5174 Accuracy 0.8592\n",
            "Epoch 1 Loss 0.5174 Accuracy 0.8592\n",
            "Time taken for 1 epoch: 640.24 secs\n",
            "\n",
            "Epoch 2 Batch 0 Loss 0.6121 Accuracy 0.8257\n",
            "Epoch 2 Batch 50 Loss 0.1816 Accuracy 0.9530\n",
            "Epoch 2 Batch 100 Loss 0.1938 Accuracy 0.9502\n",
            "Epoch 2 Batch 150 Loss 0.1938 Accuracy 0.9498\n",
            "Epoch 2 Batch 200 Loss 0.1915 Accuracy 0.9503\n",
            "Epoch 2 Batch 250 Loss 0.1911 Accuracy 0.9507\n",
            "Epoch 2 Batch 300 Loss 0.1912 Accuracy 0.9508\n",
            "Epoch 2 Batch 350 Loss 0.1892 Accuracy 0.9515\n",
            "Epoch 2 Batch 400 Loss 0.1857 Accuracy 0.9524\n",
            "Epoch 2 Batch 450 Loss 0.1820 Accuracy 0.9535\n",
            "Epoch 2 Batch 500 Loss 0.1829 Accuracy 0.9531\n",
            "Epoch 2 Batch 550 Loss 0.1845 Accuracy 0.9525\n",
            "Epoch 2 Batch 600 Loss 0.1864 Accuracy 0.9518\n",
            "Epoch 2 Batch 650 Loss 0.1889 Accuracy 0.9508\n",
            "Epoch 2 Batch 700 Loss 0.1912 Accuracy 0.9498\n",
            "Epoch 2 Batch 750 Loss 0.1924 Accuracy 0.9491\n",
            "Epoch 2 Batch 800 Loss 0.1928 Accuracy 0.9487\n",
            "Epoch 2 Batch 850 Loss 0.1925 Accuracy 0.9486\n",
            "Epoch 2 Batch 900 Loss 0.1918 Accuracy 0.9486\n",
            "Epoch 2 Batch 950 Loss 0.1908 Accuracy 0.9489\n",
            "Epoch 2 Batch 1000 Loss 0.1891 Accuracy 0.9493\n",
            "Epoch 2 Batch 1050 Loss 0.1875 Accuracy 0.9497\n",
            "Epoch 2 Batch 1100 Loss 0.1863 Accuracy 0.9500\n",
            "Epoch 2 Batch 1150 Loss 0.1850 Accuracy 0.9504\n",
            "Epoch 2 Batch 1200 Loss 0.1838 Accuracy 0.9507\n",
            "Epoch 2 Batch 1250 Loss 0.1825 Accuracy 0.9510\n",
            "Epoch 2 Batch 1300 Loss 0.1816 Accuracy 0.9513\n",
            "Epoch 2 Batch 1350 Loss 0.1802 Accuracy 0.9516\n",
            "Epoch 2 Batch 1400 Loss 0.1788 Accuracy 0.9520\n",
            "Epoch 2 Batch 1450 Loss 0.1779 Accuracy 0.9522\n",
            "Epoch 2 Batch 1500 Loss 0.1771 Accuracy 0.9524\n",
            "Epoch 2 Batch 1550 Loss 0.1766 Accuracy 0.9526\n",
            "Epoch 2 Batch 1600 Loss 0.1756 Accuracy 0.9529\n",
            "Epoch 2 Batch 1650 Loss 0.1748 Accuracy 0.9531\n",
            "Epoch 2 Batch 1700 Loss 0.1741 Accuracy 0.9533\n",
            "Epoch 2 Batch 1750 Loss 0.1734 Accuracy 0.9535\n",
            "Epoch 2 Batch 1800 Loss 0.1730 Accuracy 0.9536\n",
            "Epoch 2 Batch 1850 Loss 0.1723 Accuracy 0.9538\n",
            "Epoch 2 Batch 1900 Loss 0.1716 Accuracy 0.9540\n",
            "Epoch 2 Batch 1950 Loss 0.1716 Accuracy 0.9540\n",
            "Epoch 2 Batch 2000 Loss 0.1715 Accuracy 0.9540\n",
            "Epoch 2 Batch 2050 Loss 0.1709 Accuracy 0.9541\n",
            "Epoch 2 Batch 2100 Loss 0.1705 Accuracy 0.9543\n",
            "Epoch 2 Batch 2150 Loss 0.1702 Accuracy 0.9543\n",
            "Epoch 2 Batch 2200 Loss 0.1702 Accuracy 0.9543\n",
            "Epoch 2 Batch 2250 Loss 0.1697 Accuracy 0.9545\n",
            "Epoch 2 Batch 2300 Loss 0.1694 Accuracy 0.9545\n",
            "Epoch 2 Batch 2350 Loss 0.1693 Accuracy 0.9545\n",
            "Epoch 2 Batch 2400 Loss 0.1693 Accuracy 0.9545\n",
            "Epoch 2 Batch 2450 Loss 0.1695 Accuracy 0.9544\n",
            "Epoch 2 Batch 2500 Loss 0.1697 Accuracy 0.9544\n",
            "Epoch 2 Batch 2550 Loss 0.1694 Accuracy 0.9544\n",
            "Epoch 2 Batch 2600 Loss 0.1692 Accuracy 0.9545\n",
            "Epoch 2 Batch 2650 Loss 0.1690 Accuracy 0.9545\n",
            "Epoch 2 Batch 2700 Loss 0.1688 Accuracy 0.9546\n",
            "Epoch 2 Batch 2750 Loss 0.1685 Accuracy 0.9546\n",
            "Epoch 2 Batch 2800 Loss 0.1680 Accuracy 0.9548\n",
            "Epoch 2 Batch 2850 Loss 0.1674 Accuracy 0.9549\n",
            "Epoch 2 Batch 2900 Loss 0.1672 Accuracy 0.9550\n",
            "Epoch 2 Batch 2950 Loss 0.1669 Accuracy 0.9551\n",
            "Epoch 2 Batch 3000 Loss 0.1663 Accuracy 0.9552\n",
            "Epoch 2 Batch 3050 Loss 0.1660 Accuracy 0.9554\n",
            "Epoch 2 Batch 3100 Loss 0.1656 Accuracy 0.9555\n",
            "Epoch 2 Batch 3150 Loss 0.1650 Accuracy 0.9557\n",
            "Epoch 2 Batch 3200 Loss 0.1645 Accuracy 0.9558\n",
            "Epoch 2 Batch 3250 Loss 0.1639 Accuracy 0.9560\n",
            "Epoch 2 Batch 3300 Loss 0.1634 Accuracy 0.9561\n",
            "Epoch 2 Batch 3350 Loss 0.1629 Accuracy 0.9563\n",
            "Epoch 2 Batch 3400 Loss 0.1623 Accuracy 0.9564\n",
            "Epoch 2 Batch 3450 Loss 0.1618 Accuracy 0.9566\n",
            "Epoch 2 Batch 3500 Loss 0.1613 Accuracy 0.9568\n",
            "Epoch 2 Batch 3550 Loss 0.1609 Accuracy 0.9569\n",
            "Epoch 2 Batch 3600 Loss 0.1604 Accuracy 0.9570\n",
            "Epoch 2 Batch 3650 Loss 0.1598 Accuracy 0.9571\n",
            "Epoch 2 Batch 3700 Loss 0.1592 Accuracy 0.9573\n",
            "Epoch 2 Batch 3750 Loss 0.1587 Accuracy 0.9575\n",
            "Epoch 2 Batch 3800 Loss 0.1583 Accuracy 0.9576\n",
            "Epoch 2 Batch 3850 Loss 0.1578 Accuracy 0.9577\n",
            "Epoch 2 Batch 3900 Loss 0.1574 Accuracy 0.9579\n",
            "Epoch 2 Batch 3950 Loss 0.1571 Accuracy 0.9580\n",
            "Epoch 2 Batch 4000 Loss 0.1572 Accuracy 0.9579\n",
            "Epoch 2 Batch 4050 Loss 0.1576 Accuracy 0.9577\n",
            "Epoch 2 Batch 4100 Loss 0.1581 Accuracy 0.9575\n",
            "Epoch 2 Batch 4150 Loss 0.1585 Accuracy 0.9573\n",
            "Epoch 2 Batch 4200 Loss 0.1590 Accuracy 0.9571\n",
            "Epoch 2 Batch 4250 Loss 0.1593 Accuracy 0.9570\n",
            "Epoch 2 Batch 4300 Loss 0.1595 Accuracy 0.9569\n",
            "Epoch 2 Batch 4350 Loss 0.1596 Accuracy 0.9568\n",
            "Epoch 2 Batch 4400 Loss 0.1596 Accuracy 0.9568\n",
            "Epoch 2 Batch 4450 Loss 0.1596 Accuracy 0.9567\n",
            "Epoch 2 Batch 4500 Loss 0.1597 Accuracy 0.9566\n",
            "Epoch 2 Batch 4550 Loss 0.1600 Accuracy 0.9565\n",
            "Epoch 2 Batch 4600 Loss 0.1602 Accuracy 0.9564\n",
            "Epoch 2 Batch 4650 Loss 0.1601 Accuracy 0.9564\n",
            "Epoch 2 Batch 4700 Loss 0.1602 Accuracy 0.9563\n",
            "Epoch 2 Batch 4750 Loss 0.1601 Accuracy 0.9563\n",
            "Epoch 2 Batch 4800 Loss 0.1600 Accuracy 0.9563\n",
            "Epoch 2 Batch 4850 Loss 0.1599 Accuracy 0.9564\n",
            "Epoch 2 Batch 4900 Loss 0.1596 Accuracy 0.9564\n",
            "Epoch 2 Batch 4950 Loss 0.1593 Accuracy 0.9565\n",
            "Epoch 2 Batch 5000 Loss 0.1592 Accuracy 0.9566\n",
            "Epoch 2 Batch 5050 Loss 0.1593 Accuracy 0.9566\n",
            "Epoch 2 Batch 5100 Loss 0.1595 Accuracy 0.9565\n",
            "Epoch 2 Batch 5150 Loss 0.1597 Accuracy 0.9565\n",
            "Epoch 2 Batch 5200 Loss 0.1601 Accuracy 0.9563\n",
            "Epoch 2 Batch 5250 Loss 0.1606 Accuracy 0.9561\n",
            "Epoch 2 Batch 5300 Loss 0.1612 Accuracy 0.9559\n",
            "Epoch 2 Batch 5350 Loss 0.1617 Accuracy 0.9557\n",
            "Epoch 2 Batch 5400 Loss 0.1621 Accuracy 0.9556\n",
            "Epoch 2 Batch 5450 Loss 0.1624 Accuracy 0.9554\n",
            "Epoch 2 Batch 5500 Loss 0.1625 Accuracy 0.9554\n",
            "Epoch 2 Batch 5550 Loss 0.1626 Accuracy 0.9553\n",
            "Epoch 2 Batch 5600 Loss 0.1627 Accuracy 0.9553\n",
            "Epoch 2 Batch 5650 Loss 0.1626 Accuracy 0.9553\n",
            "Epoch 2 Batch 5700 Loss 0.1626 Accuracy 0.9553\n",
            "Epoch 2 Batch 5750 Loss 0.1626 Accuracy 0.9553\n",
            "Epoch 2 Batch 5800 Loss 0.1627 Accuracy 0.9552\n",
            "Epoch 2 Batch 5850 Loss 0.1625 Accuracy 0.9553\n",
            "Epoch 2 Batch 5900 Loss 0.1624 Accuracy 0.9553\n",
            "Epoch 2 Batch 5950 Loss 0.1622 Accuracy 0.9554\n",
            "Epoch 2 Batch 6000 Loss 0.1619 Accuracy 0.9555\n",
            "Epoch 2 Batch 6050 Loss 0.1616 Accuracy 0.9556\n",
            "Epoch 2 Batch 6100 Loss 0.1612 Accuracy 0.9557\n",
            "Epoch 2 Batch 6150 Loss 0.1609 Accuracy 0.9558\n",
            "Epoch 2 Batch 6200 Loss 0.1606 Accuracy 0.9559\n",
            "Epoch 2 Batch 6250 Loss 0.1602 Accuracy 0.9560\n",
            "Epoch 2 Batch 6300 Loss 0.1599 Accuracy 0.9561\n",
            "Epoch 2 Batch 6350 Loss 0.1596 Accuracy 0.9562\n",
            "Epoch 2 Batch 6400 Loss 0.1595 Accuracy 0.9562\n",
            "Epoch 2 Batch 6450 Loss 0.1593 Accuracy 0.9563\n",
            "Epoch 2 Batch 6500 Loss 0.1591 Accuracy 0.9563\n",
            "Epoch 2 Batch 6550 Loss 0.1588 Accuracy 0.9564\n",
            "Epoch 2 Batch 6600 Loss 0.1586 Accuracy 0.9565\n",
            "Epoch 2 Batch 6650 Loss 0.1582 Accuracy 0.9566\n",
            "Epoch 2 Batch 6700 Loss 0.1579 Accuracy 0.9567\n",
            "Epoch 2 Batch 6750 Loss 0.1576 Accuracy 0.9568\n",
            "Epoch 2 Batch 6800 Loss 0.1572 Accuracy 0.9569\n",
            "Epoch 2 Batch 6850 Loss 0.1569 Accuracy 0.9571\n",
            "Epoch 2 Batch 6900 Loss 0.1565 Accuracy 0.9572\n",
            "Epoch 2 Batch 6950 Loss 0.1562 Accuracy 0.9573\n",
            "Epoch 2 Batch 7000 Loss 0.1558 Accuracy 0.9574\n",
            "Epoch 2 Batch 7050 Loss 0.1555 Accuracy 0.9575\n",
            "Epoch 2 Batch 7100 Loss 0.1551 Accuracy 0.9576\n",
            "Epoch 2 Batch 7150 Loss 0.1548 Accuracy 0.9577\n",
            "Epoch 2 Batch 7200 Loss 0.1545 Accuracy 0.9578\n",
            "Epoch 2 Batch 7250 Loss 0.1540 Accuracy 0.9579\n",
            "Epoch 2 Batch 7300 Loss 0.1535 Accuracy 0.9581\n",
            "Epoch 2 Batch 7350 Loss 0.1531 Accuracy 0.9582\n",
            "Epoch 2 Batch 7400 Loss 0.1526 Accuracy 0.9583\n",
            "Epoch 2 Batch 7450 Loss 0.1522 Accuracy 0.9584\n",
            "Epoch 2 Batch 7500 Loss 0.1518 Accuracy 0.9586\n",
            "Epoch 2 Batch 7550 Loss 0.1513 Accuracy 0.9587\n",
            "Epoch 2 Batch 7600 Loss 0.1508 Accuracy 0.9589\n",
            "Epoch 2 Batch 7650 Loss 0.1504 Accuracy 0.9590\n",
            "Epoch 2 Batch 7700 Loss 0.1499 Accuracy 0.9591\n",
            "Epoch 2 Batch 7750 Loss 0.1495 Accuracy 0.9593\n",
            "Epoch 2 Batch 7800 Loss 0.1490 Accuracy 0.9594\n",
            "Epoch 2 Batch 7850 Loss 0.1485 Accuracy 0.9595\n",
            "Epoch 2 Batch 7900 Loss 0.1481 Accuracy 0.9597\n",
            "Epoch 2 Batch 7950 Loss 0.1477 Accuracy 0.9598\n",
            "Epoch 2 Batch 8000 Loss 0.1472 Accuracy 0.9599\n",
            "Epoch 2 Batch 8050 Loss 0.1469 Accuracy 0.9600\n",
            "Epoch 2 Batch 8100 Loss 0.1465 Accuracy 0.9601\n",
            "Epoch 2 Batch 8150 Loss 0.1462 Accuracy 0.9602\n",
            "Epoch 2 Batch 8200 Loss 0.1458 Accuracy 0.9603\n",
            "Epoch 2 Batch 8250 Loss 0.1455 Accuracy 0.9604\n",
            "Epoch 2 Batch 8300 Loss 0.1453 Accuracy 0.9605\n",
            "Epoch 2 Batch 8350 Loss 0.1449 Accuracy 0.9606\n",
            "Epoch 2 Batch 8400 Loss 0.1446 Accuracy 0.9607\n",
            "Epoch 2 Batch 8450 Loss 0.1443 Accuracy 0.9608\n",
            "Epoch 2 Loss 0.1443 Accuracy 0.9608\n",
            "Time taken for 1 epoch: 615.84 secs\n",
            "\n",
            "Epoch 3 Batch 0 Loss 0.3372 Accuracy 0.8994\n",
            "Epoch 3 Batch 50 Loss 0.1370 Accuracy 0.9653\n",
            "Epoch 3 Batch 100 Loss 0.1549 Accuracy 0.9616\n",
            "Epoch 3 Batch 150 Loss 0.1543 Accuracy 0.9612\n",
            "Epoch 3 Batch 200 Loss 0.1558 Accuracy 0.9604\n",
            "Epoch 3 Batch 250 Loss 0.1555 Accuracy 0.9607\n",
            "Epoch 3 Batch 300 Loss 0.1547 Accuracy 0.9607\n",
            "Epoch 3 Batch 350 Loss 0.1536 Accuracy 0.9610\n",
            "Epoch 3 Batch 400 Loss 0.1517 Accuracy 0.9616\n",
            "Epoch 3 Batch 450 Loss 0.1485 Accuracy 0.9624\n",
            "Epoch 3 Batch 500 Loss 0.1487 Accuracy 0.9621\n",
            "Epoch 3 Batch 550 Loss 0.1504 Accuracy 0.9613\n",
            "Epoch 3 Batch 600 Loss 0.1527 Accuracy 0.9603\n",
            "Epoch 3 Batch 650 Loss 0.1560 Accuracy 0.9590\n",
            "Epoch 3 Batch 700 Loss 0.1589 Accuracy 0.9578\n",
            "Epoch 3 Batch 750 Loss 0.1604 Accuracy 0.9570\n",
            "Epoch 3 Batch 800 Loss 0.1616 Accuracy 0.9566\n",
            "Epoch 3 Batch 850 Loss 0.1618 Accuracy 0.9564\n",
            "Epoch 3 Batch 900 Loss 0.1610 Accuracy 0.9564\n",
            "Epoch 3 Batch 950 Loss 0.1600 Accuracy 0.9566\n",
            "Epoch 3 Batch 1000 Loss 0.1586 Accuracy 0.9569\n",
            "Epoch 3 Batch 1050 Loss 0.1574 Accuracy 0.9572\n",
            "Epoch 3 Batch 1100 Loss 0.1559 Accuracy 0.9576\n",
            "Epoch 3 Batch 1150 Loss 0.1550 Accuracy 0.9578\n",
            "Epoch 3 Batch 1200 Loss 0.1540 Accuracy 0.9580\n",
            "Epoch 3 Batch 1250 Loss 0.1530 Accuracy 0.9584\n",
            "Epoch 3 Batch 1300 Loss 0.1518 Accuracy 0.9587\n",
            "Epoch 3 Batch 1350 Loss 0.1506 Accuracy 0.9590\n",
            "Epoch 3 Batch 1400 Loss 0.1493 Accuracy 0.9594\n",
            "Epoch 3 Batch 1450 Loss 0.1490 Accuracy 0.9595\n",
            "Epoch 3 Batch 1500 Loss 0.1482 Accuracy 0.9597\n",
            "Epoch 3 Batch 1550 Loss 0.1475 Accuracy 0.9599\n",
            "Epoch 3 Batch 1600 Loss 0.1470 Accuracy 0.9600\n",
            "Epoch 3 Batch 1650 Loss 0.1461 Accuracy 0.9603\n",
            "Epoch 3 Batch 1700 Loss 0.1455 Accuracy 0.9605\n",
            "Epoch 3 Batch 1750 Loss 0.1451 Accuracy 0.9606\n",
            "Epoch 3 Batch 1800 Loss 0.1446 Accuracy 0.9608\n",
            "Epoch 3 Batch 1850 Loss 0.1438 Accuracy 0.9611\n",
            "Epoch 3 Batch 1900 Loss 0.1432 Accuracy 0.9613\n",
            "Epoch 3 Batch 1950 Loss 0.1432 Accuracy 0.9612\n",
            "Epoch 3 Batch 2000 Loss 0.1431 Accuracy 0.9612\n",
            "Epoch 3 Batch 2050 Loss 0.1429 Accuracy 0.9613\n",
            "Epoch 3 Batch 2100 Loss 0.1426 Accuracy 0.9613\n",
            "Epoch 3 Batch 2150 Loss 0.1427 Accuracy 0.9613\n",
            "Epoch 3 Batch 2200 Loss 0.1425 Accuracy 0.9614\n",
            "Epoch 3 Batch 2250 Loss 0.1421 Accuracy 0.9615\n",
            "Epoch 3 Batch 2300 Loss 0.1419 Accuracy 0.9615\n",
            "Epoch 3 Batch 2350 Loss 0.1418 Accuracy 0.9615\n",
            "Epoch 3 Batch 2400 Loss 0.1418 Accuracy 0.9615\n",
            "Epoch 3 Batch 2450 Loss 0.1419 Accuracy 0.9614\n",
            "Epoch 3 Batch 2500 Loss 0.1420 Accuracy 0.9614\n",
            "Epoch 3 Batch 2550 Loss 0.1419 Accuracy 0.9614\n",
            "Epoch 3 Batch 2600 Loss 0.1418 Accuracy 0.9614\n",
            "Epoch 3 Batch 2650 Loss 0.1418 Accuracy 0.9614\n",
            "Epoch 3 Batch 2700 Loss 0.1415 Accuracy 0.9615\n",
            "Epoch 3 Batch 2750 Loss 0.1411 Accuracy 0.9616\n",
            "Epoch 3 Batch 2800 Loss 0.1407 Accuracy 0.9617\n",
            "Epoch 3 Batch 2850 Loss 0.1402 Accuracy 0.9618\n",
            "Epoch 3 Batch 2900 Loss 0.1398 Accuracy 0.9619\n",
            "Epoch 3 Batch 2950 Loss 0.1396 Accuracy 0.9620\n",
            "Epoch 3 Batch 3000 Loss 0.1393 Accuracy 0.9621\n",
            "Epoch 3 Batch 3050 Loss 0.1390 Accuracy 0.9622\n",
            "Epoch 3 Batch 3100 Loss 0.1386 Accuracy 0.9623\n",
            "Epoch 3 Batch 3150 Loss 0.1384 Accuracy 0.9624\n",
            "Epoch 3 Batch 3200 Loss 0.1380 Accuracy 0.9625\n",
            "Epoch 3 Batch 3250 Loss 0.1376 Accuracy 0.9626\n",
            "Epoch 3 Batch 3300 Loss 0.1373 Accuracy 0.9628\n",
            "Epoch 3 Batch 3350 Loss 0.1369 Accuracy 0.9629\n",
            "Epoch 3 Batch 3400 Loss 0.1364 Accuracy 0.9630\n",
            "Epoch 3 Batch 3450 Loss 0.1360 Accuracy 0.9632\n",
            "Epoch 3 Batch 3500 Loss 0.1355 Accuracy 0.9633\n",
            "Epoch 3 Batch 3550 Loss 0.1352 Accuracy 0.9634\n",
            "Epoch 3 Batch 3600 Loss 0.1347 Accuracy 0.9635\n",
            "Epoch 3 Batch 3650 Loss 0.1342 Accuracy 0.9637\n",
            "Epoch 3 Batch 3700 Loss 0.1339 Accuracy 0.9638\n",
            "Epoch 3 Batch 3750 Loss 0.1334 Accuracy 0.9640\n",
            "Epoch 3 Batch 3800 Loss 0.1329 Accuracy 0.9641\n",
            "Epoch 3 Batch 3850 Loss 0.1325 Accuracy 0.9642\n",
            "Epoch 3 Batch 3900 Loss 0.1323 Accuracy 0.9643\n",
            "Epoch 3 Batch 3950 Loss 0.1321 Accuracy 0.9644\n",
            "Epoch 3 Batch 4000 Loss 0.1320 Accuracy 0.9644\n",
            "Epoch 3 Batch 4050 Loss 0.1323 Accuracy 0.9642\n",
            "Epoch 3 Batch 4100 Loss 0.1329 Accuracy 0.9640\n",
            "Epoch 3 Batch 4150 Loss 0.1334 Accuracy 0.9637\n",
            "Epoch 3 Batch 4200 Loss 0.1340 Accuracy 0.9635\n",
            "Epoch 3 Batch 4250 Loss 0.1344 Accuracy 0.9633\n",
            "Epoch 3 Batch 4300 Loss 0.1347 Accuracy 0.9632\n",
            "Epoch 3 Batch 4350 Loss 0.1349 Accuracy 0.9631\n",
            "Epoch 3 Batch 4400 Loss 0.1350 Accuracy 0.9631\n",
            "Epoch 3 Batch 4450 Loss 0.1350 Accuracy 0.9630\n",
            "Epoch 3 Batch 4500 Loss 0.1352 Accuracy 0.9629\n",
            "Epoch 3 Batch 4550 Loss 0.1355 Accuracy 0.9628\n",
            "Epoch 3 Batch 4600 Loss 0.1357 Accuracy 0.9627\n",
            "Epoch 3 Batch 4650 Loss 0.1359 Accuracy 0.9626\n",
            "Epoch 3 Batch 4700 Loss 0.1359 Accuracy 0.9626\n",
            "Epoch 3 Batch 4750 Loss 0.1358 Accuracy 0.9626\n",
            "Epoch 3 Batch 4800 Loss 0.1357 Accuracy 0.9626\n",
            "Epoch 3 Batch 4850 Loss 0.1357 Accuracy 0.9626\n",
            "Epoch 3 Batch 4900 Loss 0.1355 Accuracy 0.9627\n",
            "Epoch 3 Batch 4950 Loss 0.1353 Accuracy 0.9628\n",
            "Epoch 3 Batch 5000 Loss 0.1353 Accuracy 0.9628\n",
            "Epoch 3 Batch 5050 Loss 0.1355 Accuracy 0.9627\n",
            "Epoch 3 Batch 5100 Loss 0.1356 Accuracy 0.9627\n",
            "Epoch 3 Batch 5150 Loss 0.1359 Accuracy 0.9626\n",
            "Epoch 3 Batch 5200 Loss 0.1364 Accuracy 0.9625\n",
            "Epoch 3 Batch 5250 Loss 0.1369 Accuracy 0.9623\n",
            "Epoch 3 Batch 5300 Loss 0.1373 Accuracy 0.9621\n",
            "Epoch 3 Batch 5350 Loss 0.1378 Accuracy 0.9619\n",
            "Epoch 3 Batch 5400 Loss 0.1382 Accuracy 0.9618\n",
            "Epoch 3 Batch 5450 Loss 0.1386 Accuracy 0.9616\n",
            "Epoch 3 Batch 5500 Loss 0.1388 Accuracy 0.9616\n",
            "Epoch 3 Batch 5550 Loss 0.1388 Accuracy 0.9615\n",
            "Epoch 3 Batch 5600 Loss 0.1388 Accuracy 0.9615\n",
            "Epoch 3 Batch 5650 Loss 0.1388 Accuracy 0.9615\n",
            "Epoch 3 Batch 5700 Loss 0.1389 Accuracy 0.9615\n",
            "Epoch 3 Batch 5750 Loss 0.1390 Accuracy 0.9614\n",
            "Epoch 3 Batch 5800 Loss 0.1391 Accuracy 0.9614\n",
            "Epoch 3 Batch 5850 Loss 0.1390 Accuracy 0.9614\n",
            "Epoch 3 Batch 5900 Loss 0.1389 Accuracy 0.9615\n",
            "Epoch 3 Batch 5950 Loss 0.1387 Accuracy 0.9615\n",
            "Epoch 3 Batch 6000 Loss 0.1385 Accuracy 0.9616\n",
            "Epoch 3 Batch 6050 Loss 0.1383 Accuracy 0.9617\n",
            "Epoch 3 Batch 6100 Loss 0.1381 Accuracy 0.9617\n",
            "Epoch 3 Batch 6150 Loss 0.1378 Accuracy 0.9618\n",
            "Epoch 3 Batch 6200 Loss 0.1376 Accuracy 0.9619\n",
            "Epoch 3 Batch 6250 Loss 0.1373 Accuracy 0.9620\n",
            "Epoch 3 Batch 6300 Loss 0.1371 Accuracy 0.9621\n",
            "Epoch 3 Batch 6350 Loss 0.1368 Accuracy 0.9622\n",
            "Epoch 3 Batch 6400 Loss 0.1367 Accuracy 0.9622\n",
            "Epoch 3 Batch 6450 Loss 0.1366 Accuracy 0.9623\n",
            "Epoch 3 Batch 6500 Loss 0.1365 Accuracy 0.9623\n",
            "Epoch 3 Batch 6550 Loss 0.1363 Accuracy 0.9624\n",
            "Epoch 3 Batch 6600 Loss 0.1361 Accuracy 0.9624\n",
            "Epoch 3 Batch 6650 Loss 0.1359 Accuracy 0.9625\n",
            "Epoch 3 Batch 6700 Loss 0.1357 Accuracy 0.9626\n",
            "Epoch 3 Batch 6750 Loss 0.1354 Accuracy 0.9627\n",
            "Epoch 3 Batch 6800 Loss 0.1351 Accuracy 0.9628\n",
            "Epoch 3 Batch 6850 Loss 0.1348 Accuracy 0.9629\n",
            "Epoch 3 Batch 6900 Loss 0.1345 Accuracy 0.9629\n",
            "Epoch 3 Batch 6950 Loss 0.1342 Accuracy 0.9630\n",
            "Epoch 3 Batch 7000 Loss 0.1339 Accuracy 0.9631\n",
            "Epoch 3 Batch 7050 Loss 0.1336 Accuracy 0.9632\n",
            "Epoch 3 Batch 7100 Loss 0.1333 Accuracy 0.9633\n",
            "Epoch 3 Batch 7150 Loss 0.1330 Accuracy 0.9634\n",
            "Epoch 3 Batch 7200 Loss 0.1327 Accuracy 0.9635\n",
            "Epoch 3 Batch 7250 Loss 0.1323 Accuracy 0.9636\n",
            "Epoch 3 Batch 7300 Loss 0.1319 Accuracy 0.9637\n",
            "Epoch 3 Batch 7350 Loss 0.1315 Accuracy 0.9639\n",
            "Epoch 3 Batch 7400 Loss 0.1312 Accuracy 0.9640\n",
            "Epoch 3 Batch 7450 Loss 0.1308 Accuracy 0.9641\n",
            "Epoch 3 Batch 7500 Loss 0.1304 Accuracy 0.9642\n",
            "Epoch 3 Batch 7550 Loss 0.1300 Accuracy 0.9643\n",
            "Epoch 3 Batch 7600 Loss 0.1296 Accuracy 0.9644\n",
            "Epoch 3 Batch 7650 Loss 0.1292 Accuracy 0.9646\n",
            "Epoch 3 Batch 7700 Loss 0.1287 Accuracy 0.9647\n",
            "Epoch 3 Batch 7750 Loss 0.1284 Accuracy 0.9648\n",
            "Epoch 3 Batch 7800 Loss 0.1280 Accuracy 0.9649\n",
            "Epoch 3 Batch 7850 Loss 0.1276 Accuracy 0.9650\n",
            "Epoch 3 Batch 7900 Loss 0.1273 Accuracy 0.9651\n",
            "Epoch 3 Batch 7950 Loss 0.1269 Accuracy 0.9653\n",
            "Epoch 3 Batch 8000 Loss 0.1265 Accuracy 0.9654\n",
            "Epoch 3 Batch 8050 Loss 0.1261 Accuracy 0.9655\n",
            "Epoch 3 Batch 8100 Loss 0.1259 Accuracy 0.9656\n",
            "Epoch 3 Batch 8150 Loss 0.1256 Accuracy 0.9656\n",
            "Epoch 3 Batch 8200 Loss 0.1254 Accuracy 0.9657\n",
            "Epoch 3 Batch 8250 Loss 0.1251 Accuracy 0.9658\n",
            "Epoch 3 Batch 8300 Loss 0.1249 Accuracy 0.9659\n",
            "Epoch 3 Batch 8350 Loss 0.1246 Accuracy 0.9659\n",
            "Epoch 3 Batch 8400 Loss 0.1244 Accuracy 0.9660\n",
            "Epoch 3 Batch 8450 Loss 0.1241 Accuracy 0.9661\n",
            "Saving checkpoint for epoch 3 at ./checkpoints/train/ckpt-1\n",
            "Epoch 3 Loss 0.1241 Accuracy 0.9661\n",
            "Time taken for 1 epoch: 682.48 secs\n",
            "\n"
          ]
        }
      ],
      "source": [
        "for epoch in range(EPOCHS):\n",
        "  start = time.time()\n",
        "\n",
        "  train_loss.reset_states()\n",
        "  train_accuracy.reset_states()\n",
        "\n",
        "  # inp -> portuguese, tar -> english\n",
        "  for (batch, (inp, tar)) in enumerate(train_batches):\n",
        "    train_step(inp, tar)\n",
        "\n",
        "    if batch % 50 == 0:\n",
        "      print(f'Epoch {epoch + 1} Batch {batch} Loss {train_loss.result():.4f} Accuracy {train_accuracy.result():.4f}')\n",
        "\n",
        "  if (epoch + 1) % 3 == 0:\n",
        "    ckpt_save_path = ckpt_manager.save()\n",
        "    print(f'Saving checkpoint for epoch {epoch+1} at {ckpt_save_path}')\n",
        "\n",
        "  print(f'Epoch {epoch + 1} Loss {train_loss.result():.4f} Accuracy {train_accuracy.result():.4f}')\n",
        "\n",
        "  print(f'Time taken for 1 epoch: {time.time() - start:.2f} secs\\n')"
      ]
    },
    {
      "cell_type": "markdown",
      "metadata": {
        "id": "QfcsSWswSdGV"
      },
      "source": [
        "### Run inference"
      ]
    },
    {
      "cell_type": "markdown",
      "metadata": {
        "id": "y6APsFrgImLW"
      },
      "source": [
        "The following steps are used for inference:\n",
        "\n",
        "* Encode the input sentence using the Portuguese tokenizer (`tokenizers.pt`). This is the encoder input.\n",
        "* The decoder input is initialized to the `[START]` token.\n",
        "* Calculate the padding masks and the look ahead masks.\n",
        "* The `decoder` then outputs the predictions by looking at the `encoder output` and its own output (self-attention).\n",
        "* Concatenate the predicted token to the decoder input and pass it to the decoder.\n",
        "* In this approach, the decoder predicts the next token based on the previous tokens it predicted."
      ]
    },
    {
      "cell_type": "markdown",
      "metadata": {
        "id": "-FQmQwtv9-kk"
      },
      "source": [
        "Note: The model is optimized for _efficient training_ and makes a next-token prediction for each token in the output simultaneously. This is redundant during inference, and only the last prediction is used.  This model can be made more efficient for inference if you only calculate the last prediction when running in inference mode (`training=False`)."
      ]
    },
    {
      "cell_type": "code",
      "execution_count": null,
      "metadata": {
        "id": "5buvMlnvyrFm"
      },
      "outputs": [],
      "source": [
        "class Translator(tf.Module):\n",
        "    def __init__(self, src_vocab, dest_vocab, transformer):\n",
        "        self.src_lookup = tf.keras.layers.StringLookup(vocabulary=src_vocab)\n",
        "        self.dest_lookup = tf.keras.layers.StringLookup(vocabulary=dest_vocab, invert=True)\n",
        "        self.transformer = transformer\n",
        "\n",
        "    def __call__(self, word, max_length=20):\n",
        "        # input sentence is portuguese, hence adding the start and end token\n",
        "        assert isinstance(word, tf.Tensor)\n",
        "        if len(word.shape) == 0:\n",
        "            word = word[tf.newaxis]\n",
        "        \n",
        "        word_bytes = tf.strings.unicode_split(word, 'UTF-8')\n",
        "        \n",
        "        encoder_input = self.src_lookup(word_bytes).to_tensor()\n",
        "        output_array = tf.TensorArray(dtype=tf.int64, size=0, dynamic_size=True)\n",
        "        output_array = output_array.write(0, [1])\n",
        "\n",
        "        for i in tf.range(max_length):\n",
        "            output = tf.transpose(output_array.stack())\n",
        "            predictions, _ = self.transformer([encoder_input, output], training=False)\n",
        "\n",
        "            # select the last token from the seq_len dimension\n",
        "            predictions = predictions[:, -1:, :]  # (batch_size, 1, vocab_size)\n",
        "\n",
        "            predicted_id = tf.argmax(predictions, axis=-1)\n",
        "\n",
        "            # concatentate the predicted_id to the output which is given to the decoder\n",
        "            # as its input.\n",
        "            output_array = output_array.write(i+1, predicted_id[0])\n",
        "\n",
        "            if predicted_id == 2:\n",
        "                break\n",
        "\n",
        "        output = tf.transpose(output_array.stack())\n",
        "        # output.shape (1, tokens)\n",
        "        text = tf.strings.join(self.dest_lookup(output)[0])  # shape: ()\n",
        "\n",
        "        return text"
      ]
    },
    {
      "cell_type": "markdown",
      "metadata": {
        "id": "ofUWszmY3szZ"
      },
      "source": [
        "Create an instance of this `Translator` class, and try it out a few times:"
      ]
    },
    {
      "cell_type": "code",
      "execution_count": null,
      "metadata": {
        "id": "4OR2D4EXeIRY"
      },
      "outputs": [],
      "source": [
        "translator = Translator(fi_chars, pe_chars, transformer)"
      ]
    },
    {
      "cell_type": "code",
      "execution_count": null,
      "metadata": {
        "id": "lU2_yG_vBGza"
      },
      "outputs": [],
      "source": [
        "def print_translation(sentence, tokens, ground_truth):\n",
        "    print(f'{\"Input:\":15s}: {sentence}')\n",
        "    print(f'{\"Prediction\":15s}: {tokens.numpy().decode(\"utf-8\")}')\n",
        "    print(f'{\"Ground truth\":15s}: {ground_truth}')"
      ]
    },
    {
      "cell_type": "code",
      "execution_count": null,
      "metadata": {
        "id": "YsxrAlvFG8SZ",
        "outputId": "bca5816a-8450-4785-909b-1183b0ed4c1d"
      },
      "outputs": [
        {
          "name": "stdout",
          "output_type": "stream",
          "text": [
            "Input:         : man\n",
            "Prediction     : <من>\n",
            "Ground truth   : بیا\n"
          ]
        }
      ],
      "source": [
        "sentence = \"man\"\n",
        "ground_truth = \"بیا\"\n",
        "\n",
        "translated_text = translator(tf.constant(sentence))\n",
        "print_translation(sentence, translated_text, ground_truth)"
      ]
    },
    {
      "cell_type": "code",
      "execution_count": null,
      "metadata": {
        "id": "Wp_Aqi-QnKRG"
      },
      "outputs": [],
      "source": [
        "def translate_sentence(sentence):\n",
        "    target_seq = []\n",
        "    for word in sentence.split():\n",
        "        translated_word = translator(tf.constant(word)).numpy().decode(\"utf-8\")[1:-1]\n",
        "        target_seq.append(translated_word)\n",
        "    return ' '.join(target_seq)"
      ]
    },
    {
      "cell_type": "code",
      "execution_count": null,
      "metadata": {
        "id": "EKN7XTvUnKRG"
      },
      "outputs": [],
      "source": [
        "test_df = pd.read_csv('dataset/test.csv')"
      ]
    },
    {
      "cell_type": "code",
      "execution_count": null,
      "metadata": {
        "id": "vteDzwC3nKRG"
      },
      "outputs": [],
      "source": [
        "test_fi_df = test_df[test_df['Persian'].isnull()]\n",
        "test_pe_df = test_df[test_df['Finglish'].isnull()]"
      ]
    },
    {
      "cell_type": "code",
      "execution_count": null,
      "metadata": {
        "id": "PWC8wLfRnKRG",
        "outputId": "ff9d1cba-efa6-4da1-e9db-94bbbd2a6281"
      },
      "outputs": [
        {
          "name": "stderr",
          "output_type": "stream",
          "text": [
            "<ipython-input-124-949c069a1af5>:1: SettingWithCopyWarning: \n",
            "A value is trying to be set on a copy of a slice from a DataFrame.\n",
            "Try using .loc[row_indexer,col_indexer] = value instead\n",
            "\n",
            "See the caveats in the documentation: https://pandas.pydata.org/pandas-docs/stable/user_guide/indexing.html#returning-a-view-versus-a-copy\n",
            "  test_fi_df['Persian'] = [translate_sentence(s) for s in test_fi_df['Finglish']]\n"
          ]
        }
      ],
      "source": [
        "test_fi_df['Persian'] = [translate_sentence(s) for s in test_fi_df['Finglish']]"
      ]
    },
    {
      "cell_type": "code",
      "execution_count": null,
      "metadata": {
        "id": "RFZgkDBknKRH"
      },
      "outputs": [],
      "source": [
        "test_fi_df = test_fi_df.reset_index(drop=True)"
      ]
    },
    {
      "cell_type": "code",
      "execution_count": null,
      "metadata": {
        "id": "szUw2zdVnKRH",
        "outputId": "406557ca-6fa3-4f27-d0ba-154e23d20e35"
      },
      "outputs": [
        {
          "data": {
            "text/html": [
              "<div>\n",
              "<style scoped>\n",
              "    .dataframe tbody tr th:only-of-type {\n",
              "        vertical-align: middle;\n",
              "    }\n",
              "\n",
              "    .dataframe tbody tr th {\n",
              "        vertical-align: top;\n",
              "    }\n",
              "\n",
              "    .dataframe thead th {\n",
              "        text-align: right;\n",
              "    }\n",
              "</style>\n",
              "<table border=\"1\" class=\"dataframe\">\n",
              "  <thead>\n",
              "    <tr style=\"text-align: right;\">\n",
              "      <th></th>\n",
              "      <th>Unnamed: 0</th>\n",
              "      <th>Finglish</th>\n",
              "      <th>Persian</th>\n",
              "    </tr>\n",
              "  </thead>\n",
              "  <tbody>\n",
              "    <tr>\n",
              "      <th>0</th>\n",
              "      <td>0</td>\n",
              "      <td>man faghat mikhastam begouyam man.</td>\n",
              "      <td>من فگهت مخستم بگویم من</td>\n",
              "    </tr>\n",
              "    <tr>\n",
              "      <th>1</th>\n",
              "      <td>1</td>\n",
              "      <td>edi joei aan raa dide?</td>\n",
              "      <td>ید جوئه آن را ددی</td>\n",
              "    </tr>\n",
              "    <tr>\n",
              "      <th>2</th>\n",
              "      <td>2</td>\n",
              "      <td>va maa do emtiyaaz aghabim.</td>\n",
              "      <td>ووا ما دو ممتیاز گهبمم</td>\n",
              "    </tr>\n",
              "    <tr>\n",
              "      <th>3</th>\n",
              "      <td>3</td>\n",
              "      <td>tavousi dar daasht par ha ye khod ra mikand va...</td>\n",
              "      <td>تووس در داشت پر ها ییه کود را مکند ووا دور مرختت</td>\n",
              "    </tr>\n",
              "    <tr>\n",
              "      <th>4</th>\n",
              "      <td>4</td>\n",
              "      <td>man yek daanesh pazhoohe haafeze hastam.</td>\n",
              "      <td>من یک دانش پژوهه هافزه هستم</td>\n",
              "    </tr>\n",
              "    <tr>\n",
              "      <th>...</th>\n",
              "      <td>...</td>\n",
              "      <td>...</td>\n",
              "      <td>...</td>\n",
              "    </tr>\n",
              "    <tr>\n",
              "      <th>111</th>\n",
              "      <td>111</td>\n",
              "      <td>parkhaashgari nemikonan!</td>\n",
              "      <td>پرخاشگر نمککونن</td>\n",
              "    </tr>\n",
              "    <tr>\n",
              "      <th>112</th>\n",
              "      <td>112</td>\n",
              "      <td>shohar jan, nailon e meshki e koochak darim?</td>\n",
              "      <td>شوهر جن نللن یی مشک یی کوچک درم</td>\n",
              "    </tr>\n",
              "    <tr>\n",
              "      <th>113</th>\n",
              "      <td>113</td>\n",
              "      <td>ye khorde azash khosham oomad.</td>\n",
              "      <td>ییه خرده زاش خوشم وومد</td>\n",
              "    </tr>\n",
              "    <tr>\n",
              "      <th>114</th>\n",
              "      <td>114</td>\n",
              "      <td>va badtar az aan, hengaami ke maa zavaabet va ...</td>\n",
              "      <td>ووا بدتر  آن هنگام کیثه ما زوابت ووا شرایت را ...</td>\n",
              "    </tr>\n",
              "    <tr>\n",
              "      <th>115</th>\n",
              "      <td>115</td>\n",
              "      <td>oun kheili bad masaj midahad.</td>\n",
              "      <td>ونن کهل بد مسج مدحد</td>\n",
              "    </tr>\n",
              "  </tbody>\n",
              "</table>\n",
              "<p>116 rows × 3 columns</p>\n",
              "</div>"
            ],
            "text/plain": [
              "     Unnamed: 0                                           Finglish  \\\n",
              "0             0                 man faghat mikhastam begouyam man.   \n",
              "1             1                             edi joei aan raa dide?   \n",
              "2             2                        va maa do emtiyaaz aghabim.   \n",
              "3             3  tavousi dar daasht par ha ye khod ra mikand va...   \n",
              "4             4           man yek daanesh pazhoohe haafeze hastam.   \n",
              "..          ...                                                ...   \n",
              "111         111                           parkhaashgari nemikonan!   \n",
              "112         112       shohar jan, nailon e meshki e koochak darim?   \n",
              "113         113                     ye khorde azash khosham oomad.   \n",
              "114         114  va badtar az aan, hengaami ke maa zavaabet va ...   \n",
              "115         115                      oun kheili bad masaj midahad.   \n",
              "\n",
              "                                               Persian  \n",
              "0                               من فگهت مخستم بگویم من  \n",
              "1                                    ید جوئه آن را ددی  \n",
              "2                               ووا ما دو ممتیاز گهبمم  \n",
              "3     تووس در داشت پر ها ییه کود را مکند ووا دور مرختت  \n",
              "4                          من یک دانش پژوهه هافزه هستم  \n",
              "..                                                 ...  \n",
              "111                                    پرخاشگر نمککونن  \n",
              "112                    شوهر جن نللن یی مشک یی کوچک درم  \n",
              "113                             ییه خرده زاش خوشم وومد  \n",
              "114  ووا بدتر  آن هنگام کیثه ما زوابت ووا شرایت را ...  \n",
              "115                                ونن کهل بد مسج مدحد  \n",
              "\n",
              "[116 rows x 3 columns]"
            ]
          },
          "execution_count": 130,
          "metadata": {},
          "output_type": "execute_result"
        }
      ],
      "source": [
        "test_fi_df.to_csv()"
      ]
    },
    {
      "cell_type": "markdown",
      "metadata": {
        "id": "mOyiOetL2l60"
      },
      "source": [
        "## Export"
      ]
    },
    {
      "cell_type": "markdown",
      "metadata": {
        "id": "YTK3g2UL2oMc"
      },
      "source": [
        "That inference model is working, so next you'll export it as a `tf.saved_model`.\n",
        "\n",
        "To do that, wrap it in yet another `tf.Module` sub-class, this time with a `tf.function` on the `__call__` method:"
      ]
    },
    {
      "cell_type": "code",
      "execution_count": null,
      "metadata": {
        "execution": {
          "iopub.execute_input": "2021-11-02T15:48:24.754512Z",
          "iopub.status.busy": "2021-11-02T15:48:24.753901Z",
          "iopub.status.idle": "2021-11-02T15:48:24.756061Z",
          "shell.execute_reply": "2021-11-02T15:48:24.756440Z"
        },
        "id": "GRmzkibLusQi"
      },
      "outputs": [],
      "source": [
        "class ExportTranslator(tf.Module):\n",
        "    def __init__(self, translator):\n",
        "        self.translator = translator\n",
        "\n",
        "    @tf.function(input_signature=[tf.TensorSpec(shape=[], dtype=tf.string)])\n",
        "    def __call__(self, sentence):\n",
        "        (result, \n",
        "         tokens,\n",
        "         attention_weights) = self.translator(sentence, max_length=100)\n",
        "\n",
        "    return result"
      ]
    },
    {
      "cell_type": "markdown",
      "metadata": {
        "id": "O9f_pmEA4kql"
      },
      "source": [
        "In the above `tf.function` only the output sentence is returned. Thanks to the [non-strict execution](https://tensorflow.org/guide/intro_to_graphs) in `tf.function` any unnecessary values are never computed."
      ]
    },
    {
      "cell_type": "code",
      "execution_count": null,
      "metadata": {
        "execution": {
          "iopub.execute_input": "2021-11-02T15:48:24.760525Z",
          "iopub.status.busy": "2021-11-02T15:48:24.759924Z",
          "iopub.status.idle": "2021-11-02T15:48:24.762546Z",
          "shell.execute_reply": "2021-11-02T15:48:24.762080Z"
        },
        "id": "EfomoJDP2n5n"
      },
      "outputs": [],
      "source": [
        "translator = ExportTranslator(translator)"
      ]
    },
    {
      "cell_type": "markdown",
      "metadata": {
        "id": "SUfoCWPS9LuB"
      },
      "source": [
        "Since the model is decoding the predictions using `tf.argmax` the predictions are deterministic. The original model and one reloaded from its `SavedModel` should give identical predictions:"
      ]
    },
    {
      "cell_type": "code",
      "execution_count": null,
      "metadata": {
        "execution": {
          "iopub.execute_input": "2021-11-02T15:48:24.767963Z",
          "iopub.status.busy": "2021-11-02T15:48:24.767043Z",
          "iopub.status.idle": "2021-11-02T15:48:30.226637Z",
          "shell.execute_reply": "2021-11-02T15:48:30.227125Z"
        },
        "id": "hAlqyycz3IYL",
        "outputId": "51ef916d-28f4-4697-9cf1-f7b820824d11"
      },
      "outputs": [
        {
          "data": {
            "text/plain": [
              "b'this is the first book i did .'"
            ]
          },
          "execution_count": 73,
          "metadata": {},
          "output_type": "execute_result"
        }
      ],
      "source": [
        "translator(\"este é o primeiro livro que eu fiz.\").numpy()"
      ]
    },
    {
      "cell_type": "code",
      "execution_count": null,
      "metadata": {
        "execution": {
          "iopub.execute_input": "2021-11-02T15:48:30.241131Z",
          "iopub.status.busy": "2021-11-02T15:48:30.235682Z",
          "iopub.status.idle": "2021-11-02T15:48:55.647793Z",
          "shell.execute_reply": "2021-11-02T15:48:55.648229Z"
        },
        "id": "ar3LO-Vuvlnv",
        "outputId": "d63d9559-2622-4626-9be3-e895bbe91aa0"
      },
      "outputs": [
        {
          "name": "stderr",
          "output_type": "stream",
          "text": [
            "2021-11-02 15:48:30.232789: W tensorflow/python/util/util.cc:348] Sets are not currently considered sequences, but this may change in the future, so consider avoiding using them.\n",
            "WARNING:absl:Found untraced functions such as embedding_4_layer_call_and_return_conditional_losses, embedding_4_layer_call_fn, dropout_37_layer_call_and_return_conditional_losses, dropout_37_layer_call_fn, embedding_5_layer_call_and_return_conditional_losses while saving (showing 5 of 560). These functions will not be directly callable after loading.\n"
          ]
        }
      ],
      "source": [
        "tf.saved_model.save(translator, export_dir='translator')"
      ]
    },
    {
      "cell_type": "code",
      "execution_count": null,
      "metadata": {
        "execution": {
          "iopub.execute_input": "2021-11-02T15:48:55.656679Z",
          "iopub.status.busy": "2021-11-02T15:48:55.656045Z",
          "iopub.status.idle": "2021-11-02T15:49:05.330187Z",
          "shell.execute_reply": "2021-11-02T15:49:05.330652Z"
        },
        "id": "8WUflwyT1SEF"
      },
      "outputs": [],
      "source": [
        "reloaded = tf.saved_model.load('translator')"
      ]
    },
    {
      "cell_type": "code",
      "execution_count": null,
      "metadata": {
        "execution": {
          "iopub.execute_input": "2021-11-02T15:49:05.335644Z",
          "iopub.status.busy": "2021-11-02T15:49:05.334799Z",
          "iopub.status.idle": "2021-11-02T15:49:07.605786Z",
          "shell.execute_reply": "2021-11-02T15:49:07.606223Z"
        },
        "id": "-sBTBWwR1XMr",
        "outputId": "035d886d-824b-44de-f114-096be3dee549"
      },
      "outputs": [
        {
          "data": {
            "text/plain": [
              "b'this is the first book i did .'"
            ]
          },
          "execution_count": 76,
          "metadata": {},
          "output_type": "execute_result"
        }
      ],
      "source": [
        "reloaded(\"este é o primeiro livro que eu fiz.\").numpy()"
      ]
    }
  ],
  "metadata": {
    "colab": {
      "collapsed_sections": [],
      "name": "seq2seq-fi.ipynb",
      "provenance": [],
      "include_colab_link": true
    },
    "kernelspec": {
      "display_name": "Python 3 (ipykernel)",
      "language": "python",
      "name": "python3"
    },
    "language_info": {
      "codemirror_mode": {
        "name": "ipython",
        "version": 3
      },
      "file_extension": ".py",
      "mimetype": "text/x-python",
      "name": "python",
      "nbconvert_exporter": "python",
      "pygments_lexer": "ipython3",
      "version": "3.8.10"
    }
  },
  "nbformat": 4,
  "nbformat_minor": 0
}