{
 "cells": [
  {
   "cell_type": "code",
   "execution_count": 38,
   "id": "dae51d6b-ae61-4190-a208-bfbca2721ee6",
   "metadata": {},
   "outputs": [],
   "source": [
    "import numpy as np\n",
    "import pandas as pd\n",
    "import re\n",
    "import hazm"
   ]
  },
  {
   "cell_type": "code",
   "execution_count": 3,
   "id": "ad1c2e43-7283-48b1-8db7-3b3707f15cc7",
   "metadata": {},
   "outputs": [],
   "source": [
    "df = pd.read_csv('train.csv')"
   ]
  },
  {
   "cell_type": "code",
   "execution_count": 41,
   "id": "643b4574-85cb-43e7-8b42-4681cc43625d",
   "metadata": {},
   "outputs": [
    {
     "data": {
      "text/plain": [
       "'سلام بر تووو ای دوست!! بیا پیشم'"
      ]
     },
     "execution_count": 41,
     "metadata": {},
     "output_type": "execute_result"
    }
   ],
   "source": [
    "(\"سلام بر تووو ای دوست!!   بیا پیشمٌٌٍ\")"
   ]
  },
  {
   "cell_type": "code",
   "execution_count": 119,
   "id": "bac54889-a359-45a5-922a-f31c9d12ecab",
   "metadata": {},
   "outputs": [],
   "source": [
    "def correct(word, fing):\n",
    "    fing = str.lower(fing)\n",
    "    word = re.sub('[\\d,!,,»,,«,\\-,\\.,:,ـ,؟,،,\",\\,,٫]', '', word)\n",
    "    word = re.sub('ً','', word)\n",
    "    word = re.sub('َ','', word)\n",
    "    word = re.sub('ٔ','', word)\n",
    "    word = re.sub('ي','ى', word)\n",
    "    word = re.sub('ﮐ','ک', word)\n",
    "    word = re.sub('ﮔ','گ', word)\n",
    "    word = re.sub('ﯾ','ى', word)\n",
    "    word = re.sub('ﯿ','ى', word)\n",
    "    word = re.sub('ﺍ','ا', word)\n",
    "    word = re.sub('ﺎ','ا', word)\n",
    "    word = re.sub('ﺑ','ب', word)\n",
    "    word = re.sub('ﺒ','ب', word)\n",
    "    word = re.sub('ﺖ','ت', word)\n",
    "    word = re.sub('ﺘ','ت', word)\n",
    "    word = re.sub('ﺧ','خ', word)\n",
    "    word = re.sub('ﺩ','د', word)\n",
    "    word = re.sub('ﺪ','د', word)\n",
    "    word = re.sub('ﺭ','ر', word)\n",
    "    word = re.sub('ﺮ','ر', word)\n",
    "    word = re.sub('ﺴ','س', word)\n",
    "    word = re.sub('ﺷ','ش', word)\n",
    "    word = re.sub('ﺸ','ش', word)\n",
    "    word = re.sub('ﻋ','ع', word)\n",
    "    word = re.sub('ﻌ','ع', word)\n",
    "    word = re.sub('ﻢ','م', word)\n",
    "    word = re.sub('ﻤ','م', word)\n",
    "    word = re.sub('ﻥ','ن', word)\n",
    "    word = re.sub('ﻧ','ن', word)\n",
    "    word = re.sub('ﻭ','و', word)\n",
    "    word = re.sub('ﻮ','و', word)\n",
    "    word = re.sub('ى', 'ی', word)\n",
    "    \n",
    "    fing = re.sub(\"[\\d,\\.,\\,,!,\\-,',:,?]\", '', fing)\n",
    "    return word, fing"
   ]
  },
  {
   "cell_type": "code",
   "execution_count": 208,
   "id": "cb137cdb-7b61-449b-9c97-741d867b76d0",
   "metadata": {},
   "outputs": [],
   "source": [
    "word_fing = set()\n",
    "for index, row in df.iterrows():\n",
    "    if index in [1554, 732, 198, 771, 158, 308, 420, 425, 137, 1215, 293, 645, 999, 970, 101,\n",
    "                 376, 540, 130, 1179, 440, 416, 246, 1577, 1029, 844, 1399, 146, 1382, 426]:\n",
    "        continue\n",
    "    words = row['Persian'].split()\n",
    "    fings = row['Finglish'].split()\n",
    "    if len(words) == len(fings):\n",
    "        for i in range(len(words)):\n",
    "            word, fing = correct(words[i], fings[i])\n",
    "            if 'A' in word or word == '' or fing == '':\n",
    "                continue\n",
    "            if word == 'کنید' and fing == 'agar':\n",
    "                print(index)\n",
    "            word_fing.add((word, fing))"
   ]
  },
  {
   "cell_type": "code",
   "execution_count": 207,
   "id": "83cf0a0d-bfe5-4e9d-86bb-a0c82f2358b7",
   "metadata": {},
   "outputs": [],
   "source": [
    "out = pd.DataFrame(word_fing, columns=['Persian', 'Finglish'])\n",
    "out.to_csv('eval.csv')"
   ]
  }
 ],
 "metadata": {
  "kernelspec": {
   "display_name": "Python 3 (ipykernel)",
   "language": "python",
   "name": "python3"
  },
  "language_info": {
   "codemirror_mode": {
    "name": "ipython",
    "version": 3
   },
   "file_extension": ".py",
   "mimetype": "text/x-python",
   "name": "python",
   "nbconvert_exporter": "python",
   "pygments_lexer": "ipython3",
   "version": "3.8.12"
  }
 },
 "nbformat": 4,
 "nbformat_minor": 5
}
